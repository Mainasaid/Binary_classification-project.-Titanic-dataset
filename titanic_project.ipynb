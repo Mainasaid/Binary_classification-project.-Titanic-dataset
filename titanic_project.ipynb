{
 "cells": [
  {
   "cell_type": "code",
   "execution_count": 1,
   "id": "88f73cf7-463b-42bc-9998-4180a0f82209",
   "metadata": {},
   "outputs": [],
   "source": [
    "import numpy as np\n",
    "import pandas as pd\n",
    "import matplotlib.pyplot as plt\n",
    "import matplotlib as mpl\n",
    "%matplotlib inline"
   ]
  },
  {
   "cell_type": "code",
   "execution_count": 2,
   "id": "ed65014d-c99b-47e0-83d0-422ea4ff6ba4",
   "metadata": {},
   "outputs": [],
   "source": [
    "train_data = pd.read_csv(\"train.csv\")\n",
    "test_data = pd.read_csv(\"test.csv\")"
   ]
  },
  {
   "cell_type": "markdown",
   "id": "bcc1cf84-3463-4879-8e9b-0455b7c97d02",
   "metadata": {},
   "source": [
    "# Data Exploration"
   ]
  },
  {
   "cell_type": "code",
   "execution_count": 3,
   "id": "9e4f9365-f533-48e9-88ab-b383f0198b92",
   "metadata": {},
   "outputs": [
    {
     "data": {
      "text/html": [
       "<div>\n",
       "<style scoped>\n",
       "    .dataframe tbody tr th:only-of-type {\n",
       "        vertical-align: middle;\n",
       "    }\n",
       "\n",
       "    .dataframe tbody tr th {\n",
       "        vertical-align: top;\n",
       "    }\n",
       "\n",
       "    .dataframe thead th {\n",
       "        text-align: right;\n",
       "    }\n",
       "</style>\n",
       "<table border=\"1\" class=\"dataframe\">\n",
       "  <thead>\n",
       "    <tr style=\"text-align: right;\">\n",
       "      <th></th>\n",
       "      <th>PassengerId</th>\n",
       "      <th>Survived</th>\n",
       "      <th>Pclass</th>\n",
       "      <th>Name</th>\n",
       "      <th>Sex</th>\n",
       "      <th>Age</th>\n",
       "      <th>SibSp</th>\n",
       "      <th>Parch</th>\n",
       "      <th>Ticket</th>\n",
       "      <th>Fare</th>\n",
       "      <th>Cabin</th>\n",
       "      <th>Embarked</th>\n",
       "    </tr>\n",
       "  </thead>\n",
       "  <tbody>\n",
       "    <tr>\n",
       "      <th>0</th>\n",
       "      <td>1</td>\n",
       "      <td>0</td>\n",
       "      <td>3</td>\n",
       "      <td>Braund, Mr. Owen Harris</td>\n",
       "      <td>male</td>\n",
       "      <td>22.0</td>\n",
       "      <td>1</td>\n",
       "      <td>0</td>\n",
       "      <td>A/5 21171</td>\n",
       "      <td>7.2500</td>\n",
       "      <td>NaN</td>\n",
       "      <td>S</td>\n",
       "    </tr>\n",
       "    <tr>\n",
       "      <th>1</th>\n",
       "      <td>2</td>\n",
       "      <td>1</td>\n",
       "      <td>1</td>\n",
       "      <td>Cumings, Mrs. John Bradley (Florence Briggs Th...</td>\n",
       "      <td>female</td>\n",
       "      <td>38.0</td>\n",
       "      <td>1</td>\n",
       "      <td>0</td>\n",
       "      <td>PC 17599</td>\n",
       "      <td>71.2833</td>\n",
       "      <td>C85</td>\n",
       "      <td>C</td>\n",
       "    </tr>\n",
       "    <tr>\n",
       "      <th>2</th>\n",
       "      <td>3</td>\n",
       "      <td>1</td>\n",
       "      <td>3</td>\n",
       "      <td>Heikkinen, Miss. Laina</td>\n",
       "      <td>female</td>\n",
       "      <td>26.0</td>\n",
       "      <td>0</td>\n",
       "      <td>0</td>\n",
       "      <td>STON/O2. 3101282</td>\n",
       "      <td>7.9250</td>\n",
       "      <td>NaN</td>\n",
       "      <td>S</td>\n",
       "    </tr>\n",
       "    <tr>\n",
       "      <th>3</th>\n",
       "      <td>4</td>\n",
       "      <td>1</td>\n",
       "      <td>1</td>\n",
       "      <td>Futrelle, Mrs. Jacques Heath (Lily May Peel)</td>\n",
       "      <td>female</td>\n",
       "      <td>35.0</td>\n",
       "      <td>1</td>\n",
       "      <td>0</td>\n",
       "      <td>113803</td>\n",
       "      <td>53.1000</td>\n",
       "      <td>C123</td>\n",
       "      <td>S</td>\n",
       "    </tr>\n",
       "    <tr>\n",
       "      <th>4</th>\n",
       "      <td>5</td>\n",
       "      <td>0</td>\n",
       "      <td>3</td>\n",
       "      <td>Allen, Mr. William Henry</td>\n",
       "      <td>male</td>\n",
       "      <td>35.0</td>\n",
       "      <td>0</td>\n",
       "      <td>0</td>\n",
       "      <td>373450</td>\n",
       "      <td>8.0500</td>\n",
       "      <td>NaN</td>\n",
       "      <td>S</td>\n",
       "    </tr>\n",
       "  </tbody>\n",
       "</table>\n",
       "</div>"
      ],
      "text/plain": [
       "   PassengerId  Survived  Pclass  \\\n",
       "0            1         0       3   \n",
       "1            2         1       1   \n",
       "2            3         1       3   \n",
       "3            4         1       1   \n",
       "4            5         0       3   \n",
       "\n",
       "                                                Name     Sex   Age  SibSp  \\\n",
       "0                            Braund, Mr. Owen Harris    male  22.0      1   \n",
       "1  Cumings, Mrs. John Bradley (Florence Briggs Th...  female  38.0      1   \n",
       "2                             Heikkinen, Miss. Laina  female  26.0      0   \n",
       "3       Futrelle, Mrs. Jacques Heath (Lily May Peel)  female  35.0      1   \n",
       "4                           Allen, Mr. William Henry    male  35.0      0   \n",
       "\n",
       "   Parch            Ticket     Fare Cabin Embarked  \n",
       "0      0         A/5 21171   7.2500   NaN        S  \n",
       "1      0          PC 17599  71.2833   C85        C  \n",
       "2      0  STON/O2. 3101282   7.9250   NaN        S  \n",
       "3      0            113803  53.1000  C123        S  \n",
       "4      0            373450   8.0500   NaN        S  "
      ]
     },
     "execution_count": 3,
     "metadata": {},
     "output_type": "execute_result"
    }
   ],
   "source": [
    "train_data.head()"
   ]
  },
  {
   "cell_type": "code",
   "execution_count": 4,
   "id": "763ba62d-8795-44a8-80ea-7266a3e9a7ef",
   "metadata": {},
   "outputs": [
    {
     "name": "stdout",
     "output_type": "stream",
     "text": [
      "<class 'pandas.core.frame.DataFrame'>\n",
      "RangeIndex: 891 entries, 0 to 890\n",
      "Data columns (total 12 columns):\n",
      " #   Column       Non-Null Count  Dtype  \n",
      "---  ------       --------------  -----  \n",
      " 0   PassengerId  891 non-null    int64  \n",
      " 1   Survived     891 non-null    int64  \n",
      " 2   Pclass       891 non-null    int64  \n",
      " 3   Name         891 non-null    object \n",
      " 4   Sex          891 non-null    object \n",
      " 5   Age          714 non-null    float64\n",
      " 6   SibSp        891 non-null    int64  \n",
      " 7   Parch        891 non-null    int64  \n",
      " 8   Ticket       891 non-null    object \n",
      " 9   Fare         891 non-null    float64\n",
      " 10  Cabin        204 non-null    object \n",
      " 11  Embarked     889 non-null    object \n",
      "dtypes: float64(2), int64(5), object(5)\n",
      "memory usage: 83.7+ KB\n"
     ]
    }
   ],
   "source": [
    "train_data.info()"
   ]
  },
  {
   "cell_type": "code",
   "execution_count": 5,
   "id": "c6b624bb-1d44-4b92-8509-4ee4e311ccae",
   "metadata": {},
   "outputs": [
    {
     "name": "stdout",
     "output_type": "stream",
     "text": [
      "<class 'pandas.core.frame.DataFrame'>\n",
      "RangeIndex: 418 entries, 0 to 417\n",
      "Data columns (total 11 columns):\n",
      " #   Column       Non-Null Count  Dtype  \n",
      "---  ------       --------------  -----  \n",
      " 0   PassengerId  418 non-null    int64  \n",
      " 1   Pclass       418 non-null    int64  \n",
      " 2   Name         418 non-null    object \n",
      " 3   Sex          418 non-null    object \n",
      " 4   Age          332 non-null    float64\n",
      " 5   SibSp        418 non-null    int64  \n",
      " 6   Parch        418 non-null    int64  \n",
      " 7   Ticket       418 non-null    object \n",
      " 8   Fare         417 non-null    float64\n",
      " 9   Cabin        91 non-null     object \n",
      " 10  Embarked     418 non-null    object \n",
      "dtypes: float64(2), int64(4), object(5)\n",
      "memory usage: 36.1+ KB\n"
     ]
    }
   ],
   "source": [
    "test_data.info()"
   ]
  },
  {
   "cell_type": "markdown",
   "id": "5852c6b6-9b22-4db2-8348-0cd905ee2b6f",
   "metadata": {},
   "source": [
    "it is obvious we have missing values in both the training and test set, for now lets focus on the training data: let's visualize it:"
   ]
  },
  {
   "cell_type": "code",
   "execution_count": 6,
   "id": "0e1f302d-bb30-4be9-baa9-f9a929a30560",
   "metadata": {},
   "outputs": [],
   "source": [
    "import seaborn as sns "
   ]
  },
  {
   "cell_type": "code",
   "execution_count": 7,
   "id": "b9e389ab-5363-42e2-adc0-0e5f5f75ef4b",
   "metadata": {},
   "outputs": [
    {
     "data": {
      "text/plain": [
       "<Axes: >"
      ]
     },
     "execution_count": 7,
     "metadata": {},
     "output_type": "execute_result"
    },
    {
     "data": {
      "image/png": "[encoded data removed]",
      "text/plain": [
       "<Figure size 640x480 with 1 Axes>"
      ]
     },
     "metadata": {},
     "output_type": "display_data"
    }
   ],
   "source": [
    "sns.heatmap(train_data.isnull(), yticklabels=False, cbar=False, cmap='viridis')"
   ]
  },
  {
   "cell_type": "markdown",
   "id": "940413b0-1908-4a3c-a525-aec8ab34c6de",
   "metadata": {},
   "source": [
    "we are missing some age information, alot of carbin information and few embarked "
   ]
  },
  {
   "cell_type": "code",
   "execution_count": 8,
   "id": "cafa90a8-e956-456a-adef-68758535c102",
   "metadata": {},
   "outputs": [
    {
     "data": {
      "text/html": [
       "<div>\n",
       "<style scoped>\n",
       "    .dataframe tbody tr th:only-of-type {\n",
       "        vertical-align: middle;\n",
       "    }\n",
       "\n",
       "    .dataframe tbody tr th {\n",
       "        vertical-align: top;\n",
       "    }\n",
       "\n",
       "    .dataframe thead th {\n",
       "        text-align: right;\n",
       "    }\n",
       "</style>\n",
       "<table border=\"1\" class=\"dataframe\">\n",
       "  <thead>\n",
       "    <tr style=\"text-align: right;\">\n",
       "      <th></th>\n",
       "      <th>PassengerId</th>\n",
       "      <th>Survived</th>\n",
       "      <th>Pclass</th>\n",
       "      <th>Name</th>\n",
       "      <th>Sex</th>\n",
       "      <th>Age</th>\n",
       "      <th>SibSp</th>\n",
       "      <th>Parch</th>\n",
       "      <th>Ticket</th>\n",
       "      <th>Fare</th>\n",
       "      <th>Cabin</th>\n",
       "      <th>Embarked</th>\n",
       "    </tr>\n",
       "  </thead>\n",
       "  <tbody>\n",
       "    <tr>\n",
       "      <th>0</th>\n",
       "      <td>1</td>\n",
       "      <td>0</td>\n",
       "      <td>3</td>\n",
       "      <td>Braund, Mr. Owen Harris</td>\n",
       "      <td>male</td>\n",
       "      <td>22.0</td>\n",
       "      <td>1</td>\n",
       "      <td>0</td>\n",
       "      <td>A/5 21171</td>\n",
       "      <td>7.2500</td>\n",
       "      <td>NaN</td>\n",
       "      <td>S</td>\n",
       "    </tr>\n",
       "    <tr>\n",
       "      <th>1</th>\n",
       "      <td>2</td>\n",
       "      <td>1</td>\n",
       "      <td>1</td>\n",
       "      <td>Cumings, Mrs. John Bradley (Florence Briggs Th...</td>\n",
       "      <td>female</td>\n",
       "      <td>38.0</td>\n",
       "      <td>1</td>\n",
       "      <td>0</td>\n",
       "      <td>PC 17599</td>\n",
       "      <td>71.2833</td>\n",
       "      <td>C85</td>\n",
       "      <td>C</td>\n",
       "    </tr>\n",
       "  </tbody>\n",
       "</table>\n",
       "</div>"
      ],
      "text/plain": [
       "   PassengerId  Survived  Pclass  \\\n",
       "0            1         0       3   \n",
       "1            2         1       1   \n",
       "\n",
       "                                                Name     Sex   Age  SibSp  \\\n",
       "0                            Braund, Mr. Owen Harris    male  22.0      1   \n",
       "1  Cumings, Mrs. John Bradley (Florence Briggs Th...  female  38.0      1   \n",
       "\n",
       "   Parch     Ticket     Fare Cabin Embarked  \n",
       "0      0  A/5 21171   7.2500   NaN        S  \n",
       "1      0   PC 17599  71.2833   C85        C  "
      ]
     },
     "execution_count": 8,
     "metadata": {},
     "output_type": "execute_result"
    }
   ],
   "source": [
    "train_data.head(2)"
   ]
  },
  {
   "cell_type": "code",
   "execution_count": 9,
   "id": "74bfac4b-51b6-4de6-9041-c6c92de24fb6",
   "metadata": {},
   "outputs": [
    {
     "data": {
      "text/plain": [
       "<Axes: xlabel='Survived', ylabel='count'>"
      ]
     },
     "execution_count": 9,
     "metadata": {},
     "output_type": "execute_result"
    },
    {
     "data": {
      "image/png": "[encoded data removed]",
      "text/plain": [
       "<Figure size 640x480 with 1 Axes>"
      ]
     },
     "metadata": {},
     "output_type": "display_data"
    }
   ],
   "source": [
    "#let us explore more\n",
    "sns.countplot(data=train_data, x='Survived', hue='Sex', palette='RdBu_r')"
   ]
  },
  {
   "cell_type": "code",
   "execution_count": 10,
   "id": "e6a3ea34-d43b-49dc-b6f1-b29988c7d823",
   "metadata": {},
   "outputs": [
    {
     "data": {
      "text/plain": [
       "Sex\n",
       "male      577\n",
       "female    314\n",
       "Name: count, dtype: int64"
      ]
     },
     "execution_count": 10,
     "metadata": {},
     "output_type": "execute_result"
    }
   ],
   "source": [
    "train_data['Sex'].value_counts()"
   ]
  },
  {
   "cell_type": "code",
   "execution_count": 11,
   "id": "8a924fa2-5a3e-44eb-a3a0-e0333d82ff8e",
   "metadata": {},
   "outputs": [
    {
     "data": {
      "text/plain": [
       "<Axes: xlabel='Sex', ylabel='Survived'>"
      ]
     },
     "execution_count": 11,
     "metadata": {},
     "output_type": "execute_result"
    },
    {
     "data": {
      "image/png": "[encoded data removed]",
      "text/plain": [
       "<Figure size 640x480 with 1 Axes>"
      ]
     },
     "metadata": {},
     "output_type": "display_data"
    }
   ],
   "source": [
    "sns.barplot(data=train_data,x='Sex', y='Survived')"
   ]
  },
  {
   "cell_type": "code",
   "execution_count": 12,
   "id": "9e97a9da-4802-4247-9c56-8737ba012051",
   "metadata": {},
   "outputs": [
    {
     "data": {
      "text/plain": [
       "<Axes: xlabel='Sex', ylabel='count'>"
      ]
     },
     "execution_count": 12,
     "metadata": {},
     "output_type": "execute_result"
    },
    {
     "data": {
      "image/png": "[encoded data removed]",
      "text/plain": [
       "<Figure size 640x480 with 1 Axes>"
      ]
     },
     "metadata": {},
     "output_type": "display_data"
    }
   ],
   "source": [
    "sns.countplot(data=train_data, x='Sex')"
   ]
  },
  {
   "cell_type": "markdown",
   "id": "4a0a955d-c4de-4f6f-8ee0-88ffe00e0f49",
   "metadata": {},
   "source": [
    "Female has a significantly higher survival chance than male. Most female passengers survived, while most male passengers did not."
   ]
  },
  {
   "cell_type": "code",
   "execution_count": 13,
   "id": "96f0eb57-e8df-4e55-9f48-155541395706",
   "metadata": {},
   "outputs": [
    {
     "data": {
      "text/plain": [
       "<Axes: xlabel='Survived', ylabel='count'>"
      ]
     },
     "execution_count": 13,
     "metadata": {},
     "output_type": "execute_result"
    },
    {
     "data": {
      "image/png": "[encoded data removed]",
      "text/plain": [
       "<Figure size 640x480 with 1 Axes>"
      ]
     },
     "metadata": {},
     "output_type": "display_data"
    }
   ],
   "source": [
    "# Let's explore the passenger class:\n",
    "sns.countplot(data=train_data, x='Survived', hue='Pclass', palette='viridis')"
   ]
  },
  {
   "cell_type": "markdown",
   "id": "f9466b3d-211c-42b2-af6c-041e6036c5c1",
   "metadata": {},
   "source": [
    "There are far more deaths in the 3rd class than the other classes. And there are also more survival in the 1st class.Lets check the total number of passenger in each class:"
   ]
  },
  {
   "cell_type": "code",
   "execution_count": 14,
   "id": "880bf7a3-1dad-4801-b2b0-47e45246bdeb",
   "metadata": {},
   "outputs": [],
   "source": [
    "def count(Class):\n",
    "    first = 0\n",
    "    second = 0\n",
    "    third = 0\n",
    "    for passenger in Class:\n",
    "        if passenger == 1:\n",
    "            first += 1\n",
    "        elif passenger == 2:\n",
    "            second += 1\n",
    "        else:\n",
    "            third +=1\n",
    "    print(\" Total number of passengers in First class is \",first,\", Second class is \", second,\", And Third class is \", third)"
   ]
  },
  {
   "cell_type": "code",
   "execution_count": 15,
   "id": "7a561e9c-ee58-4ab7-a145-70ce0fabd9f1",
   "metadata": {},
   "outputs": [
    {
     "name": "stdout",
     "output_type": "stream",
     "text": [
      " Total number of passengers in First class is  216 , Second class is  184 , And Third class is  491\n"
     ]
    }
   ],
   "source": [
    "count(train_data['Pclass'])"
   ]
  },
  {
   "cell_type": "code",
   "execution_count": 16,
   "id": "370cf079-3bf3-4491-a1e7-9e3b2c191466",
   "metadata": {},
   "outputs": [
    {
     "data": {
      "text/plain": [
       "Pclass\n",
       "3    491\n",
       "1    216\n",
       "2    184\n",
       "Name: count, dtype: int64"
      ]
     },
     "execution_count": 16,
     "metadata": {},
     "output_type": "execute_result"
    }
   ],
   "source": [
    "train_data['Pclass'].value_counts()     # same results"
   ]
  },
  {
   "cell_type": "code",
   "execution_count": 17,
   "id": "e7af58ac-8473-4824-9e26-344278485f56",
   "metadata": {},
   "outputs": [
    {
     "data": {
      "text/plain": [
       "Survived\n",
       "1    0.62963\n",
       "0    0.37037\n",
       "Name: count, dtype: float64"
      ]
     },
     "execution_count": 17,
     "metadata": {},
     "output_type": "execute_result"
    }
   ],
   "source": [
    "# % of survival in 1st class is 62%\n",
    "train_data[train_data[\"Pclass\"] == 1][\"Survived\"].value_counts() / sum(train_data['Pclass']==1)  "
   ]
  },
  {
   "cell_type": "code",
   "execution_count": 18,
   "id": "3039d948-3d0a-46d9-9592-56cfd0fbe596",
   "metadata": {},
   "outputs": [
    {
     "data": {
      "text/plain": [
       "Survived\n",
       "0    0.527174\n",
       "1    0.472826\n",
       "Name: count, dtype: float64"
      ]
     },
     "execution_count": 18,
     "metadata": {},
     "output_type": "execute_result"
    }
   ],
   "source": [
    "# % of survival in 2st class is 47%\n",
    "train_data[train_data[\"Pclass\"] == 2][\"Survived\"].value_counts() / sum(train_data['Pclass']==2)  "
   ]
  },
  {
   "cell_type": "code",
   "execution_count": 19,
   "id": "8490277c-795b-4763-ad6d-2a1d850c750a",
   "metadata": {},
   "outputs": [
    {
     "data": {
      "text/plain": [
       "Survived\n",
       "0    0.757637\n",
       "1    0.242363\n",
       "Name: count, dtype: float64"
      ]
     },
     "execution_count": 19,
     "metadata": {},
     "output_type": "execute_result"
    }
   ],
   "source": [
    "# % of survival in 3rd class is only 24%\n",
    "train_data[train_data[\"Pclass\"] == 3][\"Survived\"].value_counts() / sum(train_data['Pclass']==3)  "
   ]
  },
  {
   "cell_type": "markdown",
   "id": "d99848b4-35af-4a0d-b09e-3f3bc8aa7a5a",
   "metadata": {},
   "source": [
    "62 percent survived in the first class, just 47 percent survived in the second class and as low as 24 percent survived in the third class. This shows that the class category plays a big role in the survival of the passenger."
   ]
  },
  {
   "cell_type": "code",
   "execution_count": 20,
   "id": "ded49d05-9749-4984-abe4-c72fef955bbc",
   "metadata": {},
   "outputs": [],
   "source": [
    "#lets look at age distribution of passengers:'\n",
    "#train_data['Age'].dropna().hist(bins=30)"
   ]
  },
  {
   "cell_type": "code",
   "execution_count": 21,
   "id": "42f03899-3833-4afe-af88-1b2306e46d3b",
   "metadata": {},
   "outputs": [
    {
     "data": {
      "text/plain": [
       "<seaborn.axisgrid.FacetGrid at 0x21224d34aa0>"
      ]
     },
     "execution_count": 21,
     "metadata": {},
     "output_type": "execute_result"
    },
    {
     "data": {
      "image/png": "[encoded data removed]",
      "text/plain": [
       "<Figure size 500x500 with 1 Axes>"
      ]
     },
     "metadata": {},
     "output_type": "display_data"
    }
   ],
   "source": [
    "sns.displot(train_data['Age'].dropna(), bins=30,kde=True)"
   ]
  },
  {
   "cell_type": "code",
   "execution_count": 22,
   "id": "f59bfe54-97af-4e3a-8d7c-97b8ba1f6e51",
   "metadata": {},
   "outputs": [
    {
     "data": {
      "text/plain": [
       "<Axes: xlabel='SibSp', ylabel='count'>"
      ]
     },
     "execution_count": 22,
     "metadata": {},
     "output_type": "execute_result"
    },
    {
     "data": {
      "image/png": "[encoded data removed]",
      "text/plain": [
       "<Figure size 640x480 with 1 Axes>"
      ]
     },
     "metadata": {},
     "output_type": "display_data"
    }
   ],
   "source": [
    " # Number of sibling and spouse onboard\n",
    "sns.countplot(train_data,x='SibSp')       "
   ]
  },
  {
   "cell_type": "code",
   "execution_count": 23,
   "id": "c131811e-09e2-443e-875f-71af9f383159",
   "metadata": {},
   "outputs": [
    {
     "data": {
      "text/plain": [
       "<Axes: xlabel='Parch', ylabel='count'>"
      ]
     },
     "execution_count": 23,
     "metadata": {},
     "output_type": "execute_result"
    },
    {
     "data": {
      "image/png": "[encoded data removed]",
      "text/plain": [
       "<Figure size 640x480 with 1 Axes>"
      ]
     },
     "metadata": {},
     "output_type": "display_data"
    }
   ],
   "source": [
    "# The numger of parents and children a passenger have aboard.\n",
    "sns.countplot(train_data, x='Parch')        "
   ]
  },
  {
   "cell_type": "code",
   "execution_count": 24,
   "id": "e6800178-8df4-40f6-8bbd-c1cc0532b62f",
   "metadata": {},
   "outputs": [
    {
     "data": {
      "text/html": [
       "<div>\n",
       "<style scoped>\n",
       "    .dataframe tbody tr th:only-of-type {\n",
       "        vertical-align: middle;\n",
       "    }\n",
       "\n",
       "    .dataframe tbody tr th {\n",
       "        vertical-align: top;\n",
       "    }\n",
       "\n",
       "    .dataframe thead th {\n",
       "        text-align: right;\n",
       "    }\n",
       "</style>\n",
       "<table border=\"1\" class=\"dataframe\">\n",
       "  <thead>\n",
       "    <tr style=\"text-align: right;\">\n",
       "      <th></th>\n",
       "      <th>Age</th>\n",
       "      <th>Fare</th>\n",
       "    </tr>\n",
       "  </thead>\n",
       "  <tbody>\n",
       "    <tr>\n",
       "      <th>Age</th>\n",
       "      <td>1.000000</td>\n",
       "      <td>0.096067</td>\n",
       "    </tr>\n",
       "    <tr>\n",
       "      <th>Fare</th>\n",
       "      <td>0.096067</td>\n",
       "      <td>1.000000</td>\n",
       "    </tr>\n",
       "  </tbody>\n",
       "</table>\n",
       "</div>"
      ],
      "text/plain": [
       "           Age      Fare\n",
       "Age   1.000000  0.096067\n",
       "Fare  0.096067  1.000000"
      ]
     },
     "execution_count": 24,
     "metadata": {},
     "output_type": "execute_result"
    }
   ],
   "source": [
    "train_data[['Age','Fare']].corr()"
   ]
  },
  {
   "cell_type": "code",
   "execution_count": 25,
   "id": "1afcac72-45a5-4abb-9c6c-ec5bc88617b4",
   "metadata": {},
   "outputs": [
    {
     "data": {
      "text/html": [
       "<div>\n",
       "<style scoped>\n",
       "    .dataframe tbody tr th:only-of-type {\n",
       "        vertical-align: middle;\n",
       "    }\n",
       "\n",
       "    .dataframe tbody tr th {\n",
       "        vertical-align: top;\n",
       "    }\n",
       "\n",
       "    .dataframe thead th {\n",
       "        text-align: right;\n",
       "    }\n",
       "</style>\n",
       "<table border=\"1\" class=\"dataframe\">\n",
       "  <thead>\n",
       "    <tr style=\"text-align: right;\">\n",
       "      <th></th>\n",
       "      <th>PassengerId</th>\n",
       "      <th>Survived</th>\n",
       "      <th>Pclass</th>\n",
       "      <th>Name</th>\n",
       "      <th>Sex</th>\n",
       "      <th>Age</th>\n",
       "      <th>SibSp</th>\n",
       "      <th>Parch</th>\n",
       "      <th>Ticket</th>\n",
       "      <th>Fare</th>\n",
       "      <th>Cabin</th>\n",
       "      <th>Embarked</th>\n",
       "    </tr>\n",
       "  </thead>\n",
       "  <tbody>\n",
       "    <tr>\n",
       "      <th>0</th>\n",
       "      <td>1</td>\n",
       "      <td>0</td>\n",
       "      <td>3</td>\n",
       "      <td>Braund, Mr. Owen Harris</td>\n",
       "      <td>male</td>\n",
       "      <td>22.0</td>\n",
       "      <td>1</td>\n",
       "      <td>0</td>\n",
       "      <td>A/5 21171</td>\n",
       "      <td>7.2500</td>\n",
       "      <td>NaN</td>\n",
       "      <td>S</td>\n",
       "    </tr>\n",
       "    <tr>\n",
       "      <th>1</th>\n",
       "      <td>2</td>\n",
       "      <td>1</td>\n",
       "      <td>1</td>\n",
       "      <td>Cumings, Mrs. John Bradley (Florence Briggs Th...</td>\n",
       "      <td>female</td>\n",
       "      <td>38.0</td>\n",
       "      <td>1</td>\n",
       "      <td>0</td>\n",
       "      <td>PC 17599</td>\n",
       "      <td>71.2833</td>\n",
       "      <td>C85</td>\n",
       "      <td>C</td>\n",
       "    </tr>\n",
       "  </tbody>\n",
       "</table>\n",
       "</div>"
      ],
      "text/plain": [
       "   PassengerId  Survived  Pclass  \\\n",
       "0            1         0       3   \n",
       "1            2         1       1   \n",
       "\n",
       "                                                Name     Sex   Age  SibSp  \\\n",
       "0                            Braund, Mr. Owen Harris    male  22.0      1   \n",
       "1  Cumings, Mrs. John Bradley (Florence Briggs Th...  female  38.0      1   \n",
       "\n",
       "   Parch     Ticket     Fare Cabin Embarked  \n",
       "0      0  A/5 21171   7.2500   NaN        S  \n",
       "1      0   PC 17599  71.2833   C85        C  "
      ]
     },
     "execution_count": 25,
     "metadata": {},
     "output_type": "execute_result"
    }
   ],
   "source": [
    "train_data.head(2)"
   ]
  },
  {
   "cell_type": "markdown",
   "id": "9fa39511-f3df-4084-bcaa-e8ada68c8af4",
   "metadata": {},
   "source": [
    "# Feature Engineering"
   ]
  },
  {
   "cell_type": "code",
   "execution_count": 26,
   "id": "8921414e-582c-4dc1-bfd9-379a7a54b267",
   "metadata": {},
   "outputs": [],
   "source": [
    "# lets check how many people have multiple cabins --- (Idea from Ken Jee(Youtube))\n",
    "train_data['Multiple_cabins'] = train_data.Cabin.apply(lambda x: 0 if pd.isnull(x) else len(x.split(' ')))"
   ]
  },
  {
   "cell_type": "code",
   "execution_count": 27,
   "id": "76a1a607-8a4b-4827-8a5e-dd4fa0166628",
   "metadata": {},
   "outputs": [
    {
     "data": {
      "text/plain": [
       "Multiple_cabins\n",
       "0    687\n",
       "1    180\n",
       "2     16\n",
       "3      6\n",
       "4      2\n",
       "Name: count, dtype: int64"
      ]
     },
     "execution_count": 27,
     "metadata": {},
     "output_type": "execute_result"
    }
   ],
   "source": [
    "train_data['Multiple_cabins'].value_counts()"
   ]
  },
  {
   "cell_type": "markdown",
   "id": "5487887b-c9ec-40cc-9886-2301fdcbf520",
   "metadata": {},
   "source": [
    "Most people dont have multiple cabins"
   ]
  },
  {
   "cell_type": "code",
   "execution_count": 28,
   "id": "8ea7513d-3fd7-4973-ad38-25d98ca342ce",
   "metadata": {},
   "outputs": [
    {
     "data": {
      "text/html": [
       "<div>\n",
       "<style scoped>\n",
       "    .dataframe tbody tr th:only-of-type {\n",
       "        vertical-align: middle;\n",
       "    }\n",
       "\n",
       "    .dataframe tbody tr th {\n",
       "        vertical-align: top;\n",
       "    }\n",
       "\n",
       "    .dataframe thead th {\n",
       "        text-align: right;\n",
       "    }\n",
       "</style>\n",
       "<table border=\"1\" class=\"dataframe\">\n",
       "  <thead>\n",
       "    <tr style=\"text-align: right;\">\n",
       "      <th>Multiple_cabins</th>\n",
       "      <th>0</th>\n",
       "      <th>1</th>\n",
       "      <th>2</th>\n",
       "      <th>3</th>\n",
       "      <th>4</th>\n",
       "    </tr>\n",
       "    <tr>\n",
       "      <th>Survived</th>\n",
       "      <th></th>\n",
       "      <th></th>\n",
       "      <th></th>\n",
       "      <th></th>\n",
       "      <th></th>\n",
       "    </tr>\n",
       "  </thead>\n",
       "  <tbody>\n",
       "    <tr>\n",
       "      <th>0</th>\n",
       "      <td>481.0</td>\n",
       "      <td>58.0</td>\n",
       "      <td>7.0</td>\n",
       "      <td>3.0</td>\n",
       "      <td>NaN</td>\n",
       "    </tr>\n",
       "    <tr>\n",
       "      <th>1</th>\n",
       "      <td>206.0</td>\n",
       "      <td>122.0</td>\n",
       "      <td>9.0</td>\n",
       "      <td>3.0</td>\n",
       "      <td>2.0</td>\n",
       "    </tr>\n",
       "  </tbody>\n",
       "</table>\n",
       "</div>"
      ],
      "text/plain": [
       "Multiple_cabins      0      1    2    3    4\n",
       "Survived                                    \n",
       "0                481.0   58.0  7.0  3.0  NaN\n",
       "1                206.0  122.0  9.0  3.0  2.0"
      ]
     },
     "execution_count": 28,
     "metadata": {},
     "output_type": "execute_result"
    }
   ],
   "source": [
    "# lets look at the survival rate based on those with multiple carbins\n",
    "pd.pivot_table(data=train_data, columns='Multiple_cabins', values='Ticket', aggfunc='count', index='Survived')"
   ]
  },
  {
   "cell_type": "code",
   "execution_count": 29,
   "id": "7d491290-6e10-4558-a728-0944ffbc6926",
   "metadata": {},
   "outputs": [
    {
     "data": {
      "text/plain": [
       "204"
      ]
     },
     "execution_count": 29,
     "metadata": {},
     "output_type": "execute_result"
    }
   ],
   "source": [
    "sum(train_data['Cabin'].notna())"
   ]
  },
  {
   "cell_type": "code",
   "execution_count": 30,
   "id": "c6853ade-0eaf-4665-9eaf-4c1282bdb888",
   "metadata": {},
   "outputs": [],
   "source": [
    "#train_data[train_data['Cabin'].notnull()]"
   ]
  },
  {
   "cell_type": "code",
   "execution_count": 31,
   "id": "d78576ea-3080-4138-a8e1-f0503c603df6",
   "metadata": {},
   "outputs": [],
   "source": [
    "# now we check the first letter of the cabin to look at the survival rate.\n",
    "# maybe passengers in similar cabins have a similar chance of survival, probably due to proximity,class e.t.c.\n",
    "# we will treat null values like it's own category. n stands for null"
   ]
  },
  {
   "cell_type": "code",
   "execution_count": 32,
   "id": "91a52b26-3628-4a24-96a0-63bc7c048e14",
   "metadata": {},
   "outputs": [],
   "source": [
    "train_data['Cabin_similar'] = train_data['Cabin'].apply(lambda y : str(y)[0])  # grabbing the first letter of each cabin"
   ]
  },
  {
   "cell_type": "code",
   "execution_count": 33,
   "id": "8194578b-9d28-4f10-a73f-5627ba4ac01e",
   "metadata": {},
   "outputs": [
    {
     "data": {
      "text/plain": [
       "Cabin_similar\n",
       "n    687\n",
       "C     59\n",
       "B     47\n",
       "D     33\n",
       "E     32\n",
       "A     15\n",
       "F     13\n",
       "G      4\n",
       "T      1\n",
       "Name: count, dtype: int64"
      ]
     },
     "execution_count": 33,
     "metadata": {},
     "output_type": "execute_result"
    }
   ],
   "source": [
    "train_data['Cabin_similar'].value_counts()"
   ]
  },
  {
   "cell_type": "code",
   "execution_count": 34,
   "id": "38371268-d488-4abc-bebd-489ffabbe607",
   "metadata": {},
   "outputs": [
    {
     "data": {
      "text/html": [
       "<div>\n",
       "<style scoped>\n",
       "    .dataframe tbody tr th:only-of-type {\n",
       "        vertical-align: middle;\n",
       "    }\n",
       "\n",
       "    .dataframe tbody tr th {\n",
       "        vertical-align: top;\n",
       "    }\n",
       "\n",
       "    .dataframe thead th {\n",
       "        text-align: right;\n",
       "    }\n",
       "</style>\n",
       "<table border=\"1\" class=\"dataframe\">\n",
       "  <thead>\n",
       "    <tr style=\"text-align: right;\">\n",
       "      <th></th>\n",
       "      <th>PassengerId</th>\n",
       "      <th>Survived</th>\n",
       "      <th>Pclass</th>\n",
       "      <th>Name</th>\n",
       "      <th>Sex</th>\n",
       "      <th>Age</th>\n",
       "      <th>SibSp</th>\n",
       "      <th>Parch</th>\n",
       "      <th>Ticket</th>\n",
       "      <th>Fare</th>\n",
       "      <th>Cabin</th>\n",
       "      <th>Embarked</th>\n",
       "      <th>Multiple_cabins</th>\n",
       "      <th>Cabin_similar</th>\n",
       "    </tr>\n",
       "  </thead>\n",
       "  <tbody>\n",
       "    <tr>\n",
       "      <th>0</th>\n",
       "      <td>1</td>\n",
       "      <td>0</td>\n",
       "      <td>3</td>\n",
       "      <td>Braund, Mr. Owen Harris</td>\n",
       "      <td>male</td>\n",
       "      <td>22.0</td>\n",
       "      <td>1</td>\n",
       "      <td>0</td>\n",
       "      <td>A/5 21171</td>\n",
       "      <td>7.25</td>\n",
       "      <td>NaN</td>\n",
       "      <td>S</td>\n",
       "      <td>0</td>\n",
       "      <td>n</td>\n",
       "    </tr>\n",
       "  </tbody>\n",
       "</table>\n",
       "</div>"
      ],
      "text/plain": [
       "   PassengerId  Survived  Pclass                     Name   Sex   Age  SibSp  \\\n",
       "0            1         0       3  Braund, Mr. Owen Harris  male  22.0      1   \n",
       "\n",
       "   Parch     Ticket  Fare Cabin Embarked  Multiple_cabins Cabin_similar  \n",
       "0      0  A/5 21171  7.25   NaN        S                0             n  "
      ]
     },
     "execution_count": 34,
     "metadata": {},
     "output_type": "execute_result"
    }
   ],
   "source": [
    "train_data.head(1)"
   ]
  },
  {
   "cell_type": "code",
   "execution_count": 35,
   "id": "6611b23b-6fff-40b8-89be-f95cacef4c06",
   "metadata": {},
   "outputs": [
    {
     "data": {
      "text/html": [
       "<div>\n",
       "<style scoped>\n",
       "    .dataframe tbody tr th:only-of-type {\n",
       "        vertical-align: middle;\n",
       "    }\n",
       "\n",
       "    .dataframe tbody tr th {\n",
       "        vertical-align: top;\n",
       "    }\n",
       "\n",
       "    .dataframe thead th {\n",
       "        text-align: right;\n",
       "    }\n",
       "</style>\n",
       "<table border=\"1\" class=\"dataframe\">\n",
       "  <thead>\n",
       "    <tr style=\"text-align: right;\">\n",
       "      <th>Cabin_similar</th>\n",
       "      <th>A</th>\n",
       "      <th>B</th>\n",
       "      <th>C</th>\n",
       "      <th>D</th>\n",
       "      <th>E</th>\n",
       "      <th>F</th>\n",
       "      <th>G</th>\n",
       "      <th>T</th>\n",
       "      <th>n</th>\n",
       "    </tr>\n",
       "    <tr>\n",
       "      <th>Survived</th>\n",
       "      <th></th>\n",
       "      <th></th>\n",
       "      <th></th>\n",
       "      <th></th>\n",
       "      <th></th>\n",
       "      <th></th>\n",
       "      <th></th>\n",
       "      <th></th>\n",
       "      <th></th>\n",
       "    </tr>\n",
       "  </thead>\n",
       "  <tbody>\n",
       "    <tr>\n",
       "      <th>0</th>\n",
       "      <td>8.0</td>\n",
       "      <td>12.0</td>\n",
       "      <td>24.0</td>\n",
       "      <td>8.0</td>\n",
       "      <td>8.0</td>\n",
       "      <td>5.0</td>\n",
       "      <td>2.0</td>\n",
       "      <td>1.0</td>\n",
       "      <td>481.0</td>\n",
       "    </tr>\n",
       "    <tr>\n",
       "      <th>1</th>\n",
       "      <td>7.0</td>\n",
       "      <td>35.0</td>\n",
       "      <td>35.0</td>\n",
       "      <td>25.0</td>\n",
       "      <td>24.0</td>\n",
       "      <td>8.0</td>\n",
       "      <td>2.0</td>\n",
       "      <td>NaN</td>\n",
       "      <td>206.0</td>\n",
       "    </tr>\n",
       "  </tbody>\n",
       "</table>\n",
       "</div>"
      ],
      "text/plain": [
       "Cabin_similar    A     B     C     D     E    F    G    T      n\n",
       "Survived                                                        \n",
       "0              8.0  12.0  24.0   8.0   8.0  5.0  2.0  1.0  481.0\n",
       "1              7.0  35.0  35.0  25.0  24.0  8.0  2.0  NaN  206.0"
      ]
     },
     "execution_count": 35,
     "metadata": {},
     "output_type": "execute_result"
    }
   ],
   "source": [
    "# Lets check the survival rate\n",
    "pd.pivot_table(data=train_data,index='Survived', columns='Cabin_similar', values='Ticket', aggfunc='count')"
   ]
  },
  {
   "cell_type": "markdown",
   "id": "67b12a58-f124-4f77-8e08-928c18af97cb",
   "metadata": {},
   "source": [
    "There is a pattern here, except for A, most passengers in the cabin with starting letters from B to F actually survived. most of those who did not survived are in n(i.e the null)"
   ]
  },
  {
   "cell_type": "code",
   "execution_count": 36,
   "id": "f90bca9d-2784-4758-b891-589481ebd5fc",
   "metadata": {},
   "outputs": [
    {
     "name": "stdout",
     "output_type": "stream",
     "text": [
      "<class 'pandas.core.frame.DataFrame'>\n",
      "RangeIndex: 891 entries, 0 to 890\n",
      "Data columns (total 1 columns):\n",
      " #   Column  Non-Null Count  Dtype \n",
      "---  ------  --------------  ----- \n",
      " 0   Ticket  891 non-null    object\n",
      "dtypes: object(1)\n",
      "memory usage: 7.1+ KB\n"
     ]
    }
   ],
   "source": [
    "# lets take a more close look at the tickets\n",
    "train_data[['Ticket']].info()"
   ]
  },
  {
   "cell_type": "code",
   "execution_count": 37,
   "id": "0790c4c0-57bd-4835-8240-618f6118fad6",
   "metadata": {},
   "outputs": [
    {
     "data": {
      "text/plain": [
       "0           A/5 21171\n",
       "1            PC 17599\n",
       "2    STON/O2. 3101282\n",
       "3              113803\n",
       "4              373450\n",
       "5              330877\n",
       "6               17463\n",
       "7              349909\n",
       "8              347742\n",
       "9              237736\n",
       "Name: Ticket, dtype: object"
      ]
     },
     "execution_count": 37,
     "metadata": {},
     "output_type": "execute_result"
    }
   ],
   "source": [
    "train_data['Ticket'][:10]"
   ]
  },
  {
   "cell_type": "code",
   "execution_count": 38,
   "id": "7bf13a7b-171b-4bdd-8979-cbcafc790e18",
   "metadata": {},
   "outputs": [],
   "source": [
    "train_data['Numeric_ticket'] = train_data.Ticket.apply(lambda x: 1 if x.isdigit()\n",
    "                                                       else 0)"
   ]
  },
  {
   "cell_type": "code",
   "execution_count": 39,
   "id": "93c8b320-d25b-41fa-ac4b-5c5724105557",
   "metadata": {},
   "outputs": [],
   "source": [
    "train_data['Ticket_letters'] = train_data['Ticket'].apply(lambda x: ''.join(x.split(' ')[:-1]).replace\n",
    "                                                          ('.','').replace('/','').lower() if len(x.split(' ')[:-1]) > 0 else 0)"
   ]
  },
  {
   "cell_type": "code",
   "execution_count": 40,
   "id": "4538cc6a-49d0-4fa2-90c1-c3fd736d60d9",
   "metadata": {},
   "outputs": [],
   "source": [
    "# let us view all the rows in the dataframe through scrolling.\n",
    "# This is for convinience ----->>>"
   ]
  },
  {
   "cell_type": "code",
   "execution_count": 41,
   "id": "7a06df3f-1b36-4e9d-8561-f4c31d42f5ff",
   "metadata": {},
   "outputs": [
    {
     "data": {
      "text/plain": [
       "Ticket_letters\n",
       "0            665\n",
       "pc            60\n",
       "ca            41\n",
       "a5            21\n",
       "stono2        18\n",
       "sotonoq       15\n",
       "scparis       11\n",
       "wc            10\n",
       "a4             7\n",
       "soc            6\n",
       "fcc            5\n",
       "c              5\n",
       "sopp           3\n",
       "pp             3\n",
       "wep            3\n",
       "ppp            2\n",
       "scah           2\n",
       "sotono2        2\n",
       "swpp           2\n",
       "fc             1\n",
       "scahbasle      1\n",
       "as             1\n",
       "sp             1\n",
       "sc             1\n",
       "scow           1\n",
       "fa             1\n",
       "sop            1\n",
       "sca4           1\n",
       "casoton        1\n",
       "Name: count, dtype: int64"
      ]
     },
     "execution_count": 41,
     "metadata": {},
     "output_type": "execute_result"
    }
   ],
   "source": [
    "pd.set_option('display.max_rows', None)\n",
    "train_data['Ticket_letters'].value_counts()"
   ]
  },
  {
   "cell_type": "code",
   "execution_count": 42,
   "id": "9363014f-e583-415c-9ab0-ed4496530eaa",
   "metadata": {},
   "outputs": [
    {
     "data": {
      "text/plain": [
       "Numeric_ticket\n",
       "1    661\n",
       "0    230\n",
       "Name: count, dtype: int64"
      ]
     },
     "execution_count": 42,
     "metadata": {},
     "output_type": "execute_result"
    }
   ],
   "source": [
    "train_data['Numeric_ticket'].value_counts()"
   ]
  },
  {
   "cell_type": "code",
   "execution_count": 43,
   "id": "dec33038-4623-4e2f-8ed8-9e9650673883",
   "metadata": {},
   "outputs": [],
   "source": [
    "# The ticket letters are so many and hard to know if there are some correlation between letters with thesame characters.\n",
    "# But we can check the survival ratio based off of the Numeric_ticket:"
   ]
  },
  {
   "cell_type": "code",
   "execution_count": 44,
   "id": "640e32f1-b7cc-424f-9b13-08803026a70f",
   "metadata": {},
   "outputs": [
    {
     "data": {
      "text/html": [
       "<div>\n",
       "<style scoped>\n",
       "    .dataframe tbody tr th:only-of-type {\n",
       "        vertical-align: middle;\n",
       "    }\n",
       "\n",
       "    .dataframe tbody tr th {\n",
       "        vertical-align: top;\n",
       "    }\n",
       "\n",
       "    .dataframe thead th {\n",
       "        text-align: right;\n",
       "    }\n",
       "</style>\n",
       "<table border=\"1\" class=\"dataframe\">\n",
       "  <thead>\n",
       "    <tr style=\"text-align: right;\">\n",
       "      <th>Numeric_ticket</th>\n",
       "      <th>0</th>\n",
       "      <th>1</th>\n",
       "    </tr>\n",
       "    <tr>\n",
       "      <th>Survived</th>\n",
       "      <th></th>\n",
       "      <th></th>\n",
       "    </tr>\n",
       "  </thead>\n",
       "  <tbody>\n",
       "    <tr>\n",
       "      <th>0</th>\n",
       "      <td>142</td>\n",
       "      <td>407</td>\n",
       "    </tr>\n",
       "    <tr>\n",
       "      <th>1</th>\n",
       "      <td>88</td>\n",
       "      <td>254</td>\n",
       "    </tr>\n",
       "  </tbody>\n",
       "</table>\n",
       "</div>"
      ],
      "text/plain": [
       "Numeric_ticket    0    1\n",
       "Survived                \n",
       "0               142  407\n",
       "1                88  254"
      ]
     },
     "execution_count": 44,
     "metadata": {},
     "output_type": "execute_result"
    }
   ],
   "source": [
    "pd.pivot_table(data=train_data, values='Ticket', index='Survived', aggfunc='count', columns='Numeric_ticket')"
   ]
  },
  {
   "cell_type": "markdown",
   "id": "74e42f0d-233c-43ed-889f-29f9964ae899",
   "metadata": {},
   "source": [
    "The survival ration based off of the Numeric_ticket is almost the same. So there is not much to do with it here."
   ]
  },
  {
   "cell_type": "code",
   "execution_count": 45,
   "id": "5aab29b2-adcd-4421-96cd-30c7d97e748f",
   "metadata": {},
   "outputs": [
    {
     "data": {
      "text/plain": [
       "<Axes: >"
      ]
     },
     "execution_count": 45,
     "metadata": {},
     "output_type": "execute_result"
    },
    {
     "data": {
      "image/png": "[encoded data removed]",
      "text/plain": [
       "<Figure size 1000x400 with 1 Axes>"
      ]
     },
     "metadata": {},
     "output_type": "display_data"
    }
   ],
   "source": [
    "train_data['Fare'].hist(bins=40, figsize=(10,4))        #  Fare "
   ]
  },
  {
   "cell_type": "code",
   "execution_count": 46,
   "id": "45e6f2ed-bfea-4a21-a1cf-b373bb74ee05",
   "metadata": {},
   "outputs": [],
   "source": [
    "# lets us looka at the summary of survival based off of some columns from our data set"
   ]
  },
  {
   "cell_type": "code",
   "execution_count": 47,
   "id": "529a5817-7b24-4754-bde5-f6524002545e",
   "metadata": {},
   "outputs": [
    {
     "name": "stdout",
     "output_type": "stream",
     "text": [
      "Sex       female  male\n",
      "Survived              \n",
      "0             81   468\n",
      "1            233   109\n",
      "\n",
      "\n",
      "Pclass      1   2    3\n",
      "Survived              \n",
      "0          80  97  372\n",
      "1         136  87  119\n",
      "\n",
      "\n",
      "Embarked   C   Q    S\n",
      "Survived             \n",
      "0         75  47  427\n",
      "1         93  30  217\n"
     ]
    }
   ],
   "source": [
    "print(pd.pivot_table(train_data,values='Ticket',aggfunc='count', columns='Sex',index='Survived'))\n",
    "print('\\n')\n",
    "print(pd.pivot_table(train_data,values='Ticket',aggfunc='count', columns='Pclass',index='Survived'))\n",
    "print('\\n')\n",
    "print(pd.pivot_table(train_data,values='Ticket',aggfunc='count', columns='Embarked',index='Survived'))"
   ]
  },
  {
   "cell_type": "code",
   "execution_count": 48,
   "id": "45e35549-17de-4db7-a447-9f7742e73f6f",
   "metadata": {},
   "outputs": [
    {
     "data": {
      "text/html": [
       "<div>\n",
       "<style scoped>\n",
       "    .dataframe tbody tr th:only-of-type {\n",
       "        vertical-align: middle;\n",
       "    }\n",
       "\n",
       "    .dataframe tbody tr th {\n",
       "        vertical-align: top;\n",
       "    }\n",
       "\n",
       "    .dataframe thead th {\n",
       "        text-align: right;\n",
       "    }\n",
       "</style>\n",
       "<table border=\"1\" class=\"dataframe\">\n",
       "  <thead>\n",
       "    <tr style=\"text-align: right;\">\n",
       "      <th></th>\n",
       "      <th>Age</th>\n",
       "      <th>Fare</th>\n",
       "      <th>Parch</th>\n",
       "      <th>SibSp</th>\n",
       "    </tr>\n",
       "    <tr>\n",
       "      <th>Survived</th>\n",
       "      <th></th>\n",
       "      <th></th>\n",
       "      <th></th>\n",
       "      <th></th>\n",
       "    </tr>\n",
       "  </thead>\n",
       "  <tbody>\n",
       "    <tr>\n",
       "      <th>0</th>\n",
       "      <td>30.626179</td>\n",
       "      <td>22.117887</td>\n",
       "      <td>0.329690</td>\n",
       "      <td>0.553734</td>\n",
       "    </tr>\n",
       "    <tr>\n",
       "      <th>1</th>\n",
       "      <td>28.343690</td>\n",
       "      <td>48.395408</td>\n",
       "      <td>0.464912</td>\n",
       "      <td>0.473684</td>\n",
       "    </tr>\n",
       "  </tbody>\n",
       "</table>\n",
       "</div>"
      ],
      "text/plain": [
       "                Age       Fare     Parch     SibSp\n",
       "Survived                                          \n",
       "0         30.626179  22.117887  0.329690  0.553734\n",
       "1         28.343690  48.395408  0.464912  0.473684"
      ]
     },
     "execution_count": 48,
     "metadata": {},
     "output_type": "execute_result"
    }
   ],
   "source": [
    "pd.pivot_table(train_data,index='Survived', values=['Age', 'SibSp', 'Fare', 'Parch'])"
   ]
  },
  {
   "cell_type": "code",
   "execution_count": 49,
   "id": "21550b4b-6f06-446e-b826-a662796d1703",
   "metadata": {},
   "outputs": [
    {
     "data": {
      "text/html": [
       "<div>\n",
       "<style scoped>\n",
       "    .dataframe tbody tr th:only-of-type {\n",
       "        vertical-align: middle;\n",
       "    }\n",
       "\n",
       "    .dataframe tbody tr th {\n",
       "        vertical-align: top;\n",
       "    }\n",
       "\n",
       "    .dataframe thead th {\n",
       "        text-align: right;\n",
       "    }\n",
       "</style>\n",
       "<table border=\"1\" class=\"dataframe\">\n",
       "  <thead>\n",
       "    <tr style=\"text-align: right;\">\n",
       "      <th></th>\n",
       "      <th>Name</th>\n",
       "    </tr>\n",
       "  </thead>\n",
       "  <tbody>\n",
       "    <tr>\n",
       "      <th>0</th>\n",
       "      <td>Braund, Mr. Owen Harris</td>\n",
       "    </tr>\n",
       "    <tr>\n",
       "      <th>1</th>\n",
       "      <td>Cumings, Mrs. John Bradley (Florence Briggs Th...</td>\n",
       "    </tr>\n",
       "    <tr>\n",
       "      <th>2</th>\n",
       "      <td>Heikkinen, Miss. Laina</td>\n",
       "    </tr>\n",
       "    <tr>\n",
       "      <th>3</th>\n",
       "      <td>Futrelle, Mrs. Jacques Heath (Lily May Peel)</td>\n",
       "    </tr>\n",
       "    <tr>\n",
       "      <th>4</th>\n",
       "      <td>Allen, Mr. William Henry</td>\n",
       "    </tr>\n",
       "  </tbody>\n",
       "</table>\n",
       "</div>"
      ],
      "text/plain": [
       "                                                Name\n",
       "0                            Braund, Mr. Owen Harris\n",
       "1  Cumings, Mrs. John Bradley (Florence Briggs Th...\n",
       "2                             Heikkinen, Miss. Laina\n",
       "3       Futrelle, Mrs. Jacques Heath (Lily May Peel)\n",
       "4                           Allen, Mr. William Henry"
      ]
     },
     "execution_count": 49,
     "metadata": {},
     "output_type": "execute_result"
    }
   ],
   "source": [
    "# let us look at the names' title\n",
    "# titles such as Dr.,sir e.t.c. generally show more affluence than maybe Mr., or Miss e.t.c\n",
    "train_data[['Name']].head()"
   ]
  },
  {
   "cell_type": "code",
   "execution_count": 50,
   "id": "aba5cd06-f5c6-47b0-9eba-a2e1c098e70e",
   "metadata": {},
   "outputs": [],
   "source": [
    "train_data['Name_titles'] = train_data.Name.apply(lambda x: x.split(',')[1].split('.')[0].strip())"
   ]
  },
  {
   "cell_type": "code",
   "execution_count": 51,
   "id": "c57cf64d-4cf9-4dfd-a53a-8bebfd05167b",
   "metadata": {},
   "outputs": [
    {
     "data": {
      "text/plain": [
       "Name_titles\n",
       "Mr              517\n",
       "Miss            182\n",
       "Mrs             125\n",
       "Master           40\n",
       "Dr                7\n",
       "Rev               6\n",
       "Mlle              2\n",
       "Major             2\n",
       "Col               2\n",
       "the Countess      1\n",
       "Capt              1\n",
       "Ms                1\n",
       "Sir               1\n",
       "Lady              1\n",
       "Mme               1\n",
       "Don               1\n",
       "Jonkheer          1\n",
       "Name: count, dtype: int64"
      ]
     },
     "execution_count": 51,
     "metadata": {},
     "output_type": "execute_result"
    }
   ],
   "source": [
    "train_data['Name_titles'].value_counts()"
   ]
  },
  {
   "cell_type": "code",
   "execution_count": 52,
   "id": "ed9dbbd2-58fd-489a-b03b-b5ad0ec39abb",
   "metadata": {},
   "outputs": [
    {
     "data": {
      "text/plain": [
       "891"
      ]
     },
     "execution_count": 52,
     "metadata": {},
     "output_type": "execute_result"
    }
   ],
   "source": [
    "sum(train_data['Name_titles'].value_counts())"
   ]
  },
  {
   "cell_type": "code",
   "execution_count": 53,
   "id": "7c301928-0fc0-4a11-aa22-4133a199dbb5",
   "metadata": {},
   "outputs": [
    {
     "data": {
      "text/plain": [
       "647    1\n",
       "694    0\n",
       "Name: Survived, dtype: int64"
      ]
     },
     "execution_count": 53,
     "metadata": {},
     "output_type": "execute_result"
    }
   ],
   "source": [
    "# let's check whether the col.s Survived\n",
    "train_data[train_data['Name_titles'] == 'Col']['Survived']"
   ]
  },
  {
   "cell_type": "code",
   "execution_count": 54,
   "id": "527db455-c765-474c-91d4-0e01845211a6",
   "metadata": {},
   "outputs": [
    {
     "data": {
      "text/plain": [
       "449    1\n",
       "536    0\n",
       "Name: Survived, dtype: int64"
      ]
     },
     "execution_count": 54,
     "metadata": {},
     "output_type": "execute_result"
    }
   ],
   "source": [
    "# let's check whether the Majors survived\n",
    "train_data[train_data['Name_titles'] == 'Major']['Survived']"
   ]
  },
  {
   "cell_type": "code",
   "execution_count": 55,
   "id": "b3202d1a-c7ef-42c4-b532-053f363b6e94",
   "metadata": {},
   "outputs": [
    {
     "data": {
      "text/plain": [
       "745    0\n",
       "Name: Survived, dtype: int64"
      ]
     },
     "execution_count": 55,
     "metadata": {},
     "output_type": "execute_result"
    }
   ],
   "source": [
    "# lets check whether the captain survived\n",
    "train_data[train_data['Name_titles'] == 'Capt']['Survived']"
   ]
  },
  {
   "cell_type": "code",
   "execution_count": 56,
   "id": "e2f8a7ad-89cb-4064-9bff-0d74b9f7156a",
   "metadata": {},
   "outputs": [
    {
     "data": {
      "text/plain": [
       "245    0\n",
       "317    0\n",
       "398    0\n",
       "632    1\n",
       "660    1\n",
       "766    0\n",
       "796    1\n",
       "Name: Survived, dtype: int64"
      ]
     },
     "execution_count": 56,
     "metadata": {},
     "output_type": "execute_result"
    }
   ],
   "source": [
    "# let's check the Drs who survived\n",
    "train_data[train_data['Name_titles'] == 'Dr']['Survived']"
   ]
  },
  {
   "cell_type": "code",
   "execution_count": 57,
   "id": "9bcdb528-ef8a-435f-9f0b-361db62c8007",
   "metadata": {},
   "outputs": [],
   "source": [
    "# Now let us divide the name_title column into two\n",
    "# regular and VIP's\n",
    "# then we check the number of survival based of these categories"
   ]
  },
  {
   "cell_type": "code",
   "execution_count": 58,
   "id": "ad74a1a0-2099-4049-90a8-0872a8f5d3ae",
   "metadata": {},
   "outputs": [],
   "source": [
    "def grouping(title):\n",
    "    Title = ['Mr','Mrs','Miss']\n",
    "    for a_title in Title:\n",
    "        if a_title in title:\n",
    "            return \"Regular\"\n",
    "        else:\n",
    "            return \"VIP\""
   ]
  },
  {
   "cell_type": "code",
   "execution_count": 59,
   "id": "5f29d10c-45d0-4674-93d2-38c77926aa5e",
   "metadata": {},
   "outputs": [],
   "source": [
    "train_data['Title'] = train_data.Name_titles.apply(lambda x: grouping(x))"
   ]
  },
  {
   "cell_type": "code",
   "execution_count": 60,
   "id": "653f7479-d4b5-455b-9adc-9d54ecd660e8",
   "metadata": {},
   "outputs": [
    {
     "data": {
      "text/plain": [
       "Title\n",
       "Regular    642\n",
       "VIP        249\n",
       "Name: count, dtype: int64"
      ]
     },
     "execution_count": 60,
     "metadata": {},
     "output_type": "execute_result"
    }
   ],
   "source": [
    "# Let us check the value counts:\n",
    "train_data['Title'].value_counts()"
   ]
  },
  {
   "cell_type": "code",
   "execution_count": 61,
   "id": "dcad9d0c-4ec8-441a-a17f-d8fbef9c50d1",
   "metadata": {},
   "outputs": [
    {
     "data": {
      "text/html": [
       "<div>\n",
       "<style scoped>\n",
       "    .dataframe tbody tr th:only-of-type {\n",
       "        vertical-align: middle;\n",
       "    }\n",
       "\n",
       "    .dataframe tbody tr th {\n",
       "        vertical-align: top;\n",
       "    }\n",
       "\n",
       "    .dataframe thead th {\n",
       "        text-align: right;\n",
       "    }\n",
       "</style>\n",
       "<table border=\"1\" class=\"dataframe\">\n",
       "  <thead>\n",
       "    <tr style=\"text-align: right;\">\n",
       "      <th></th>\n",
       "      <th>PassengerId</th>\n",
       "      <th>Survived</th>\n",
       "      <th>Pclass</th>\n",
       "      <th>Name</th>\n",
       "      <th>Sex</th>\n",
       "      <th>Age</th>\n",
       "      <th>SibSp</th>\n",
       "      <th>Parch</th>\n",
       "      <th>Ticket</th>\n",
       "      <th>Fare</th>\n",
       "      <th>Cabin</th>\n",
       "      <th>Embarked</th>\n",
       "      <th>Multiple_cabins</th>\n",
       "      <th>Cabin_similar</th>\n",
       "      <th>Numeric_ticket</th>\n",
       "      <th>Ticket_letters</th>\n",
       "      <th>Name_titles</th>\n",
       "      <th>Title</th>\n",
       "    </tr>\n",
       "  </thead>\n",
       "  <tbody>\n",
       "    <tr>\n",
       "      <th>0</th>\n",
       "      <td>1</td>\n",
       "      <td>0</td>\n",
       "      <td>3</td>\n",
       "      <td>Braund, Mr. Owen Harris</td>\n",
       "      <td>male</td>\n",
       "      <td>22.0</td>\n",
       "      <td>1</td>\n",
       "      <td>0</td>\n",
       "      <td>A/5 21171</td>\n",
       "      <td>7.25</td>\n",
       "      <td>NaN</td>\n",
       "      <td>S</td>\n",
       "      <td>0</td>\n",
       "      <td>n</td>\n",
       "      <td>0</td>\n",
       "      <td>a5</td>\n",
       "      <td>Mr</td>\n",
       "      <td>Regular</td>\n",
       "    </tr>\n",
       "  </tbody>\n",
       "</table>\n",
       "</div>"
      ],
      "text/plain": [
       "   PassengerId  Survived  Pclass                     Name   Sex   Age  SibSp  \\\n",
       "0            1         0       3  Braund, Mr. Owen Harris  male  22.0      1   \n",
       "\n",
       "   Parch     Ticket  Fare Cabin Embarked  Multiple_cabins Cabin_similar  \\\n",
       "0      0  A/5 21171  7.25   NaN        S                0             n   \n",
       "\n",
       "   Numeric_ticket Ticket_letters Name_titles    Title  \n",
       "0               0             a5          Mr  Regular  "
      ]
     },
     "execution_count": 61,
     "metadata": {},
     "output_type": "execute_result"
    }
   ],
   "source": [
    "train_data.head(1)"
   ]
  },
  {
   "cell_type": "code",
   "execution_count": 62,
   "id": "fe0956e4-7d40-4ea7-be74-4ff48d72f2a5",
   "metadata": {},
   "outputs": [
    {
     "data": {
      "text/html": [
       "<div>\n",
       "<style scoped>\n",
       "    .dataframe tbody tr th:only-of-type {\n",
       "        vertical-align: middle;\n",
       "    }\n",
       "\n",
       "    .dataframe tbody tr th {\n",
       "        vertical-align: top;\n",
       "    }\n",
       "\n",
       "    .dataframe thead th {\n",
       "        text-align: right;\n",
       "    }\n",
       "</style>\n",
       "<table border=\"1\" class=\"dataframe\">\n",
       "  <thead>\n",
       "    <tr style=\"text-align: right;\">\n",
       "      <th>Title</th>\n",
       "      <th>Regular</th>\n",
       "      <th>VIP</th>\n",
       "    </tr>\n",
       "    <tr>\n",
       "      <th>Survived</th>\n",
       "      <th></th>\n",
       "      <th></th>\n",
       "    </tr>\n",
       "  </thead>\n",
       "  <tbody>\n",
       "    <tr>\n",
       "      <th>0</th>\n",
       "      <td>462</td>\n",
       "      <td>87</td>\n",
       "    </tr>\n",
       "    <tr>\n",
       "      <th>1</th>\n",
       "      <td>180</td>\n",
       "      <td>162</td>\n",
       "    </tr>\n",
       "  </tbody>\n",
       "</table>\n",
       "</div>"
      ],
      "text/plain": [
       "Title     Regular  VIP\n",
       "Survived              \n",
       "0             462   87\n",
       "1             180  162"
      ]
     },
     "execution_count": 62,
     "metadata": {},
     "output_type": "execute_result"
    }
   ],
   "source": [
    "# Now we check the survival based off of the Title column\n",
    "pd.pivot_table(data=train_data, index='Survived', columns='Title', aggfunc='count', values='Ticket')"
   ]
  },
  {
   "cell_type": "markdown",
   "id": "dcd4f134-6f74-45b0-b69c-2569ead6624d",
   "metadata": {},
   "source": [
    "Most people in the Regular did not survive, and most of those in the VIP actually made it alive."
   ]
  },
  {
   "cell_type": "code",
   "execution_count": 63,
   "id": "2b007a05-b931-4eb1-b1b9-bc2eabf599e5",
   "metadata": {},
   "outputs": [
    {
     "data": {
      "text/plain": [
       "Survived\n",
       "0    0.719626\n",
       "1    0.280374\n",
       "Name: count, dtype: float64"
      ]
     },
     "execution_count": 63,
     "metadata": {},
     "output_type": "execute_result"
    }
   ],
   "source": [
    "# lets check the percentage of survival\n",
    "train_data[train_data['Title'] == 'Regular']['Survived'].value_counts() / sum(train_data['Title']=='Regular')"
   ]
  },
  {
   "cell_type": "code",
   "execution_count": 64,
   "id": "b99594ec-997e-4242-bfec-e98e1ffff3b4",
   "metadata": {},
   "outputs": [
    {
     "data": {
      "text/plain": [
       "Survived\n",
       "1    0.650602\n",
       "0    0.349398\n",
       "Name: count, dtype: float64"
      ]
     },
     "execution_count": 64,
     "metadata": {},
     "output_type": "execute_result"
    }
   ],
   "source": [
    "train_data[train_data['Title'] == 'VIP']['Survived'].value_counts() / sum(train_data['Title']=='VIP')"
   ]
  },
  {
   "cell_type": "markdown",
   "id": "c0fe6a45-eb1b-4097-97b2-86bafce161a1",
   "metadata": {},
   "source": [
    "We can see that 65% of those in the Vip survived, while less than 30% survived in the Regular. There is a clear pattern here."
   ]
  },
  {
   "cell_type": "code",
   "execution_count": 65,
   "id": "0bbf77a3-7e86-4bac-ac02-4fe3263931ab",
   "metadata": {},
   "outputs": [],
   "source": [
    "# lets add up the number of parents and siblings a passanger have aboard as Family:"
   ]
  },
  {
   "cell_type": "code",
   "execution_count": 66,
   "id": "6b35f465-311a-46d7-a001-f3506ca5733a",
   "metadata": {},
   "outputs": [],
   "source": [
    "train_data['Family'] = train_data['SibSp'] + train_data['Parch']"
   ]
  },
  {
   "cell_type": "code",
   "execution_count": 67,
   "id": "51c72b94-0cf5-48c8-9bb4-1fc4f3aef89b",
   "metadata": {},
   "outputs": [
    {
     "data": {
      "text/plain": [
       "Family\n",
       "0     537\n",
       "1     161\n",
       "2     102\n",
       "3      29\n",
       "5      22\n",
       "4      15\n",
       "6      12\n",
       "10      7\n",
       "7       6\n",
       "Name: count, dtype: int64"
      ]
     },
     "execution_count": 67,
     "metadata": {},
     "output_type": "execute_result"
    }
   ],
   "source": [
    "train_data['Family'].value_counts()"
   ]
  },
  {
   "cell_type": "code",
   "execution_count": 68,
   "id": "f22f19b0-d761-4780-af11-40068bfb32e3",
   "metadata": {},
   "outputs": [
    {
     "name": "stdout",
     "output_type": "stream",
     "text": [
      "<class 'pandas.core.frame.DataFrame'>\n",
      "RangeIndex: 891 entries, 0 to 890\n",
      "Data columns (total 19 columns):\n",
      " #   Column           Non-Null Count  Dtype  \n",
      "---  ------           --------------  -----  \n",
      " 0   PassengerId      891 non-null    int64  \n",
      " 1   Survived         891 non-null    int64  \n",
      " 2   Pclass           891 non-null    int64  \n",
      " 3   Name             891 non-null    object \n",
      " 4   Sex              891 non-null    object \n",
      " 5   Age              714 non-null    float64\n",
      " 6   SibSp            891 non-null    int64  \n",
      " 7   Parch            891 non-null    int64  \n",
      " 8   Ticket           891 non-null    object \n",
      " 9   Fare             891 non-null    float64\n",
      " 10  Cabin            204 non-null    object \n",
      " 11  Embarked         889 non-null    object \n",
      " 12  Multiple_cabins  891 non-null    int64  \n",
      " 13  Cabin_similar    891 non-null    object \n",
      " 14  Numeric_ticket   891 non-null    int64  \n",
      " 15  Ticket_letters   891 non-null    object \n",
      " 16  Name_titles      891 non-null    object \n",
      " 17  Title            891 non-null    object \n",
      " 18  Family           891 non-null    int64  \n",
      "dtypes: float64(2), int64(8), object(9)\n",
      "memory usage: 132.4+ KB\n"
     ]
    }
   ],
   "source": [
    "train_data.info()"
   ]
  },
  {
   "cell_type": "markdown",
   "id": "ae787fbd-5afc-4e77-9e64-d41d289d1e77",
   "metadata": {},
   "source": [
    "We still have some missing values in the dataset. Let's work on that :"
   ]
  },
  {
   "cell_type": "code",
   "execution_count": null,
   "id": "50007bd5-122c-4ab6-9a69-4cf8cc1d7664",
   "metadata": {},
   "outputs": [],
   "source": []
  },
  {
   "cell_type": "markdown",
   "id": "d2635a40-a179-400d-a157-015afc411b97",
   "metadata": {},
   "source": [
    "# Cleaning the Data"
   ]
  },
  {
   "cell_type": "code",
   "execution_count": 69,
   "id": "ad395750-5e36-4efa-b58f-e2b18feb6791",
   "metadata": {},
   "outputs": [],
   "source": [
    "import cufflinks as cf"
   ]
  },
  {
   "cell_type": "code",
   "execution_count": 70,
   "id": "76d11fed-c29c-4ec9-865b-431e0da1b96e",
   "metadata": {},
   "outputs": [
    {
     "data": {
      "text/html": [
       "        <script type=\"text/javascript\">\n",
       "        window.PlotlyConfig = {MathJaxConfig: 'local'};\n",
       "        if (window.MathJax && window.MathJax.Hub && window.MathJax.Hub.Config) {window.MathJax.Hub.Config({SVG: {font: \"STIX-Web\"}});}\n",
       "        if (typeof require !== 'undefined') {\n",
       "        require.undef(\"plotly\");\n",
       "        requirejs.config({\n",
       "            paths: {\n",
       "                'plotly': ['https://cdn.plot.ly/plotly-2.32.0.min']\n",
       "            }\n",
       "        });\n",
       "        require(['plotly'], function(Plotly) {\n",
       "            window._Plotly = Plotly;\n",
       "        });\n",
       "        }\n",
       "        </script>\n",
       "        "
      ]
     },
     "metadata": {},
     "output_type": "display_data"
    }
   ],
   "source": [
    "cf.go_offline()"
   ]
  },
  {
   "cell_type": "code",
   "execution_count": 71,
   "id": "30fa6670-31b4-4c20-bd42-003bd195e175",
   "metadata": {},
   "outputs": [
    {
     "data": {
      "application/vnd.plotly.v1+json": {
       "config": {
        "linkText": "Export to plot.ly",
        "plotlyServerURL": "https://plot.ly",
        "showLink": true
       },
       "data": [
        {
         "boxpoints": false,
         "line": {
          "width": 1.3
         },
         "marker": {
          "color": "rgba(255, 153, 51, 1.0)"
         },
         "name": "1",
         "orientation": "v",
         "type": "box",
         "y": [
          null,
          38,
          null,
          35,
          null,
          null,
          54,
          null,
          null,
          null,
          null,
          58,
          null,
          null,
          null,
          null,
          null,
          null,
          null,
          null,
          null,
          null,
          null,
          28,
          null,
          null,
          null,
          19,
          null,
          null,
          40,
          null,
          null,
          null,
          28,
          42,
          null,
          null,
          null,
          null,
          null,
          null,
          null,
          null,
          null,
          null,
          null,
          null,
          null,
          null,
          null,
          null,
          49,
          null,
          65,
          null,
          null,
          null,
          null,
          null,
          null,
          38,
          45,
          null,
          null,
          null,
          null,
          null,
          null,
          null,
          null,
          null,
          null,
          null,
          null,
          null,
          null,
          null,
          null,
          null,
          null,
          null,
          null,
          28,
          null,
          null,
          null,
          null,
          23,
          null,
          null,
          null,
          46,
          null,
          null,
          null,
          71,
          23,
          null,
          null,
          null,
          null,
          21,
          null,
          null,
          null,
          null,
          null,
          null,
          null,
          47,
          null,
          null,
          null,
          null,
          null,
          null,
          null,
          24,
          null,
          null,
          null,
          null,
          null,
          54,
          null,
          null,
          null,
          null,
          null,
          null,
          null,
          null,
          null,
          null,
          null,
          19,
          37,
          null,
          24,
          null,
          null,
          null,
          null,
          null,
          null,
          null,
          null,
          null,
          null,
          null,
          22,
          null,
          null,
          null,
          51,
          null,
          null,
          null,
          null,
          null,
          null,
          null,
          null,
          null,
          null,
          null,
          null,
          null,
          null,
          61,
          null,
          null,
          null,
          56,
          null,
          null,
          50,
          null,
          null,
          null,
          null,
          null,
          null,
          null,
          null,
          null,
          45,
          null,
          null,
          null,
          null,
          null,
          null,
          44,
          58,
          null,
          null,
          null,
          null,
          null,
          null,
          null,
          null,
          null,
          null,
          null,
          null,
          null,
          40,
          null,
          null,
          null,
          null,
          null,
          31,
          null,
          null,
          32,
          null,
          null,
          null,
          null,
          null,
          38,
          null,
          null,
          null,
          null,
          null,
          35,
          null,
          null,
          null,
          null,
          null,
          null,
          null,
          null,
          null,
          null,
          null,
          null,
          null,
          null,
          44,
          null,
          null,
          37,
          null,
          null,
          null,
          62,
          null,
          null,
          null,
          null,
          30,
          35,
          null,
          null,
          null,
          52,
          40,
          null,
          null,
          null,
          null,
          58,
          35,
          null,
          null,
          null,
          37,
          null,
          63,
          null,
          null,
          null,
          null,
          null,
          null,
          null,
          null,
          null,
          null,
          null,
          null,
          null,
          null,
          26,
          19,
          null,
          null,
          null,
          null,
          null,
          2,
          null,
          50,
          null,
          null,
          null,
          null,
          null,
          0.92,
          null,
          17,
          null,
          30,
          24,
          18,
          null,
          null,
          null,
          null,
          null,
          null,
          31,
          40,
          null,
          null,
          null,
          null,
          null,
          36,
          null,
          null,
          null,
          16,
          null,
          45.5,
          38,
          null,
          null,
          null,
          29,
          41,
          null,
          45,
          null,
          24,
          null,
          null,
          null,
          null,
          null,
          null,
          null,
          null,
          null,
          null,
          null,
          null,
          null,
          null,
          22,
          null,
          null,
          null,
          null,
          null,
          null,
          null,
          null,
          null,
          60,
          null,
          null,
          24,
          25,
          null,
          null,
          22,
          null,
          null,
          null,
          27,
          null,
          null,
          42,
          null,
          null,
          35,
          null,
          null,
          null,
          null,
          null,
          null,
          36,
          null,
          null,
          23,
          null,
          null,
          null,
          null,
          null,
          null,
          null,
          null,
          null,
          null,
          null,
          null,
          null,
          null,
          null,
          null,
          null,
          null,
          33,
          null,
          null,
          null,
          null,
          null,
          null,
          null,
          null,
          null,
          null,
          null,
          null,
          null,
          null,
          null,
          null,
          null,
          28,
          null,
          null,
          null,
          50,
          14,
          null,
          null,
          64,
          null,
          null,
          null,
          null,
          null,
          null,
          4,
          null,
          34,
          null,
          52,
          null,
          null,
          30,
          49,
          null,
          null,
          65,
          null,
          null,
          null,
          48,
          null,
          47,
          null,
          null,
          null,
          null,
          56,
          null,
          null,
          null,
          null,
          null,
          null,
          null,
          null,
          null,
          null,
          null,
          null,
          null,
          null,
          null,
          null,
          25,
          null,
          35,
          58,
          null,
          null,
          null,
          null,
          55,
          71,
          null,
          null,
          54,
          null,
          25,
          null,
          null,
          null,
          null,
          null,
          16,
          18,
          null,
          null,
          null,
          null,
          null,
          null,
          36,
          54,
          null,
          47,
          null,
          null,
          null,
          null,
          30,
          null,
          null,
          44,
          null,
          null,
          null,
          null,
          null,
          null,
          null,
          null,
          null,
          null,
          null,
          null,
          45,
          30,
          null,
          22,
          36,
          null,
          null,
          null,
          50,
          64,
          null,
          null,
          null,
          null,
          17,
          null,
          null,
          null,
          null,
          62,
          48,
          null,
          39,
          null,
          null,
          null,
          null,
          null,
          null,
          null,
          null,
          null,
          null,
          null,
          null,
          53,
          36,
          null,
          null,
          null,
          null,
          39,
          null,
          null,
          null,
          39,
          null,
          36,
          null,
          18,
          null,
          60,
          null,
          null,
          null,
          52,
          null,
          null,
          null,
          null,
          null,
          null,
          null,
          49,
          null,
          null,
          null,
          null,
          35,
          null,
          null,
          27,
          null,
          40,
          null,
          null,
          null,
          null,
          null,
          null,
          null,
          null,
          null,
          null,
          null,
          42,
          null,
          null,
          null,
          61,
          null,
          21,
          null,
          null,
          80,
          null,
          32,
          null,
          null,
          null,
          null,
          null,
          null,
          null,
          null,
          24,
          null,
          null,
          null,
          48,
          null,
          56,
          null,
          null,
          null,
          null,
          null,
          null,
          null,
          null,
          null,
          null,
          null,
          58,
          50,
          null,
          47,
          null,
          null,
          null,
          null,
          null,
          null,
          null,
          null,
          31,
          null,
          null,
          null,
          null,
          null,
          null,
          null,
          36,
          null,
          27,
          null,
          null,
          null,
          null,
          null,
          null,
          null,
          15,
          31,
          null,
          null,
          null,
          60,
          null,
          null,
          null,
          49,
          null,
          18,
          35,
          null,
          null,
          null,
          null,
          null,
          42,
          22,
          null,
          24,
          null,
          48,
          null,
          null,
          null,
          38,
          null,
          null,
          null,
          null,
          null,
          null,
          null,
          27,
          null,
          null,
          null,
          null,
          null,
          29,
          null,
          null,
          null,
          null,
          null,
          null,
          35,
          null,
          null,
          null,
          36,
          21,
          null,
          null,
          70,
          null,
          null,
          19,
          null,
          null,
          null,
          null,
          null,
          null,
          null,
          null,
          null,
          null,
          33,
          null,
          null,
          null,
          36,
          null,
          51,
          null,
          null,
          null,
          null,
          null,
          null,
          null,
          null,
          null,
          null,
          null,
          null,
          null,
          43,
          null,
          17,
          29,
          null,
          null,
          null,
          null,
          null,
          null,
          46,
          null,
          null,
          null,
          null,
          null,
          null,
          49,
          null,
          null,
          null,
          null,
          null,
          11,
          null,
          null,
          null,
          39,
          null,
          null,
          33,
          null,
          null,
          null,
          null,
          null,
          null,
          null,
          null,
          null,
          null,
          52,
          null,
          38,
          null,
          null,
          null,
          null,
          null,
          null,
          62,
          null,
          null,
          null,
          null,
          null,
          39,
          null,
          null,
          null,
          null,
          null,
          null,
          30,
          null,
          null,
          null,
          null,
          null,
          null,
          null,
          null,
          null,
          null,
          16,
          null,
          null,
          45,
          51,
          null,
          null,
          null,
          null,
          48,
          null,
          null,
          null,
          null,
          31,
          null,
          null,
          null,
          47,
          33,
          null,
          null,
          null,
          null,
          null,
          null,
          56,
          null,
          null,
          null,
          null,
          null,
          null,
          null,
          19,
          null,
          26,
          null
         ]
        },
        {
         "boxpoints": false,
         "line": {
          "width": 1.3
         },
         "marker": {
          "color": "rgba(55, 128, 191, 1.0)"
         },
         "name": "2",
         "orientation": "v",
         "type": "box",
         "y": [
          null,
          null,
          null,
          null,
          null,
          null,
          null,
          null,
          null,
          14,
          null,
          null,
          null,
          null,
          null,
          55,
          null,
          null,
          null,
          null,
          35,
          34,
          null,
          null,
          null,
          null,
          null,
          null,
          null,
          null,
          null,
          null,
          null,
          66,
          null,
          null,
          null,
          null,
          null,
          null,
          null,
          27,
          null,
          3,
          null,
          null,
          null,
          null,
          null,
          null,
          null,
          null,
          null,
          29,
          null,
          null,
          21,
          null,
          5,
          null,
          null,
          null,
          null,
          null,
          null,
          null,
          29,
          null,
          null,
          null,
          32,
          null,
          21,
          null,
          null,
          null,
          null,
          null,
          0.83,
          null,
          null,
          null,
          null,
          null,
          17,
          null,
          null,
          null,
          null,
          null,
          null,
          null,
          null,
          null,
          null,
          null,
          null,
          null,
          34,
          34,
          null,
          null,
          null,
          null,
          null,
          null,
          null,
          null,
          null,
          null,
          null,
          null,
          null,
          null,
          null,
          null,
          null,
          29,
          null,
          null,
          21,
          null,
          32.5,
          32.5,
          null,
          null,
          null,
          null,
          null,
          null,
          null,
          null,
          null,
          29,
          25,
          23,
          null,
          null,
          null,
          null,
          null,
          null,
          null,
          null,
          18,
          19,
          null,
          null,
          36.5,
          42,
          51,
          null,
          null,
          null,
          null,
          null,
          null,
          null,
          null,
          null,
          null,
          40,
          null,
          null,
          null,
          null,
          null,
          null,
          null,
          null,
          null,
          null,
          null,
          null,
          null,
          null,
          null,
          null,
          30,
          null,
          null,
          null,
          null,
          1,
          null,
          null,
          null,
          null,
          null,
          null,
          32,
          19,
          null,
          3,
          null,
          null,
          null,
          null,
          null,
          24,
          null,
          null,
          null,
          null,
          null,
          null,
          null,
          null,
          null,
          null,
          null,
          35,
          null,
          30,
          null,
          null,
          null,
          42,
          null,
          30,
          null,
          27,
          null,
          null,
          null,
          null,
          19,
          null,
          18,
          null,
          null,
          null,
          59,
          null,
          24,
          null,
          44,
          8,
          19,
          33,
          null,
          null,
          29,
          null,
          null,
          null,
          null,
          24,
          null,
          54,
          null,
          null,
          null,
          null,
          null,
          null,
          null,
          null,
          null,
          50,
          null,
          null,
          null,
          null,
          null,
          36,
          null,
          null,
          null,
          null,
          null,
          null,
          41,
          null,
          null,
          null,
          null,
          null,
          null,
          null,
          null,
          null,
          null,
          null,
          null,
          null,
          null,
          null,
          42,
          null,
          null,
          null,
          36,
          null,
          null,
          null,
          null,
          null,
          null,
          null,
          null,
          null,
          null,
          null,
          null,
          null,
          null,
          null,
          30,
          null,
          null,
          null,
          26,
          null,
          43,
          null,
          24,
          54,
          null,
          null,
          null,
          null,
          30,
          22,
          null,
          null,
          null,
          36,
          null,
          null,
          null,
          null,
          null,
          null,
          null,
          null,
          null,
          null,
          null,
          null,
          2,
          null,
          28,
          25,
          36,
          24,
          40,
          null,
          null,
          null,
          null,
          null,
          null,
          null,
          null,
          null,
          null,
          38,
          null,
          null,
          null,
          29,
          null,
          null,
          null,
          null,
          null,
          null,
          null,
          null,
          null,
          null,
          null,
          null,
          null,
          null,
          null,
          null,
          null,
          null,
          null,
          null,
          null,
          null,
          null,
          18,
          null,
          36,
          null,
          17,
          null,
          null,
          null,
          null,
          null,
          null,
          null,
          46,
          23,
          28,
          null,
          null,
          null,
          null,
          null,
          34,
          null,
          3,
          null,
          null,
          null,
          null,
          null,
          null,
          null,
          null,
          34,
          18,
          30,
          null,
          null,
          null,
          null,
          null,
          null,
          null,
          28,
          19,
          null,
          null,
          null,
          null,
          42,
          null,
          null,
          null,
          null,
          24,
          null,
          31,
          45,
          null,
          null,
          28,
          null,
          null,
          13,
          null,
          null,
          null,
          36,
          null,
          null,
          null,
          null,
          null,
          null,
          null,
          50,
          null,
          null,
          null,
          null,
          48,
          null,
          null,
          null,
          null,
          null,
          null,
          null,
          null,
          33,
          23,
          null,
          null,
          34,
          null,
          null,
          null,
          null,
          null,
          null,
          null,
          null,
          null,
          null,
          null,
          null,
          null,
          null,
          null,
          null,
          null,
          null,
          null,
          null,
          null,
          null,
          null,
          null,
          null,
          null,
          null,
          null,
          null,
          33,
          null,
          null,
          null,
          null,
          null,
          null,
          null,
          null,
          null,
          34,
          null,
          36,
          null,
          null,
          null,
          null,
          null,
          null,
          null,
          50,
          null,
          null,
          23,
          2,
          null,
          null,
          null,
          null,
          7,
          null,
          null,
          null,
          null,
          null,
          null,
          null,
          32,
          null,
          null,
          19,
          null,
          null,
          8,
          null,
          27,
          null,
          null,
          null,
          null,
          null,
          null,
          null,
          null,
          null,
          null,
          28,
          null,
          null,
          null,
          null,
          null,
          null,
          null,
          62,
          null,
          null,
          null,
          null,
          null,
          34,
          null,
          null,
          null,
          25,
          null,
          54,
          null,
          null,
          null,
          47,
          null,
          null,
          null,
          null,
          null,
          null,
          null,
          37,
          null,
          null,
          null,
          null,
          null,
          24,
          null,
          null,
          null,
          null,
          null,
          null,
          null,
          22,
          null,
          null,
          null,
          null,
          null,
          null,
          24,
          null,
          null,
          4,
          26,
          null,
          null,
          null,
          null,
          null,
          null,
          57,
          null,
          null,
          null,
          null,
          null,
          null,
          null,
          null,
          28,
          null,
          31,
          null,
          null,
          null,
          null,
          null,
          null,
          null,
          null,
          null,
          null,
          null,
          null,
          null,
          18,
          null,
          null,
          null,
          24,
          null,
          null,
          23,
          null,
          null,
          null,
          null,
          null,
          null,
          32,
          25,
          null,
          null,
          null,
          40,
          null,
          70,
          31,
          null,
          null,
          null,
          null,
          null,
          null,
          null,
          null,
          null,
          null,
          60,
          25,
          null,
          null,
          null,
          null,
          null,
          null,
          null,
          null,
          null,
          52,
          null,
          null,
          null,
          null,
          null,
          null,
          null,
          null,
          null,
          39,
          45,
          null,
          null,
          null,
          null,
          null,
          null,
          null,
          52,
          null,
          null,
          27,
          null,
          null,
          6,
          null,
          34,
          50,
          null,
          null,
          30,
          null,
          25,
          null,
          null,
          null,
          null,
          23,
          23,
          null,
          null,
          null,
          null,
          null,
          null,
          null,
          null,
          null,
          null,
          null,
          null,
          30,
          null,
          null,
          4,
          null,
          null,
          null,
          48,
          0.67,
          null,
          18,
          null,
          null,
          null,
          null,
          null,
          null,
          null,
          null,
          null,
          null,
          null,
          null,
          null,
          null,
          57,
          null,
          54,
          null,
          null,
          null,
          null,
          null,
          null,
          null,
          null,
          null,
          null,
          null,
          null,
          null,
          null,
          null,
          null,
          16,
          null,
          null,
          null,
          39,
          null,
          null,
          null,
          null,
          34,
          31,
          null,
          null,
          null,
          null,
          null,
          null,
          39,
          null,
          null,
          null,
          35,
          null,
          null,
          null,
          null,
          31,
          null,
          null,
          null,
          null,
          null,
          null,
          null,
          null,
          null,
          1,
          null,
          null,
          null,
          0.83,
          null,
          null,
          null,
          null,
          null,
          null,
          null,
          null,
          null,
          16,
          null,
          null,
          null,
          null,
          null,
          null,
          28,
          null,
          null,
          null,
          null,
          null,
          44,
          null,
          null,
          null,
          null,
          null,
          null,
          21,
          null,
          null,
          24,
          42,
          27,
          null,
          null,
          null,
          null,
          null,
          null,
          null,
          28,
          null,
          null,
          null,
          null,
          null,
          25,
          null,
          null,
          28,
          null,
          null,
          27,
          null,
          null,
          null,
          null
         ]
        },
        {
         "boxpoints": false,
         "line": {
          "width": 1.3
         },
         "marker": {
          "color": "rgba(50, 171, 96, 1.0)"
         },
         "name": "3",
         "orientation": "v",
         "type": "box",
         "y": [
          22,
          null,
          26,
          null,
          35,
          null,
          null,
          2,
          27,
          null,
          4,
          null,
          20,
          39,
          14,
          null,
          2,
          null,
          31,
          null,
          null,
          null,
          15,
          null,
          8,
          38,
          null,
          null,
          null,
          null,
          null,
          null,
          null,
          null,
          null,
          null,
          null,
          21,
          18,
          14,
          40,
          null,
          null,
          null,
          19,
          null,
          null,
          null,
          null,
          18,
          7,
          21,
          null,
          null,
          null,
          null,
          null,
          28.5,
          null,
          11,
          22,
          null,
          null,
          4,
          null,
          null,
          null,
          19,
          17,
          26,
          null,
          16,
          null,
          26,
          32,
          25,
          null,
          null,
          null,
          30,
          22,
          29,
          null,
          null,
          null,
          33,
          16,
          null,
          null,
          24,
          29,
          20,
          null,
          26,
          59,
          null,
          null,
          null,
          null,
          null,
          28,
          null,
          null,
          33,
          37,
          28,
          21,
          null,
          38,
          null,
          null,
          14.5,
          22,
          20,
          17,
          21,
          70.5,
          null,
          null,
          2,
          null,
          null,
          null,
          null,
          null,
          12,
          null,
          24,
          null,
          45,
          33,
          20,
          47,
          null,
          null,
          null,
          null,
          null,
          16,
          null,
          null,
          22,
          24,
          19,
          null,
          null,
          27,
          9,
          null,
          null,
          null,
          null,
          55.5,
          40.5,
          null,
          null,
          16,
          30,
          null,
          null,
          44,
          null,
          26,
          17,
          1,
          9,
          null,
          45,
          null,
          28,
          null,
          4,
          1,
          21,
          null,
          18,
          null,
          null,
          null,
          36,
          null,
          null,
          9,
          null,
          4,
          null,
          null,
          null,
          40,
          36,
          null,
          null,
          19,
          null,
          null,
          null,
          null,
          42,
          null,
          null,
          28,
          null,
          34,
          45.5,
          18,
          2,
          32,
          26,
          16,
          null,
          24,
          null,
          22,
          null,
          null,
          null,
          27,
          null,
          null,
          null,
          16,
          null,
          51,
          null,
          null,
          22,
          null,
          20.5,
          null,
          null,
          null,
          29,
          null,
          5,
          null,
          null,
          null,
          null,
          null,
          null,
          null,
          null,
          null,
          22,
          30,
          null,
          25,
          null,
          null,
          null,
          null,
          29,
          null,
          30,
          41,
          29,
          null,
          null,
          null,
          null,
          null,
          3,
          null,
          null,
          null,
          null,
          16,
          25,
          null,
          null,
          null,
          25,
          null,
          null,
          null,
          null,
          45,
          null,
          7,
          35,
          65,
          28,
          16,
          19,
          null,
          33,
          30,
          22,
          null,
          22,
          null,
          null,
          null,
          24,
          24,
          null,
          23.5,
          null,
          null,
          null,
          null,
          null,
          19,
          null,
          null,
          null,
          null,
          null,
          null,
          null,
          null,
          null,
          null,
          28,
          null,
          26,
          null,
          null,
          null,
          null,
          22,
          27,
          null,
          null,
          null,
          null,
          61,
          null,
          31,
          null,
          null,
          null,
          null,
          16,
          null,
          null,
          null,
          null,
          45,
          null,
          null,
          null,
          null,
          null,
          null,
          null,
          null,
          null,
          3,
          42,
          23,
          null,
          15,
          25,
          null,
          28,
          null,
          null,
          null,
          null,
          40,
          null,
          45,
          35,
          null,
          30,
          null,
          null,
          null,
          null,
          null,
          18,
          19,
          null,
          3,
          null,
          22,
          null,
          20,
          19,
          null,
          1,
          32,
          null,
          null,
          null,
          1,
          null,
          null,
          null,
          null,
          21,
          28,
          null,
          24,
          22,
          31,
          null,
          null,
          null,
          39,
          26,
          21,
          28,
          20,
          null,
          51,
          null,
          21,
          null,
          null,
          null,
          null,
          null,
          44,
          null,
          null,
          null,
          null,
          10,
          null,
          21,
          29,
          28,
          18,
          null,
          null,
          null,
          null,
          32,
          null,
          null,
          null,
          17,
          null,
          null,
          21,
          null,
          null,
          null,
          null,
          20,
          25,
          null,
          null,
          null,
          null,
          null,
          5,
          null,
          null,
          null,
          null,
          null,
          null,
          29,
          null,
          null,
          null,
          null,
          null,
          34,
          null,
          null,
          null,
          38,
          null,
          null,
          null,
          0.75,
          null,
          38,
          null,
          null,
          22,
          null,
          null,
          29,
          22,
          2,
          9,
          null,
          50,
          63,
          null,
          null,
          null,
          null,
          30,
          9,
          null,
          21,
          null,
          null,
          21,
          null,
          null,
          null,
          null,
          24,
          17,
          21,
          null,
          37,
          null,
          null,
          null,
          null,
          28,
          26,
          29,
          null,
          null,
          null,
          24,
          null,
          null,
          null,
          null,
          32,
          null,
          22,
          null,
          null,
          null,
          40.5,
          null,
          null,
          39,
          null,
          null,
          null,
          17,
          null,
          30,
          null,
          null,
          null,
          null,
          null,
          null,
          9,
          11,
          null,
          null,
          null,
          null,
          null,
          33,
          null,
          null,
          null,
          null,
          22,
          22,
          null,
          null,
          null,
          null,
          36,
          null,
          40,
          null,
          null,
          null,
          24,
          19,
          29,
          null,
          32,
          null,
          null,
          null,
          null,
          16,
          19,
          null,
          null,
          null,
          32,
          null,
          null,
          null,
          null,
          null,
          null,
          null,
          null,
          22,
          null,
          35,
          null,
          47,
          null,
          null,
          36,
          null,
          49,
          null,
          null,
          null,
          null,
          null,
          44,
          null,
          36,
          30,
          null,
          null,
          null,
          39,
          null,
          null,
          null,
          35,
          null,
          34,
          26,
          null,
          null,
          27,
          null,
          20,
          21,
          21,
          null,
          null,
          null,
          26,
          null,
          null,
          51,
          null,
          null,
          9,
          null,
          32,
          null,
          41,
          null,
          20,
          null,
          2,
          null,
          0.75,
          null,
          19,
          null,
          null,
          23,
          null,
          null,
          21,
          null,
          18,
          null,
          null,
          32,
          null,
          null,
          null,
          40,
          null,
          36,
          20,
          null,
          null,
          null,
          43,
          null,
          null,
          null,
          null,
          null,
          null,
          18,
          24.5,
          18,
          43,
          null,
          null,
          null,
          20,
          14,
          null,
          null,
          14,
          19,
          18,
          null,
          null,
          4,
          null,
          25,
          null,
          null,
          44,
          null,
          null,
          42,
          null,
          null,
          18,
          25,
          26,
          null,
          null,
          null,
          null,
          null,
          null,
          null,
          null,
          29,
          null,
          19,
          null,
          null,
          null,
          33,
          null,
          17,
          null,
          null,
          null,
          20,
          null,
          null,
          null,
          25,
          null,
          11,
          null,
          null,
          null,
          28.5,
          48,
          null,
          null,
          null,
          null,
          null,
          null,
          24,
          31,
          null,
          16,
          null,
          null,
          31,
          null,
          6,
          33,
          23,
          null,
          null,
          28,
          null,
          34,
          null,
          null,
          41,
          20,
          null,
          16,
          null,
          null,
          30.5,
          null,
          32,
          24,
          48,
          null,
          null,
          null,
          18,
          null,
          5,
          null,
          null,
          13,
          null,
          null,
          null,
          25,
          25,
          18,
          8,
          1,
          null,
          null,
          null,
          null,
          null,
          25,
          null,
          null,
          31,
          30,
          30,
          null,
          null,
          null,
          0.42,
          27,
          31,
          null,
          18,
          null,
          null,
          26,
          39,
          null,
          6,
          30.5,
          null,
          23,
          null,
          43,
          10,
          null,
          27,
          null,
          27,
          2,
          null,
          null,
          null,
          null,
          null,
          15,
          null,
          null,
          23,
          18,
          null,
          21,
          null,
          32,
          null,
          20,
          null,
          null,
          34.5,
          17,
          42,
          null,
          35,
          null,
          null,
          4,
          74,
          9,
          null,
          null,
          18,
          null,
          null,
          24,
          null,
          41,
          null,
          null,
          null,
          null,
          null,
          null,
          null,
          null,
          4,
          26,
          null,
          null,
          47,
          null,
          15,
          20,
          19,
          null,
          null,
          null,
          33,
          22,
          null,
          25,
          39,
          null,
          null,
          null,
          null,
          32
         ]
        }
       ],
       "layout": {
        "autosize": true,
        "legend": {
         "bgcolor": "#F5F6F9",
         "font": {
          "color": "#4D5663"
         }
        },
        "paper_bgcolor": "#F5F6F9",
        "plot_bgcolor": "#F5F6F9",
        "template": {
         "data": {
          "bar": [
           {
            "error_x": {
             "color": "#2a3f5f"
            },
            "error_y": {
             "color": "#2a3f5f"
            },
            "marker": {
             "line": {
              "color": "#E5ECF6",
              "width": 0.5
             },
             "pattern": {
              "fillmode": "overlay",
              "size": 10,
              "solidity": 0.2
             }
            },
            "type": "bar"
           }
          ],
          "barpolar": [
           {
            "marker": {
             "line": {
              "color": "#E5ECF6",
              "width": 0.5
             },
             "pattern": {
              "fillmode": "overlay",
              "size": 10,
              "solidity": 0.2
             }
            },
            "type": "barpolar"
           }
          ],
          "carpet": [
           {
            "aaxis": {
             "endlinecolor": "#2a3f5f",
             "gridcolor": "white",
             "linecolor": "white",
             "minorgridcolor": "white",
             "startlinecolor": "#2a3f5f"
            },
            "baxis": {
             "endlinecolor": "#2a3f5f",
             "gridcolor": "white",
             "linecolor": "white",
             "minorgridcolor": "white",
             "startlinecolor": "#2a3f5f"
            },
            "type": "carpet"
           }
          ],
          "choropleth": [
           {
            "colorbar": {
             "outlinewidth": 0,
             "ticks": ""
            },
            "type": "choropleth"
           }
          ],
          "contour": [
           {
            "colorbar": {
             "outlinewidth": 0,
             "ticks": ""
            },
            "colorscale": [
             [
              0,
              "#0d0887"
             ],
             [
              0.1111111111111111,
              "#46039f"
             ],
             [
              0.2222222222222222,
              "#7201a8"
             ],
             [
              0.3333333333333333,
              "#9c179e"
             ],
             [
              0.4444444444444444,
              "#bd3786"
             ],
             [
              0.5555555555555556,
              "#d8576b"
             ],
             [
              0.6666666666666666,
              "#ed7953"
             ],
             [
              0.7777777777777778,
              "#fb9f3a"
             ],
             [
              0.8888888888888888,
              "#fdca26"
             ],
             [
              1,
              "#f0f921"
             ]
            ],
            "type": "contour"
           }
          ],
          "contourcarpet": [
           {
            "colorbar": {
             "outlinewidth": 0,
             "ticks": ""
            },
            "type": "contourcarpet"
           }
          ],
          "heatmap": [
           {
            "colorbar": {
             "outlinewidth": 0,
             "ticks": ""
            },
            "colorscale": [
             [
              0,
              "#0d0887"
             ],
             [
              0.1111111111111111,
              "#46039f"
             ],
             [
              0.2222222222222222,
              "#7201a8"
             ],
             [
              0.3333333333333333,
              "#9c179e"
             ],
             [
              0.4444444444444444,
              "#bd3786"
             ],
             [
              0.5555555555555556,
              "#d8576b"
             ],
             [
              0.6666666666666666,
              "#ed7953"
             ],
             [
              0.7777777777777778,
              "#fb9f3a"
             ],
             [
              0.8888888888888888,
              "#fdca26"
             ],
             [
              1,
              "#f0f921"
             ]
            ],
            "type": "heatmap"
           }
          ],
          "heatmapgl": [
           {
            "colorbar": {
             "outlinewidth": 0,
             "ticks": ""
            },
            "colorscale": [
             [
              0,
              "#0d0887"
             ],
             [
              0.1111111111111111,
              "#46039f"
             ],
             [
              0.2222222222222222,
              "#7201a8"
             ],
             [
              0.3333333333333333,
              "#9c179e"
             ],
             [
              0.4444444444444444,
              "#bd3786"
             ],
             [
              0.5555555555555556,
              "#d8576b"
             ],
             [
              0.6666666666666666,
              "#ed7953"
             ],
             [
              0.7777777777777778,
              "#fb9f3a"
             ],
             [
              0.8888888888888888,
              "#fdca26"
             ],
             [
              1,
              "#f0f921"
             ]
            ],
            "type": "heatmapgl"
           }
          ],
          "histogram": [
           {
            "marker": {
             "pattern": {
              "fillmode": "overlay",
              "size": 10,
              "solidity": 0.2
             }
            },
            "type": "histogram"
           }
          ],
          "histogram2d": [
           {
            "colorbar": {
             "outlinewidth": 0,
             "ticks": ""
            },
            "colorscale": [
             [
              0,
              "#0d0887"
             ],
             [
              0.1111111111111111,
              "#46039f"
             ],
             [
              0.2222222222222222,
              "#7201a8"
             ],
             [
              0.3333333333333333,
              "#9c179e"
             ],
             [
              0.4444444444444444,
              "#bd3786"
             ],
             [
              0.5555555555555556,
              "#d8576b"
             ],
             [
              0.6666666666666666,
              "#ed7953"
             ],
             [
              0.7777777777777778,
              "#fb9f3a"
             ],
             [
              0.8888888888888888,
              "#fdca26"
             ],
             [
              1,
              "#f0f921"
             ]
            ],
            "type": "histogram2d"
           }
          ],
          "histogram2dcontour": [
           {
            "colorbar": {
             "outlinewidth": 0,
             "ticks": ""
            },
            "colorscale": [
             [
              0,
              "#0d0887"
             ],
             [
              0.1111111111111111,
              "#46039f"
             ],
             [
              0.2222222222222222,
              "#7201a8"
             ],
             [
              0.3333333333333333,
              "#9c179e"
             ],
             [
              0.4444444444444444,
              "#bd3786"
             ],
             [
              0.5555555555555556,
              "#d8576b"
             ],
             [
              0.6666666666666666,
              "#ed7953"
             ],
             [
              0.7777777777777778,
              "#fb9f3a"
             ],
             [
              0.8888888888888888,
              "#fdca26"
             ],
             [
              1,
              "#f0f921"
             ]
            ],
            "type": "histogram2dcontour"
           }
          ],
          "mesh3d": [
           {
            "colorbar": {
             "outlinewidth": 0,
             "ticks": ""
            },
            "type": "mesh3d"
           }
          ],
          "parcoords": [
           {
            "line": {
             "colorbar": {
              "outlinewidth": 0,
              "ticks": ""
             }
            },
            "type": "parcoords"
           }
          ],
          "pie": [
           {
            "automargin": true,
            "type": "pie"
           }
          ],
          "scatter": [
           {
            "fillpattern": {
             "fillmode": "overlay",
             "size": 10,
             "solidity": 0.2
            },
            "type": "scatter"
           }
          ],
          "scatter3d": [
           {
            "line": {
             "colorbar": {
              "outlinewidth": 0,
              "ticks": ""
             }
            },
            "marker": {
             "colorbar": {
              "outlinewidth": 0,
              "ticks": ""
             }
            },
            "type": "scatter3d"
           }
          ],
          "scattercarpet": [
           {
            "marker": {
             "colorbar": {
              "outlinewidth": 0,
              "ticks": ""
             }
            },
            "type": "scattercarpet"
           }
          ],
          "scattergeo": [
           {
            "marker": {
             "colorbar": {
              "outlinewidth": 0,
              "ticks": ""
             }
            },
            "type": "scattergeo"
           }
          ],
          "scattergl": [
           {
            "marker": {
             "colorbar": {
              "outlinewidth": 0,
              "ticks": ""
             }
            },
            "type": "scattergl"
           }
          ],
          "scattermapbox": [
           {
            "marker": {
             "colorbar": {
              "outlinewidth": 0,
              "ticks": ""
             }
            },
            "type": "scattermapbox"
           }
          ],
          "scatterpolar": [
           {
            "marker": {
             "colorbar": {
              "outlinewidth": 0,
              "ticks": ""
             }
            },
            "type": "scatterpolar"
           }
          ],
          "scatterpolargl": [
           {
            "marker": {
             "colorbar": {
              "outlinewidth": 0,
              "ticks": ""
             }
            },
            "type": "scatterpolargl"
           }
          ],
          "scatterternary": [
           {
            "marker": {
             "colorbar": {
              "outlinewidth": 0,
              "ticks": ""
             }
            },
            "type": "scatterternary"
           }
          ],
          "surface": [
           {
            "colorbar": {
             "outlinewidth": 0,
             "ticks": ""
            },
            "colorscale": [
             [
              0,
              "#0d0887"
             ],
             [
              0.1111111111111111,
              "#46039f"
             ],
             [
              0.2222222222222222,
              "#7201a8"
             ],
             [
              0.3333333333333333,
              "#9c179e"
             ],
             [
              0.4444444444444444,
              "#bd3786"
             ],
             [
              0.5555555555555556,
              "#d8576b"
             ],
             [
              0.6666666666666666,
              "#ed7953"
             ],
             [
              0.7777777777777778,
              "#fb9f3a"
             ],
             [
              0.8888888888888888,
              "#fdca26"
             ],
             [
              1,
              "#f0f921"
             ]
            ],
            "type": "surface"
           }
          ],
          "table": [
           {
            "cells": {
             "fill": {
              "color": "#EBF0F8"
             },
             "line": {
              "color": "white"
             }
            },
            "header": {
             "fill": {
              "color": "#C8D4E3"
             },
             "line": {
              "color": "white"
             }
            },
            "type": "table"
           }
          ]
         },
         "layout": {
          "annotationdefaults": {
           "arrowcolor": "#2a3f5f",
           "arrowhead": 0,
           "arrowwidth": 1
          },
          "autotypenumbers": "strict",
          "coloraxis": {
           "colorbar": {
            "outlinewidth": 0,
            "ticks": ""
           }
          },
          "colorscale": {
           "diverging": [
            [
             0,
             "#8e0152"
            ],
            [
             0.1,
             "#c51b7d"
            ],
            [
             0.2,
             "#de77ae"
            ],
            [
             0.3,
             "#f1b6da"
            ],
            [
             0.4,
             "#fde0ef"
            ],
            [
             0.5,
             "#f7f7f7"
            ],
            [
             0.6,
             "#e6f5d0"
            ],
            [
             0.7,
             "#b8e186"
            ],
            [
             0.8,
             "#7fbc41"
            ],
            [
             0.9,
             "#4d9221"
            ],
            [
             1,
             "#276419"
            ]
           ],
           "sequential": [
            [
             0,
             "#0d0887"
            ],
            [
             0.1111111111111111,
             "#46039f"
            ],
            [
             0.2222222222222222,
             "#7201a8"
            ],
            [
             0.3333333333333333,
             "#9c179e"
            ],
            [
             0.4444444444444444,
             "#bd3786"
            ],
            [
             0.5555555555555556,
             "#d8576b"
            ],
            [
             0.6666666666666666,
             "#ed7953"
            ],
            [
             0.7777777777777778,
             "#fb9f3a"
            ],
            [
             0.8888888888888888,
             "#fdca26"
            ],
            [
             1,
             "#f0f921"
            ]
           ],
           "sequentialminus": [
            [
             0,
             "#0d0887"
            ],
            [
             0.1111111111111111,
             "#46039f"
            ],
            [
             0.2222222222222222,
             "#7201a8"
            ],
            [
             0.3333333333333333,
             "#9c179e"
            ],
            [
             0.4444444444444444,
             "#bd3786"
            ],
            [
             0.5555555555555556,
             "#d8576b"
            ],
            [
             0.6666666666666666,
             "#ed7953"
            ],
            [
             0.7777777777777778,
             "#fb9f3a"
            ],
            [
             0.8888888888888888,
             "#fdca26"
            ],
            [
             1,
             "#f0f921"
            ]
           ]
          },
          "colorway": [
           "#636efa",
           "#EF553B",
           "#00cc96",
           "#ab63fa",
           "#FFA15A",
           "#19d3f3",
           "#FF6692",
           "#B6E880",
           "#FF97FF",
           "#FECB52"
          ],
          "font": {
           "color": "#2a3f5f"
          },
          "geo": {
           "bgcolor": "white",
           "lakecolor": "white",
           "landcolor": "#E5ECF6",
           "showlakes": true,
           "showland": true,
           "subunitcolor": "white"
          },
          "hoverlabel": {
           "align": "left"
          },
          "hovermode": "closest",
          "mapbox": {
           "style": "light"
          },
          "paper_bgcolor": "white",
          "plot_bgcolor": "#E5ECF6",
          "polar": {
           "angularaxis": {
            "gridcolor": "white",
            "linecolor": "white",
            "ticks": ""
           },
           "bgcolor": "#E5ECF6",
           "radialaxis": {
            "gridcolor": "white",
            "linecolor": "white",
            "ticks": ""
           }
          },
          "scene": {
           "xaxis": {
            "backgroundcolor": "#E5ECF6",
            "gridcolor": "white",
            "gridwidth": 2,
            "linecolor": "white",
            "showbackground": true,
            "ticks": "",
            "zerolinecolor": "white"
           },
           "yaxis": {
            "backgroundcolor": "#E5ECF6",
            "gridcolor": "white",
            "gridwidth": 2,
            "linecolor": "white",
            "showbackground": true,
            "ticks": "",
            "zerolinecolor": "white"
           },
           "zaxis": {
            "backgroundcolor": "#E5ECF6",
            "gridcolor": "white",
            "gridwidth": 2,
            "linecolor": "white",
            "showbackground": true,
            "ticks": "",
            "zerolinecolor": "white"
           }
          },
          "shapedefaults": {
           "line": {
            "color": "#2a3f5f"
           }
          },
          "ternary": {
           "aaxis": {
            "gridcolor": "white",
            "linecolor": "white",
            "ticks": ""
           },
           "baxis": {
            "gridcolor": "white",
            "linecolor": "white",
            "ticks": ""
           },
           "bgcolor": "#E5ECF6",
           "caxis": {
            "gridcolor": "white",
            "linecolor": "white",
            "ticks": ""
           }
          },
          "title": {
           "x": 0.05
          },
          "xaxis": {
           "automargin": true,
           "gridcolor": "white",
           "linecolor": "white",
           "ticks": "",
           "title": {
            "standoff": 15
           },
           "zerolinecolor": "white",
           "zerolinewidth": 2
          },
          "yaxis": {
           "automargin": true,
           "gridcolor": "white",
           "linecolor": "white",
           "ticks": "",
           "title": {
            "standoff": 15
           },
           "zerolinecolor": "white",
           "zerolinewidth": 2
          }
         }
        },
        "title": {
         "font": {
          "color": "#4D5663"
         }
        },
        "xaxis": {
         "autorange": true,
         "gridcolor": "#E1E5ED",
         "range": [
          -0.5,
          2.5
         ],
         "showgrid": true,
         "tickfont": {
          "color": "#4D5663"
         },
         "title": {
          "font": {
           "color": "#4D5663"
          },
          "text": ""
         },
         "type": "category",
         "zerolinecolor": "#E1E5ED"
        },
        "yaxis": {
         "autorange": true,
         "gridcolor": "#E1E5ED",
         "range": [
          -4.001111111111111,
          84.42111111111112
         ],
         "showgrid": true,
         "tickfont": {
          "color": "#4D5663"
         },
         "title": {
          "font": {
           "color": "#4D5663"
          },
          "text": ""
         },
         "type": "linear",
         "zerolinecolor": "#E1E5ED"
        }
       }
      },
      "text/html": [
       "<div>                            <div id=\"00837c5a-3f1a-4dec-9d17-c681c798c95d\" class=\"plotly-graph-div\" style=\"height:525px; width:100%;\"></div>            <script type=\"text/javascript\">                require([\"plotly\"], function(Plotly) {                    window.PLOTLYENV=window.PLOTLYENV || {};\n",
       "                    window.PLOTLYENV.BASE_URL='https://plot.ly';                                    if (document.getElementById(\"00837c5a-3f1a-4dec-9d17-c681c798c95d\")) {                    Plotly.newPlot(                        \"00837c5a-3f1a-4dec-9d17-c681c798c95d\",                        [{\"boxpoints\":false,\"line\":{\"width\":1.3},\"marker\":{\"color\":\"rgba(255, 153, 51, 1.0)\"},\"name\":\"1\",\"orientation\":\"v\",\"y\":[null,38.0,null,35.0,null,null,54.0,null,null,null,null,58.0,null,null,null,null,null,null,null,null,null,null,null,28.0,null,null,null,19.0,null,null,40.0,null,null,null,28.0,42.0,null,null,null,null,null,null,null,null,null,null,null,null,null,null,null,null,49.0,null,65.0,null,null,null,null,null,null,38.0,45.0,null,null,null,null,null,null,null,null,null,null,null,null,null,null,null,null,null,null,null,null,28.0,null,null,null,null,23.0,null,null,null,46.0,null,null,null,71.0,23.0,null,null,null,null,21.0,null,null,null,null,null,null,null,47.0,null,null,null,null,null,null,null,24.0,null,null,null,null,null,54.0,null,null,null,null,null,null,null,null,null,null,null,19.0,37.0,null,24.0,null,null,null,null,null,null,null,null,null,null,null,22.0,null,null,null,51.0,null,null,null,null,null,null,null,null,null,null,null,null,null,null,61.0,null,null,null,56.0,null,null,50.0,null,null,null,null,null,null,null,null,null,45.0,null,null,null,null,null,null,44.0,58.0,null,null,null,null,null,null,null,null,null,null,null,null,null,40.0,null,null,null,null,null,31.0,null,null,32.0,null,null,null,null,null,38.0,null,null,null,null,null,35.0,null,null,null,null,null,null,null,null,null,null,null,null,null,null,44.0,null,null,37.0,null,null,null,62.0,null,null,null,null,30.0,35.0,null,null,null,52.0,40.0,null,null,null,null,58.0,35.0,null,null,null,37.0,null,63.0,null,null,null,null,null,null,null,null,null,null,null,null,null,null,26.0,19.0,null,null,null,null,null,2.0,null,50.0,null,null,null,null,null,0.92,null,17.0,null,30.0,24.0,18.0,null,null,null,null,null,null,31.0,40.0,null,null,null,null,null,36.0,null,null,null,16.0,null,45.5,38.0,null,null,null,29.0,41.0,null,45.0,null,24.0,null,null,null,null,null,null,null,null,null,null,null,null,null,null,22.0,null,null,null,null,null,null,null,null,null,60.0,null,null,24.0,25.0,null,null,22.0,null,null,null,27.0,null,null,42.0,null,null,35.0,null,null,null,null,null,null,36.0,null,null,23.0,null,null,null,null,null,null,null,null,null,null,null,null,null,null,null,null,null,null,33.0,null,null,null,null,null,null,null,null,null,null,null,null,null,null,null,null,null,28.0,null,null,null,50.0,14.0,null,null,64.0,null,null,null,null,null,null,4.0,null,34.0,null,52.0,null,null,30.0,49.0,null,null,65.0,null,null,null,48.0,null,47.0,null,null,null,null,56.0,null,null,null,null,null,null,null,null,null,null,null,null,null,null,null,null,25.0,null,35.0,58.0,null,null,null,null,55.0,71.0,null,null,54.0,null,25.0,null,null,null,null,null,16.0,18.0,null,null,null,null,null,null,36.0,54.0,null,47.0,null,null,null,null,30.0,null,null,44.0,null,null,null,null,null,null,null,null,null,null,null,null,45.0,30.0,null,22.0,36.0,null,null,null,50.0,64.0,null,null,null,null,17.0,null,null,null,null,62.0,48.0,null,39.0,null,null,null,null,null,null,null,null,null,null,null,null,53.0,36.0,null,null,null,null,39.0,null,null,null,39.0,null,36.0,null,18.0,null,60.0,null,null,null,52.0,null,null,null,null,null,null,null,49.0,null,null,null,null,35.0,null,null,27.0,null,40.0,null,null,null,null,null,null,null,null,null,null,null,42.0,null,null,null,61.0,null,21.0,null,null,80.0,null,32.0,null,null,null,null,null,null,null,null,24.0,null,null,null,48.0,null,56.0,null,null,null,null,null,null,null,null,null,null,null,58.0,50.0,null,47.0,null,null,null,null,null,null,null,null,31.0,null,null,null,null,null,null,null,36.0,null,27.0,null,null,null,null,null,null,null,15.0,31.0,null,null,null,60.0,null,null,null,49.0,null,18.0,35.0,null,null,null,null,null,42.0,22.0,null,24.0,null,48.0,null,null,null,38.0,null,null,null,null,null,null,null,27.0,null,null,null,null,null,29.0,null,null,null,null,null,null,35.0,null,null,null,36.0,21.0,null,null,70.0,null,null,19.0,null,null,null,null,null,null,null,null,null,null,33.0,null,null,null,36.0,null,51.0,null,null,null,null,null,null,null,null,null,null,null,null,null,43.0,null,17.0,29.0,null,null,null,null,null,null,46.0,null,null,null,null,null,null,49.0,null,null,null,null,null,11.0,null,null,null,39.0,null,null,33.0,null,null,null,null,null,null,null,null,null,null,52.0,null,38.0,null,null,null,null,null,null,62.0,null,null,null,null,null,39.0,null,null,null,null,null,null,30.0,null,null,null,null,null,null,null,null,null,null,16.0,null,null,45.0,51.0,null,null,null,null,48.0,null,null,null,null,31.0,null,null,null,47.0,33.0,null,null,null,null,null,null,56.0,null,null,null,null,null,null,null,19.0,null,26.0,null],\"type\":\"box\"},{\"boxpoints\":false,\"line\":{\"width\":1.3},\"marker\":{\"color\":\"rgba(55, 128, 191, 1.0)\"},\"name\":\"2\",\"orientation\":\"v\",\"y\":[null,null,null,null,null,null,null,null,null,14.0,null,null,null,null,null,55.0,null,null,null,null,35.0,34.0,null,null,null,null,null,null,null,null,null,null,null,66.0,null,null,null,null,null,null,null,27.0,null,3.0,null,null,null,null,null,null,null,null,null,29.0,null,null,21.0,null,5.0,null,null,null,null,null,null,null,29.0,null,null,null,32.0,null,21.0,null,null,null,null,null,0.83,null,null,null,null,null,17.0,null,null,null,null,null,null,null,null,null,null,null,null,null,34.0,34.0,null,null,null,null,null,null,null,null,null,null,null,null,null,null,null,null,null,29.0,null,null,21.0,null,32.5,32.5,null,null,null,null,null,null,null,null,null,29.0,25.0,23.0,null,null,null,null,null,null,null,null,18.0,19.0,null,null,36.5,42.0,51.0,null,null,null,null,null,null,null,null,null,null,40.0,null,null,null,null,null,null,null,null,null,null,null,null,null,null,null,null,30.0,null,null,null,null,1.0,null,null,null,null,null,null,32.0,19.0,null,3.0,null,null,null,null,null,24.0,null,null,null,null,null,null,null,null,null,null,null,35.0,null,30.0,null,null,null,42.0,null,30.0,null,27.0,null,null,null,null,19.0,null,18.0,null,null,null,59.0,null,24.0,null,44.0,8.0,19.0,33.0,null,null,29.0,null,null,null,null,24.0,null,54.0,null,null,null,null,null,null,null,null,null,50.0,null,null,null,null,null,36.0,null,null,null,null,null,null,41.0,null,null,null,null,null,null,null,null,null,null,null,null,null,null,null,42.0,null,null,null,36.0,null,null,null,null,null,null,null,null,null,null,null,null,null,null,null,30.0,null,null,null,26.0,null,43.0,null,24.0,54.0,null,null,null,null,30.0,22.0,null,null,null,36.0,null,null,null,null,null,null,null,null,null,null,null,null,2.0,null,28.0,25.0,36.0,24.0,40.0,null,null,null,null,null,null,null,null,null,null,38.0,null,null,null,29.0,null,null,null,null,null,null,null,null,null,null,null,null,null,null,null,null,null,null,null,null,null,null,null,18.0,null,36.0,null,17.0,null,null,null,null,null,null,null,46.0,23.0,28.0,null,null,null,null,null,34.0,null,3.0,null,null,null,null,null,null,null,null,34.0,18.0,30.0,null,null,null,null,null,null,null,28.0,19.0,null,null,null,null,42.0,null,null,null,null,24.0,null,31.0,45.0,null,null,28.0,null,null,13.0,null,null,null,36.0,null,null,null,null,null,null,null,50.0,null,null,null,null,48.0,null,null,null,null,null,null,null,null,33.0,23.0,null,null,34.0,null,null,null,null,null,null,null,null,null,null,null,null,null,null,null,null,null,null,null,null,null,null,null,null,null,null,null,null,null,33.0,null,null,null,null,null,null,null,null,null,34.0,null,36.0,null,null,null,null,null,null,null,50.0,null,null,23.0,2.0,null,null,null,null,7.0,null,null,null,null,null,null,null,32.0,null,null,19.0,null,null,8.0,null,27.0,null,null,null,null,null,null,null,null,null,null,28.0,null,null,null,null,null,null,null,62.0,null,null,null,null,null,34.0,null,null,null,25.0,null,54.0,null,null,null,47.0,null,null,null,null,null,null,null,37.0,null,null,null,null,null,24.0,null,null,null,null,null,null,null,22.0,null,null,null,null,null,null,24.0,null,null,4.0,26.0,null,null,null,null,null,null,57.0,null,null,null,null,null,null,null,null,28.0,null,31.0,null,null,null,null,null,null,null,null,null,null,null,null,null,18.0,null,null,null,24.0,null,null,23.0,null,null,null,null,null,null,32.0,25.0,null,null,null,40.0,null,70.0,31.0,null,null,null,null,null,null,null,null,null,null,60.0,25.0,null,null,null,null,null,null,null,null,null,52.0,null,null,null,null,null,null,null,null,null,39.0,45.0,null,null,null,null,null,null,null,52.0,null,null,27.0,null,null,6.0,null,34.0,50.0,null,null,30.0,null,25.0,null,null,null,null,23.0,23.0,null,null,null,null,null,null,null,null,null,null,null,null,30.0,null,null,4.0,null,null,null,48.0,0.67,null,18.0,null,null,null,null,null,null,null,null,null,null,null,null,null,null,57.0,null,54.0,null,null,null,null,null,null,null,null,null,null,null,null,null,null,null,null,16.0,null,null,null,39.0,null,null,null,null,34.0,31.0,null,null,null,null,null,null,39.0,null,null,null,35.0,null,null,null,null,31.0,null,null,null,null,null,null,null,null,null,1.0,null,null,null,0.83,null,null,null,null,null,null,null,null,null,16.0,null,null,null,null,null,null,28.0,null,null,null,null,null,44.0,null,null,null,null,null,null,21.0,null,null,24.0,42.0,27.0,null,null,null,null,null,null,null,28.0,null,null,null,null,null,25.0,null,null,28.0,null,null,27.0,null,null,null,null],\"type\":\"box\"},{\"boxpoints\":false,\"line\":{\"width\":1.3},\"marker\":{\"color\":\"rgba(50, 171, 96, 1.0)\"},\"name\":\"3\",\"orientation\":\"v\",\"y\":[22.0,null,26.0,null,35.0,null,null,2.0,27.0,null,4.0,null,20.0,39.0,14.0,null,2.0,null,31.0,null,null,null,15.0,null,8.0,38.0,null,null,null,null,null,null,null,null,null,null,null,21.0,18.0,14.0,40.0,null,null,null,19.0,null,null,null,null,18.0,7.0,21.0,null,null,null,null,null,28.5,null,11.0,22.0,null,null,4.0,null,null,null,19.0,17.0,26.0,null,16.0,null,26.0,32.0,25.0,null,null,null,30.0,22.0,29.0,null,null,null,33.0,16.0,null,null,24.0,29.0,20.0,null,26.0,59.0,null,null,null,null,null,28.0,null,null,33.0,37.0,28.0,21.0,null,38.0,null,null,14.5,22.0,20.0,17.0,21.0,70.5,null,null,2.0,null,null,null,null,null,12.0,null,24.0,null,45.0,33.0,20.0,47.0,null,null,null,null,null,16.0,null,null,22.0,24.0,19.0,null,null,27.0,9.0,null,null,null,null,55.5,40.5,null,null,16.0,30.0,null,null,44.0,null,26.0,17.0,1.0,9.0,null,45.0,null,28.0,null,4.0,1.0,21.0,null,18.0,null,null,null,36.0,null,null,9.0,null,4.0,null,null,null,40.0,36.0,null,null,19.0,null,null,null,null,42.0,null,null,28.0,null,34.0,45.5,18.0,2.0,32.0,26.0,16.0,null,24.0,null,22.0,null,null,null,27.0,null,null,null,16.0,null,51.0,null,null,22.0,null,20.5,null,null,null,29.0,null,5.0,null,null,null,null,null,null,null,null,null,22.0,30.0,null,25.0,null,null,null,null,29.0,null,30.0,41.0,29.0,null,null,null,null,null,3.0,null,null,null,null,16.0,25.0,null,null,null,25.0,null,null,null,null,45.0,null,7.0,35.0,65.0,28.0,16.0,19.0,null,33.0,30.0,22.0,null,22.0,null,null,null,24.0,24.0,null,23.5,null,null,null,null,null,19.0,null,null,null,null,null,null,null,null,null,null,28.0,null,26.0,null,null,null,null,22.0,27.0,null,null,null,null,61.0,null,31.0,null,null,null,null,16.0,null,null,null,null,45.0,null,null,null,null,null,null,null,null,null,3.0,42.0,23.0,null,15.0,25.0,null,28.0,null,null,null,null,40.0,null,45.0,35.0,null,30.0,null,null,null,null,null,18.0,19.0,null,3.0,null,22.0,null,20.0,19.0,null,1.0,32.0,null,null,null,1.0,null,null,null,null,21.0,28.0,null,24.0,22.0,31.0,null,null,null,39.0,26.0,21.0,28.0,20.0,null,51.0,null,21.0,null,null,null,null,null,44.0,null,null,null,null,10.0,null,21.0,29.0,28.0,18.0,null,null,null,null,32.0,null,null,null,17.0,null,null,21.0,null,null,null,null,20.0,25.0,null,null,null,null,null,5.0,null,null,null,null,null,null,29.0,null,null,null,null,null,34.0,null,null,null,38.0,null,null,null,0.75,null,38.0,null,null,22.0,null,null,29.0,22.0,2.0,9.0,null,50.0,63.0,null,null,null,null,30.0,9.0,null,21.0,null,null,21.0,null,null,null,null,24.0,17.0,21.0,null,37.0,null,null,null,null,28.0,26.0,29.0,null,null,null,24.0,null,null,null,null,32.0,null,22.0,null,null,null,40.5,null,null,39.0,null,null,null,17.0,null,30.0,null,null,null,null,null,null,9.0,11.0,null,null,null,null,null,33.0,null,null,null,null,22.0,22.0,null,null,null,null,36.0,null,40.0,null,null,null,24.0,19.0,29.0,null,32.0,null,null,null,null,16.0,19.0,null,null,null,32.0,null,null,null,null,null,null,null,null,22.0,null,35.0,null,47.0,null,null,36.0,null,49.0,null,null,null,null,null,44.0,null,36.0,30.0,null,null,null,39.0,null,null,null,35.0,null,34.0,26.0,null,null,27.0,null,20.0,21.0,21.0,null,null,null,26.0,null,null,51.0,null,null,9.0,null,32.0,null,41.0,null,20.0,null,2.0,null,0.75,null,19.0,null,null,23.0,null,null,21.0,null,18.0,null,null,32.0,null,null,null,40.0,null,36.0,20.0,null,null,null,43.0,null,null,null,null,null,null,18.0,24.5,18.0,43.0,null,null,null,20.0,14.0,null,null,14.0,19.0,18.0,null,null,4.0,null,25.0,null,null,44.0,null,null,42.0,null,null,18.0,25.0,26.0,null,null,null,null,null,null,null,null,29.0,null,19.0,null,null,null,33.0,null,17.0,null,null,null,20.0,null,null,null,25.0,null,11.0,null,null,null,28.5,48.0,null,null,null,null,null,null,24.0,31.0,null,16.0,null,null,31.0,null,6.0,33.0,23.0,null,null,28.0,null,34.0,null,null,41.0,20.0,null,16.0,null,null,30.5,null,32.0,24.0,48.0,null,null,null,18.0,null,5.0,null,null,13.0,null,null,null,25.0,25.0,18.0,8.0,1.0,null,null,null,null,null,25.0,null,null,31.0,30.0,30.0,null,null,null,0.42,27.0,31.0,null,18.0,null,null,26.0,39.0,null,6.0,30.5,null,23.0,null,43.0,10.0,null,27.0,null,27.0,2.0,null,null,null,null,null,15.0,null,null,23.0,18.0,null,21.0,null,32.0,null,20.0,null,null,34.5,17.0,42.0,null,35.0,null,null,4.0,74.0,9.0,null,null,18.0,null,null,24.0,null,41.0,null,null,null,null,null,null,null,null,4.0,26.0,null,null,47.0,null,15.0,20.0,19.0,null,null,null,33.0,22.0,null,25.0,39.0,null,null,null,null,32.0],\"type\":\"box\"}],                        {\"legend\":{\"bgcolor\":\"#F5F6F9\",\"font\":{\"color\":\"#4D5663\"}},\"paper_bgcolor\":\"#F5F6F9\",\"plot_bgcolor\":\"#F5F6F9\",\"template\":{\"data\":{\"barpolar\":[{\"marker\":{\"line\":{\"color\":\"#E5ECF6\",\"width\":0.5},\"pattern\":{\"fillmode\":\"overlay\",\"size\":10,\"solidity\":0.2}},\"type\":\"barpolar\"}],\"bar\":[{\"error_x\":{\"color\":\"#2a3f5f\"},\"error_y\":{\"color\":\"#2a3f5f\"},\"marker\":{\"line\":{\"color\":\"#E5ECF6\",\"width\":0.5},\"pattern\":{\"fillmode\":\"overlay\",\"size\":10,\"solidity\":0.2}},\"type\":\"bar\"}],\"carpet\":[{\"aaxis\":{\"endlinecolor\":\"#2a3f5f\",\"gridcolor\":\"white\",\"linecolor\":\"white\",\"minorgridcolor\":\"white\",\"startlinecolor\":\"#2a3f5f\"},\"baxis\":{\"endlinecolor\":\"#2a3f5f\",\"gridcolor\":\"white\",\"linecolor\":\"white\",\"minorgridcolor\":\"white\",\"startlinecolor\":\"#2a3f5f\"},\"type\":\"carpet\"}],\"choropleth\":[{\"colorbar\":{\"outlinewidth\":0,\"ticks\":\"\"},\"type\":\"choropleth\"}],\"contourcarpet\":[{\"colorbar\":{\"outlinewidth\":0,\"ticks\":\"\"},\"type\":\"contourcarpet\"}],\"contour\":[{\"colorbar\":{\"outlinewidth\":0,\"ticks\":\"\"},\"colorscale\":[[0.0,\"#0d0887\"],[0.1111111111111111,\"#46039f\"],[0.2222222222222222,\"#7201a8\"],[0.3333333333333333,\"#9c179e\"],[0.4444444444444444,\"#bd3786\"],[0.5555555555555556,\"#d8576b\"],[0.6666666666666666,\"#ed7953\"],[0.7777777777777778,\"#fb9f3a\"],[0.8888888888888888,\"#fdca26\"],[1.0,\"#f0f921\"]],\"type\":\"contour\"}],\"heatmapgl\":[{\"colorbar\":{\"outlinewidth\":0,\"ticks\":\"\"},\"colorscale\":[[0.0,\"#0d0887\"],[0.1111111111111111,\"#46039f\"],[0.2222222222222222,\"#7201a8\"],[0.3333333333333333,\"#9c179e\"],[0.4444444444444444,\"#bd3786\"],[0.5555555555555556,\"#d8576b\"],[0.6666666666666666,\"#ed7953\"],[0.7777777777777778,\"#fb9f3a\"],[0.8888888888888888,\"#fdca26\"],[1.0,\"#f0f921\"]],\"type\":\"heatmapgl\"}],\"heatmap\":[{\"colorbar\":{\"outlinewidth\":0,\"ticks\":\"\"},\"colorscale\":[[0.0,\"#0d0887\"],[0.1111111111111111,\"#46039f\"],[0.2222222222222222,\"#7201a8\"],[0.3333333333333333,\"#9c179e\"],[0.4444444444444444,\"#bd3786\"],[0.5555555555555556,\"#d8576b\"],[0.6666666666666666,\"#ed7953\"],[0.7777777777777778,\"#fb9f3a\"],[0.8888888888888888,\"#fdca26\"],[1.0,\"#f0f921\"]],\"type\":\"heatmap\"}],\"histogram2dcontour\":[{\"colorbar\":{\"outlinewidth\":0,\"ticks\":\"\"},\"colorscale\":[[0.0,\"#0d0887\"],[0.1111111111111111,\"#46039f\"],[0.2222222222222222,\"#7201a8\"],[0.3333333333333333,\"#9c179e\"],[0.4444444444444444,\"#bd3786\"],[0.5555555555555556,\"#d8576b\"],[0.6666666666666666,\"#ed7953\"],[0.7777777777777778,\"#fb9f3a\"],[0.8888888888888888,\"#fdca26\"],[1.0,\"#f0f921\"]],\"type\":\"histogram2dcontour\"}],\"histogram2d\":[{\"colorbar\":{\"outlinewidth\":0,\"ticks\":\"\"},\"colorscale\":[[0.0,\"#0d0887\"],[0.1111111111111111,\"#46039f\"],[0.2222222222222222,\"#7201a8\"],[0.3333333333333333,\"#9c179e\"],[0.4444444444444444,\"#bd3786\"],[0.5555555555555556,\"#d8576b\"],[0.6666666666666666,\"#ed7953\"],[0.7777777777777778,\"#fb9f3a\"],[0.8888888888888888,\"#fdca26\"],[1.0,\"#f0f921\"]],\"type\":\"histogram2d\"}],\"histogram\":[{\"marker\":{\"pattern\":{\"fillmode\":\"overlay\",\"size\":10,\"solidity\":0.2}},\"type\":\"histogram\"}],\"mesh3d\":[{\"colorbar\":{\"outlinewidth\":0,\"ticks\":\"\"},\"type\":\"mesh3d\"}],\"parcoords\":[{\"line\":{\"colorbar\":{\"outlinewidth\":0,\"ticks\":\"\"}},\"type\":\"parcoords\"}],\"pie\":[{\"automargin\":true,\"type\":\"pie\"}],\"scatter3d\":[{\"line\":{\"colorbar\":{\"outlinewidth\":0,\"ticks\":\"\"}},\"marker\":{\"colorbar\":{\"outlinewidth\":0,\"ticks\":\"\"}},\"type\":\"scatter3d\"}],\"scattercarpet\":[{\"marker\":{\"colorbar\":{\"outlinewidth\":0,\"ticks\":\"\"}},\"type\":\"scattercarpet\"}],\"scattergeo\":[{\"marker\":{\"colorbar\":{\"outlinewidth\":0,\"ticks\":\"\"}},\"type\":\"scattergeo\"}],\"scattergl\":[{\"marker\":{\"colorbar\":{\"outlinewidth\":0,\"ticks\":\"\"}},\"type\":\"scattergl\"}],\"scattermapbox\":[{\"marker\":{\"colorbar\":{\"outlinewidth\":0,\"ticks\":\"\"}},\"type\":\"scattermapbox\"}],\"scatterpolargl\":[{\"marker\":{\"colorbar\":{\"outlinewidth\":0,\"ticks\":\"\"}},\"type\":\"scatterpolargl\"}],\"scatterpolar\":[{\"marker\":{\"colorbar\":{\"outlinewidth\":0,\"ticks\":\"\"}},\"type\":\"scatterpolar\"}],\"scatter\":[{\"fillpattern\":{\"fillmode\":\"overlay\",\"size\":10,\"solidity\":0.2},\"type\":\"scatter\"}],\"scatterternary\":[{\"marker\":{\"colorbar\":{\"outlinewidth\":0,\"ticks\":\"\"}},\"type\":\"scatterternary\"}],\"surface\":[{\"colorbar\":{\"outlinewidth\":0,\"ticks\":\"\"},\"colorscale\":[[0.0,\"#0d0887\"],[0.1111111111111111,\"#46039f\"],[0.2222222222222222,\"#7201a8\"],[0.3333333333333333,\"#9c179e\"],[0.4444444444444444,\"#bd3786\"],[0.5555555555555556,\"#d8576b\"],[0.6666666666666666,\"#ed7953\"],[0.7777777777777778,\"#fb9f3a\"],[0.8888888888888888,\"#fdca26\"],[1.0,\"#f0f921\"]],\"type\":\"surface\"}],\"table\":[{\"cells\":{\"fill\":{\"color\":\"#EBF0F8\"},\"line\":{\"color\":\"white\"}},\"header\":{\"fill\":{\"color\":\"#C8D4E3\"},\"line\":{\"color\":\"white\"}},\"type\":\"table\"}]},\"layout\":{\"annotationdefaults\":{\"arrowcolor\":\"#2a3f5f\",\"arrowhead\":0,\"arrowwidth\":1},\"autotypenumbers\":\"strict\",\"coloraxis\":{\"colorbar\":{\"outlinewidth\":0,\"ticks\":\"\"}},\"colorscale\":{\"diverging\":[[0,\"#8e0152\"],[0.1,\"#c51b7d\"],[0.2,\"#de77ae\"],[0.3,\"#f1b6da\"],[0.4,\"#fde0ef\"],[0.5,\"#f7f7f7\"],[0.6,\"#e6f5d0\"],[0.7,\"#b8e186\"],[0.8,\"#7fbc41\"],[0.9,\"#4d9221\"],[1,\"#276419\"]],\"sequential\":[[0.0,\"#0d0887\"],[0.1111111111111111,\"#46039f\"],[0.2222222222222222,\"#7201a8\"],[0.3333333333333333,\"#9c179e\"],[0.4444444444444444,\"#bd3786\"],[0.5555555555555556,\"#d8576b\"],[0.6666666666666666,\"#ed7953\"],[0.7777777777777778,\"#fb9f3a\"],[0.8888888888888888,\"#fdca26\"],[1.0,\"#f0f921\"]],\"sequentialminus\":[[0.0,\"#0d0887\"],[0.1111111111111111,\"#46039f\"],[0.2222222222222222,\"#7201a8\"],[0.3333333333333333,\"#9c179e\"],[0.4444444444444444,\"#bd3786\"],[0.5555555555555556,\"#d8576b\"],[0.6666666666666666,\"#ed7953\"],[0.7777777777777778,\"#fb9f3a\"],[0.8888888888888888,\"#fdca26\"],[1.0,\"#f0f921\"]]},\"colorway\":[\"#636efa\",\"#EF553B\",\"#00cc96\",\"#ab63fa\",\"#FFA15A\",\"#19d3f3\",\"#FF6692\",\"#B6E880\",\"#FF97FF\",\"#FECB52\"],\"font\":{\"color\":\"#2a3f5f\"},\"geo\":{\"bgcolor\":\"white\",\"lakecolor\":\"white\",\"landcolor\":\"#E5ECF6\",\"showlakes\":true,\"showland\":true,\"subunitcolor\":\"white\"},\"hoverlabel\":{\"align\":\"left\"},\"hovermode\":\"closest\",\"mapbox\":{\"style\":\"light\"},\"paper_bgcolor\":\"white\",\"plot_bgcolor\":\"#E5ECF6\",\"polar\":{\"angularaxis\":{\"gridcolor\":\"white\",\"linecolor\":\"white\",\"ticks\":\"\"},\"bgcolor\":\"#E5ECF6\",\"radialaxis\":{\"gridcolor\":\"white\",\"linecolor\":\"white\",\"ticks\":\"\"}},\"scene\":{\"xaxis\":{\"backgroundcolor\":\"#E5ECF6\",\"gridcolor\":\"white\",\"gridwidth\":2,\"linecolor\":\"white\",\"showbackground\":true,\"ticks\":\"\",\"zerolinecolor\":\"white\"},\"yaxis\":{\"backgroundcolor\":\"#E5ECF6\",\"gridcolor\":\"white\",\"gridwidth\":2,\"linecolor\":\"white\",\"showbackground\":true,\"ticks\":\"\",\"zerolinecolor\":\"white\"},\"zaxis\":{\"backgroundcolor\":\"#E5ECF6\",\"gridcolor\":\"white\",\"gridwidth\":2,\"linecolor\":\"white\",\"showbackground\":true,\"ticks\":\"\",\"zerolinecolor\":\"white\"}},\"shapedefaults\":{\"line\":{\"color\":\"#2a3f5f\"}},\"ternary\":{\"aaxis\":{\"gridcolor\":\"white\",\"linecolor\":\"white\",\"ticks\":\"\"},\"baxis\":{\"gridcolor\":\"white\",\"linecolor\":\"white\",\"ticks\":\"\"},\"bgcolor\":\"#E5ECF6\",\"caxis\":{\"gridcolor\":\"white\",\"linecolor\":\"white\",\"ticks\":\"\"}},\"title\":{\"x\":0.05},\"xaxis\":{\"automargin\":true,\"gridcolor\":\"white\",\"linecolor\":\"white\",\"ticks\":\"\",\"title\":{\"standoff\":15},\"zerolinecolor\":\"white\",\"zerolinewidth\":2},\"yaxis\":{\"automargin\":true,\"gridcolor\":\"white\",\"linecolor\":\"white\",\"ticks\":\"\",\"title\":{\"standoff\":15},\"zerolinecolor\":\"white\",\"zerolinewidth\":2}}},\"title\":{\"font\":{\"color\":\"#4D5663\"}},\"xaxis\":{\"gridcolor\":\"#E1E5ED\",\"showgrid\":true,\"tickfont\":{\"color\":\"#4D5663\"},\"title\":{\"font\":{\"color\":\"#4D5663\"},\"text\":\"\"},\"zerolinecolor\":\"#E1E5ED\"},\"yaxis\":{\"gridcolor\":\"#E1E5ED\",\"showgrid\":true,\"tickfont\":{\"color\":\"#4D5663\"},\"title\":{\"font\":{\"color\":\"#4D5663\"},\"text\":\"\"},\"zerolinecolor\":\"#E1E5ED\"}},                        {\"showLink\": true, \"linkText\": \"Export to plot.ly\", \"plotlyServerURL\": \"https://plot.ly\", \"responsive\": true}                    ).then(function(){\n",
       "                            \n",
       "var gd = document.getElementById('00837c5a-3f1a-4dec-9d17-c681c798c95d');\n",
       "var x = new MutationObserver(function (mutations, observer) {{\n",
       "        var display = window.getComputedStyle(gd).display;\n",
       "        if (!display || display === 'none') {{\n",
       "            console.log([gd, 'removed!']);\n",
       "            Plotly.purge(gd);\n",
       "            observer.disconnect();\n",
       "        }}\n",
       "}});\n",
       "\n",
       "// Listen for the removal of the full notebook cells\n",
       "var notebookContainer = gd.closest('#notebook-container');\n",
       "if (notebookContainer) {{\n",
       "    x.observe(notebookContainer, {childList: true});\n",
       "}}\n",
       "\n",
       "// Listen for the clearing of the current output cell\n",
       "var outputEl = gd.closest('.output');\n",
       "if (outputEl) {{\n",
       "    x.observe(outputEl, {childList: true});\n",
       "}}\n",
       "\n",
       "                        })                };                });            </script>        </div>"
      ]
     },
     "metadata": {},
     "output_type": "display_data"
    }
   ],
   "source": [
    "# lets get the median age per class\n",
    "box_age = train_data[['Pclass', 'Age']]\n",
    "box_age.pivot(columns = 'Pclass', values = 'Age').iplot(kind='box')"
   ]
  },
  {
   "cell_type": "code",
   "execution_count": 72,
   "id": "ef0c73ce-ab49-439f-b659-9155057d1e66",
   "metadata": {},
   "outputs": [
    {
     "data": {
      "text/plain": [
       "29.69911764705882"
      ]
     },
     "execution_count": 72,
     "metadata": {},
     "output_type": "execute_result"
    }
   ],
   "source": [
    "train_data['Age'].mean()"
   ]
  },
  {
   "cell_type": "code",
   "execution_count": 73,
   "id": "a0d4bcd5-6aeb-4457-af8c-70c6ba3e86e1",
   "metadata": {},
   "outputs": [
    {
     "data": {
      "text/plain": [
       "(80.0, 0.42)"
      ]
     },
     "execution_count": 73,
     "metadata": {},
     "output_type": "execute_result"
    }
   ],
   "source": [
    "train_data['Age'].max(), train_data['Age'].min()"
   ]
  },
  {
   "cell_type": "code",
   "execution_count": 74,
   "id": "3ad41b95-de4b-4539-9287-ec0e2c56db5e",
   "metadata": {},
   "outputs": [
    {
     "data": {
      "text/plain": [
       "26"
      ]
     },
     "execution_count": 74,
     "metadata": {},
     "output_type": "execute_result"
    }
   ],
   "source": [
    "train_data[train_data['Age'] >= 60]['Age'].count()"
   ]
  },
  {
   "cell_type": "code",
   "execution_count": 75,
   "id": "dc6693a4-d99d-41e7-b0e0-a462d96444eb",
   "metadata": {},
   "outputs": [
    {
     "name": "stdout",
     "output_type": "stream",
     "text": [
      "The median age for Class 1 is: 37.0\n",
      "The median age for class 2 is: 29.0\n",
      "The median age for class 3 is: 24.0\n"
     ]
    }
   ],
   "source": [
    "# Let us calculate the median age for each class.\n",
    "# while the mean age of the dataset is 29.6, there are 26 people over the age of 60 in the data.\n",
    "def cal_median(df):\n",
    "    print('The median age for Class 1 is:', df[df['Pclass'] == 1]['Age'].median())\n",
    "    print('The median age for class 2 is:', df[df['Pclass'] == 2]['Age'].median())\n",
    "    print('The median age for class 3 is:', df[df['Pclass'] == 3]['Age'].median())\n",
    "    \n",
    "cal_median(train_data)"
   ]
  },
  {
   "cell_type": "markdown",
   "id": "ab8a6dcc-1bc4-41b7-bac4-01bdf85e980a",
   "metadata": {},
   "source": [
    "from above, the median age for class 1 is 37, for class 2 is 29, and for class 3 is 24. lets use the median ages of each to fill up the missing values in in the data set."
   ]
  },
  {
   "cell_type": "code",
   "execution_count": 76,
   "id": "d41fff91-24a8-4950-8f9b-06ad78949997",
   "metadata": {},
   "outputs": [],
   "source": [
    "def impute_age(cols):\n",
    "    Age = cols[0]\n",
    "    Pclass = cols[1]\n",
    "\n",
    "    if pd.isnull(Age):\n",
    "        if Pclass == 1:\n",
    "            return 37\n",
    "        elif Pclass == 2:\n",
    "            return 29\n",
    "        else:\n",
    "            return 24\n",
    "    else:\n",
    "        return Age"
   ]
  },
  {
   "cell_type": "code",
   "execution_count": 77,
   "id": "2622070a-c0c1-4762-9b99-aa83280ccbf0",
   "metadata": {},
   "outputs": [
    {
     "name": "stderr",
     "output_type": "stream",
     "text": [
      "C:\\Users\\ENG MUBARAK\\AppData\\Local\\Temp\\ipykernel_3992\\1334420608.py:2: FutureWarning:\n",
      "\n",
      "Series.__getitem__ treating keys as positions is deprecated. In a future version, integer keys will always be treated as labels (consistent with DataFrame behavior). To access a value by position, use `ser.iloc[pos]`\n",
      "\n",
      "C:\\Users\\ENG MUBARAK\\AppData\\Local\\Temp\\ipykernel_3992\\1334420608.py:3: FutureWarning:\n",
      "\n",
      "Series.__getitem__ treating keys as positions is deprecated. In a future version, integer keys will always be treated as labels (consistent with DataFrame behavior). To access a value by position, use `ser.iloc[pos]`\n",
      "\n"
     ]
    }
   ],
   "source": [
    "train_data['Age'] = train_data[['Age', 'Pclass']].apply(impute_age, axis=1)"
   ]
  },
  {
   "cell_type": "code",
   "execution_count": 78,
   "id": "e052964f-6ebc-4705-b645-8f48be58505a",
   "metadata": {},
   "outputs": [
    {
     "data": {
      "text/plain": [
       "<Axes: >"
      ]
     },
     "execution_count": 78,
     "metadata": {},
     "output_type": "execute_result"
    },
    {
     "data": {
      "image/png": "[encoded data removed]",
      "text/plain": [
       "<Figure size 640x480 with 1 Axes>"
      ]
     },
     "metadata": {},
     "output_type": "display_data"
    }
   ],
   "source": [
    "# lets check if the null values have been replaced\n",
    "sns.heatmap(train_data.isnull(), yticklabels=False, cbar=False, cmap='viridis')"
   ]
  },
  {
   "cell_type": "markdown",
   "id": "f2bc4f3f-9026-43dc-84f2-b0a7c71ac550",
   "metadata": {},
   "source": [
    "There is too much information missing from the cabin column. so lets first drop it."
   ]
  },
  {
   "cell_type": "code",
   "execution_count": 79,
   "id": "61890bc9-9890-47fb-8cc3-3d187cb15290",
   "metadata": {},
   "outputs": [
    {
     "data": {
      "text/plain": [
       "147"
      ]
     },
     "execution_count": 79,
     "metadata": {},
     "output_type": "execute_result"
    }
   ],
   "source": [
    "train_data['Cabin'].nunique()"
   ]
  },
  {
   "cell_type": "code",
   "execution_count": 80,
   "id": "49c6056d-621e-47dc-b55b-8f6750e9db3d",
   "metadata": {},
   "outputs": [
    {
     "data": {
      "text/plain": [
       "Cabin\n",
       "True     687\n",
       "False    204\n",
       "Name: count, dtype: int64"
      ]
     },
     "execution_count": 80,
     "metadata": {},
     "output_type": "execute_result"
    }
   ],
   "source": [
    "train_data['Cabin'].isnull().value_counts()"
   ]
  },
  {
   "cell_type": "code",
   "execution_count": 81,
   "id": "bf2ae00d-7642-4a28-af2a-7ec7ccc42c8b",
   "metadata": {},
   "outputs": [
    {
     "data": {
      "text/html": [
       "<div>\n",
       "<style scoped>\n",
       "    .dataframe tbody tr th:only-of-type {\n",
       "        vertical-align: middle;\n",
       "    }\n",
       "\n",
       "    .dataframe tbody tr th {\n",
       "        vertical-align: top;\n",
       "    }\n",
       "\n",
       "    .dataframe thead th {\n",
       "        text-align: right;\n",
       "    }\n",
       "</style>\n",
       "<table border=\"1\" class=\"dataframe\">\n",
       "  <thead>\n",
       "    <tr style=\"text-align: right;\">\n",
       "      <th></th>\n",
       "      <th>PassengerId</th>\n",
       "      <th>Survived</th>\n",
       "      <th>Pclass</th>\n",
       "      <th>Name</th>\n",
       "      <th>Sex</th>\n",
       "      <th>Age</th>\n",
       "      <th>SibSp</th>\n",
       "      <th>Parch</th>\n",
       "      <th>Ticket</th>\n",
       "      <th>Fare</th>\n",
       "      <th>Cabin</th>\n",
       "      <th>Embarked</th>\n",
       "      <th>Multiple_cabins</th>\n",
       "      <th>Cabin_similar</th>\n",
       "      <th>Numeric_ticket</th>\n",
       "      <th>Ticket_letters</th>\n",
       "      <th>Name_titles</th>\n",
       "      <th>Title</th>\n",
       "      <th>Family</th>\n",
       "    </tr>\n",
       "  </thead>\n",
       "  <tbody>\n",
       "    <tr>\n",
       "      <th>0</th>\n",
       "      <td>1</td>\n",
       "      <td>0</td>\n",
       "      <td>3</td>\n",
       "      <td>Braund, Mr. Owen Harris</td>\n",
       "      <td>male</td>\n",
       "      <td>22.0</td>\n",
       "      <td>1</td>\n",
       "      <td>0</td>\n",
       "      <td>A/5 21171</td>\n",
       "      <td>7.25</td>\n",
       "      <td>NaN</td>\n",
       "      <td>S</td>\n",
       "      <td>0</td>\n",
       "      <td>n</td>\n",
       "      <td>0</td>\n",
       "      <td>a5</td>\n",
       "      <td>Mr</td>\n",
       "      <td>Regular</td>\n",
       "      <td>1</td>\n",
       "    </tr>\n",
       "  </tbody>\n",
       "</table>\n",
       "</div>"
      ],
      "text/plain": [
       "   PassengerId  Survived  Pclass                     Name   Sex   Age  SibSp  \\\n",
       "0            1         0       3  Braund, Mr. Owen Harris  male  22.0      1   \n",
       "\n",
       "   Parch     Ticket  Fare Cabin Embarked  Multiple_cabins Cabin_similar  \\\n",
       "0      0  A/5 21171  7.25   NaN        S                0             n   \n",
       "\n",
       "   Numeric_ticket Ticket_letters Name_titles    Title  Family  \n",
       "0               0             a5          Mr  Regular       1  "
      ]
     },
     "execution_count": 81,
     "metadata": {},
     "output_type": "execute_result"
    }
   ],
   "source": [
    "train_data.head(1)"
   ]
  },
  {
   "cell_type": "code",
   "execution_count": 82,
   "id": "f0a6fe73-6a42-45fe-8574-6f1e75db63f8",
   "metadata": {},
   "outputs": [
    {
     "name": "stdout",
     "output_type": "stream",
     "text": [
      "<class 'pandas.core.frame.DataFrame'>\n",
      "RangeIndex: 891 entries, 0 to 890\n",
      "Data columns (total 19 columns):\n",
      " #   Column           Non-Null Count  Dtype  \n",
      "---  ------           --------------  -----  \n",
      " 0   PassengerId      891 non-null    int64  \n",
      " 1   Survived         891 non-null    int64  \n",
      " 2   Pclass           891 non-null    int64  \n",
      " 3   Name             891 non-null    object \n",
      " 4   Sex              891 non-null    object \n",
      " 5   Age              891 non-null    float64\n",
      " 6   SibSp            891 non-null    int64  \n",
      " 7   Parch            891 non-null    int64  \n",
      " 8   Ticket           891 non-null    object \n",
      " 9   Fare             891 non-null    float64\n",
      " 10  Cabin            204 non-null    object \n",
      " 11  Embarked         889 non-null    object \n",
      " 12  Multiple_cabins  891 non-null    int64  \n",
      " 13  Cabin_similar    891 non-null    object \n",
      " 14  Numeric_ticket   891 non-null    int64  \n",
      " 15  Ticket_letters   891 non-null    object \n",
      " 16  Name_titles      891 non-null    object \n",
      " 17  Title            891 non-null    object \n",
      " 18  Family           891 non-null    int64  \n",
      "dtypes: float64(2), int64(8), object(9)\n",
      "memory usage: 132.4+ KB\n"
     ]
    }
   ],
   "source": [
    "train_data.info()"
   ]
  },
  {
   "cell_type": "code",
   "execution_count": 83,
   "id": "b5ecfe1f-0bbf-4558-aa9f-f48ac4511c5c",
   "metadata": {},
   "outputs": [],
   "source": [
    "train_data.drop('Cabin', axis=1, inplace=True)    # dropping the cabin column"
   ]
  },
  {
   "cell_type": "markdown",
   "id": "fedbe32a-3467-4896-9dd4-376adc31ba61",
   "metadata": {},
   "source": [
    "Now lets check the Embarked Column:"
   ]
  },
  {
   "cell_type": "code",
   "execution_count": 84,
   "id": "49571cc4-f7b8-4ef2-a3c7-e209fea68af3",
   "metadata": {},
   "outputs": [
    {
     "data": {
      "text/plain": [
       "3"
      ]
     },
     "execution_count": 84,
     "metadata": {},
     "output_type": "execute_result"
    }
   ],
   "source": [
    "train_data['Embarked'].nunique()"
   ]
  },
  {
   "cell_type": "code",
   "execution_count": 85,
   "id": "93b04857-a8c4-4add-bc1c-d00f16ad0af3",
   "metadata": {},
   "outputs": [
    {
     "data": {
      "text/plain": [
       "Embarked\n",
       "S    644\n",
       "C    168\n",
       "Q     77\n",
       "Name: count, dtype: int64"
      ]
     },
     "execution_count": 85,
     "metadata": {},
     "output_type": "execute_result"
    }
   ],
   "source": [
    "train_data['Embarked'].value_counts()"
   ]
  },
  {
   "cell_type": "code",
   "execution_count": 86,
   "id": "50264cae-7a7c-4cff-b31a-ab7f4ee17bf9",
   "metadata": {},
   "outputs": [
    {
     "data": {
      "text/plain": [
       "2"
      ]
     },
     "execution_count": 86,
     "metadata": {},
     "output_type": "execute_result"
    }
   ],
   "source": [
    "sum(train_data['Embarked'].isnull())"
   ]
  },
  {
   "cell_type": "markdown",
   "id": "a43bd437-b5ae-465c-ab88-0fc49368dafa",
   "metadata": {},
   "source": [
    "we have two null values in the Embarked column. lets fill it with the most appeared embarked label.that is the mode value"
   ]
  },
  {
   "cell_type": "code",
   "execution_count": 87,
   "id": "bc73c040-6acb-4bf0-b9b9-afc1faa61ce7",
   "metadata": {},
   "outputs": [
    {
     "data": {
      "text/plain": [
       "0    S\n",
       "Name: Embarked, dtype: object"
      ]
     },
     "execution_count": 87,
     "metadata": {},
     "output_type": "execute_result"
    }
   ],
   "source": [
    "train_data['Embarked'].mode()"
   ]
  },
  {
   "cell_type": "code",
   "execution_count": 88,
   "id": "32a3296d-9941-4cfa-b49a-94b7460d832d",
   "metadata": {},
   "outputs": [
    {
     "name": "stderr",
     "output_type": "stream",
     "text": [
      "C:\\Users\\ENG MUBARAK\\AppData\\Local\\Temp\\ipykernel_3992\\3285678191.py:1: FutureWarning:\n",
      "\n",
      "A value is trying to be set on a copy of a DataFrame or Series through chained assignment using an inplace method.\n",
      "The behavior will change in pandas 3.0. This inplace method will never work because the intermediate object on which we are setting values always behaves as a copy.\n",
      "\n",
      "For example, when doing 'df[col].method(value, inplace=True)', try using 'df.method({col: value}, inplace=True)' or df[col] = df[col].method(value) instead, to perform the operation inplace on the original object.\n",
      "\n",
      "\n",
      "\n"
     ]
    }
   ],
   "source": [
    "train_data.Embarked.fillna('S',inplace=True)     # filling the missing values with the mode"
   ]
  },
  {
   "cell_type": "code",
   "execution_count": 89,
   "id": "6ecb2db1-153e-4b12-938a-61565da95e63",
   "metadata": {},
   "outputs": [
    {
     "data": {
      "text/plain": [
       "0"
      ]
     },
     "execution_count": 89,
     "metadata": {},
     "output_type": "execute_result"
    }
   ],
   "source": [
    "sum(train_data['Embarked'].isnull())"
   ]
  },
  {
   "cell_type": "code",
   "execution_count": 90,
   "id": "75d455cc-3d42-4468-9762-98f745df9424",
   "metadata": {},
   "outputs": [
    {
     "data": {
      "text/plain": [
       "PassengerId        0.0\n",
       "Survived           0.0\n",
       "Pclass             0.0\n",
       "Name               0.0\n",
       "Sex                0.0\n",
       "Age                0.0\n",
       "SibSp              0.0\n",
       "Parch              0.0\n",
       "Ticket             0.0\n",
       "Fare               0.0\n",
       "Embarked           0.0\n",
       "Multiple_cabins    0.0\n",
       "Cabin_similar      0.0\n",
       "Numeric_ticket     0.0\n",
       "Ticket_letters     0.0\n",
       "Name_titles        0.0\n",
       "Title              0.0\n",
       "Family             0.0\n",
       "dtype: float64"
      ]
     },
     "execution_count": 90,
     "metadata": {},
     "output_type": "execute_result"
    }
   ],
   "source": [
    "train_data.isnull().sum() / train_data.shape[0]"
   ]
  },
  {
   "cell_type": "code",
   "execution_count": 91,
   "id": "ac7121f1-4f75-4a6e-b12f-be0943947108",
   "metadata": {},
   "outputs": [
    {
     "data": {
      "text/plain": [
       "(80.0, 0.42)"
      ]
     },
     "execution_count": 91,
     "metadata": {},
     "output_type": "execute_result"
    }
   ],
   "source": [
    "#looking at survival based on age groups\n",
    "#by dividing the age into 8 categories\n",
    "train_data['Age'].max(), train_data['Age'].min(),"
   ]
  },
  {
   "cell_type": "code",
   "execution_count": 92,
   "id": "b012e61e-0ac2-44a1-9c55-bea01ec2a5f4",
   "metadata": {},
   "outputs": [],
   "source": [
    "train_data['age_groups'] = pd.cut(train_data['Age'], range(0,90,10),\n",
    "                                labels=['0-10','11-20','21-30','31-40','41-50','51-60','61-70','71-80'])"
   ]
  },
  {
   "cell_type": "code",
   "execution_count": 93,
   "id": "36e757c4-baaa-4333-b872-e54082ed6620",
   "metadata": {},
   "outputs": [
    {
     "data": {
      "text/plain": [
       "<Axes: >"
      ]
     },
     "execution_count": 93,
     "metadata": {},
     "output_type": "execute_result"
    },
    {
     "data": {
      "image/png": "[encoded data removed]",
      "text/plain": [
       "<Figure size 640x480 with 1 Axes>"
      ]
     },
     "metadata": {},
     "output_type": "display_data"
    }
   ],
   "source": [
    "train_data['age_groups'].hist()"
   ]
  },
  {
   "cell_type": "code",
   "execution_count": 94,
   "id": "36b3681f-4953-4cc2-8eee-f8587f919ab5",
   "metadata": {},
   "outputs": [
    {
     "data": {
      "text/plain": [
       "891"
      ]
     },
     "execution_count": 94,
     "metadata": {},
     "output_type": "execute_result"
    }
   ],
   "source": [
    "sum(train_data['age_groups'].value_counts())"
   ]
  },
  {
   "cell_type": "code",
   "execution_count": 95,
   "id": "8dc74749-bf29-4f69-9335-c8c0c7e9194b",
   "metadata": {},
   "outputs": [
    {
     "data": {
      "text/html": [
       "<div>\n",
       "<style scoped>\n",
       "    .dataframe tbody tr th:only-of-type {\n",
       "        vertical-align: middle;\n",
       "    }\n",
       "\n",
       "    .dataframe tbody tr th {\n",
       "        vertical-align: top;\n",
       "    }\n",
       "\n",
       "    .dataframe thead th {\n",
       "        text-align: right;\n",
       "    }\n",
       "</style>\n",
       "<table border=\"1\" class=\"dataframe\">\n",
       "  <thead>\n",
       "    <tr style=\"text-align: right;\">\n",
       "      <th>age_groups</th>\n",
       "      <th>0-10</th>\n",
       "      <th>11-20</th>\n",
       "      <th>21-30</th>\n",
       "      <th>31-40</th>\n",
       "      <th>41-50</th>\n",
       "      <th>51-60</th>\n",
       "      <th>61-70</th>\n",
       "      <th>71-80</th>\n",
       "    </tr>\n",
       "    <tr>\n",
       "      <th>Survived</th>\n",
       "      <th></th>\n",
       "      <th></th>\n",
       "      <th></th>\n",
       "      <th></th>\n",
       "      <th></th>\n",
       "      <th></th>\n",
       "      <th></th>\n",
       "      <th></th>\n",
       "    </tr>\n",
       "  </thead>\n",
       "  <tbody>\n",
       "    <tr>\n",
       "      <th>0</th>\n",
       "      <td>26</td>\n",
       "      <td>71</td>\n",
       "      <td>255</td>\n",
       "      <td>102</td>\n",
       "      <td>53</td>\n",
       "      <td>25</td>\n",
       "      <td>13</td>\n",
       "      <td>4</td>\n",
       "    </tr>\n",
       "    <tr>\n",
       "      <th>1</th>\n",
       "      <td>38</td>\n",
       "      <td>44</td>\n",
       "      <td>122</td>\n",
       "      <td>83</td>\n",
       "      <td>33</td>\n",
       "      <td>17</td>\n",
       "      <td>4</td>\n",
       "      <td>1</td>\n",
       "    </tr>\n",
       "  </tbody>\n",
       "</table>\n",
       "</div>"
      ],
      "text/plain": [
       "age_groups  0-10  11-20  21-30  31-40  41-50  51-60  61-70  71-80\n",
       "Survived                                                         \n",
       "0             26     71    255    102     53     25     13      4\n",
       "1             38     44    122     83     33     17      4      1"
      ]
     },
     "execution_count": 95,
     "metadata": {},
     "output_type": "execute_result"
    }
   ],
   "source": [
    "pd.pivot_table(train_data, columns='age_groups',index='Survived',aggfunc='count',values='Ticket', observed=False)"
   ]
  },
  {
   "cell_type": "code",
   "execution_count": 96,
   "id": "848be45a-0552-4747-ba0c-49587f93ea55",
   "metadata": {},
   "outputs": [
    {
     "data": {
      "text/plain": [
       "<Axes: xlabel='age_groups', ylabel='count'>"
      ]
     },
     "execution_count": 96,
     "metadata": {},
     "output_type": "execute_result"
    },
    {
     "data": {
      "image/png": "[encoded data removed]",
      "text/plain": [
       "<Figure size 640x480 with 1 Axes>"
      ]
     },
     "metadata": {},
     "output_type": "display_data"
    }
   ],
   "source": [
    "sns.countplot(train_data,x='age_groups', hue='Survived')"
   ]
  },
  {
   "cell_type": "markdown",
   "id": "7d9316e8-72e8-41ea-a11c-947dc3fc438a",
   "metadata": {},
   "source": [
    "# LET'S HANDLE THE TEXT CATEGORY IN THE COLUMN:"
   ]
  },
  {
   "cell_type": "code",
   "execution_count": 97,
   "id": "586c6a7e-a255-45c4-9dc3-a4d633fd6221",
   "metadata": {},
   "outputs": [
    {
     "name": "stdout",
     "output_type": "stream",
     "text": [
      "<class 'pandas.core.frame.DataFrame'>\n",
      "RangeIndex: 891 entries, 0 to 890\n",
      "Data columns (total 19 columns):\n",
      " #   Column           Non-Null Count  Dtype   \n",
      "---  ------           --------------  -----   \n",
      " 0   PassengerId      891 non-null    int64   \n",
      " 1   Survived         891 non-null    int64   \n",
      " 2   Pclass           891 non-null    int64   \n",
      " 3   Name             891 non-null    object  \n",
      " 4   Sex              891 non-null    object  \n",
      " 5   Age              891 non-null    float64 \n",
      " 6   SibSp            891 non-null    int64   \n",
      " 7   Parch            891 non-null    int64   \n",
      " 8   Ticket           891 non-null    object  \n",
      " 9   Fare             891 non-null    float64 \n",
      " 10  Embarked         891 non-null    object  \n",
      " 11  Multiple_cabins  891 non-null    int64   \n",
      " 12  Cabin_similar    891 non-null    object  \n",
      " 13  Numeric_ticket   891 non-null    int64   \n",
      " 14  Ticket_letters   891 non-null    object  \n",
      " 15  Name_titles      891 non-null    object  \n",
      " 16  Title            891 non-null    object  \n",
      " 17  Family           891 non-null    int64   \n",
      " 18  age_groups       891 non-null    category\n",
      "dtypes: category(1), float64(2), int64(8), object(8)\n",
      "memory usage: 126.7+ KB\n"
     ]
    }
   ],
   "source": [
    "train_data.info()"
   ]
  },
  {
   "cell_type": "raw",
   "id": "d9c8716b-2f47-48e3-973e-bfff1d806bfc",
   "metadata": {},
   "source": []
  },
  {
   "cell_type": "code",
   "execution_count": 98,
   "id": "7bcaff51-4aac-4981-9c91-31e63390b265",
   "metadata": {},
   "outputs": [
    {
     "name": "stdout",
     "output_type": "stream",
     "text": [
      "unique values in cabin_similar:  9\n",
      "\n",
      "unique values in Embarked:  3\n",
      "\n",
      "unique values in TIcket_letters:  29\n",
      "\n",
      "unique values in Numeric_ticket:  2\n",
      "\n",
      "unique values in Title:  2\n"
     ]
    }
   ],
   "source": [
    "# LETS CHECK THE UNIQUE VALUES ON THE ENGINEERED COLUMNS:\n",
    "print(\"unique values in cabin_similar: \",train_data['Cabin_similar'].nunique())\n",
    "print()\n",
    "print(\"unique values in Embarked: \",train_data['Embarked'].nunique())\n",
    "print()\n",
    "print(\"unique values in TIcket_letters: \",train_data['Ticket_letters'].nunique())\n",
    "print()\n",
    "print(\"unique values in Numeric_ticket: \",train_data['Numeric_ticket'].nunique())\n",
    "print()\n",
    "print(\"unique values in Title: \",train_data['Title'].nunique())"
   ]
  },
  {
   "cell_type": "code",
   "execution_count": 99,
   "id": "8466dc72-e686-4399-b9ef-57ffff90e47d",
   "metadata": {},
   "outputs": [
    {
     "data": {
      "text/html": [
       "<div>\n",
       "<style scoped>\n",
       "    .dataframe tbody tr th:only-of-type {\n",
       "        vertical-align: middle;\n",
       "    }\n",
       "\n",
       "    .dataframe tbody tr th {\n",
       "        vertical-align: top;\n",
       "    }\n",
       "\n",
       "    .dataframe thead th {\n",
       "        text-align: right;\n",
       "    }\n",
       "</style>\n",
       "<table border=\"1\" class=\"dataframe\">\n",
       "  <thead>\n",
       "    <tr style=\"text-align: right;\">\n",
       "      <th></th>\n",
       "      <th>PassengerId</th>\n",
       "      <th>Survived</th>\n",
       "      <th>Pclass</th>\n",
       "      <th>Name</th>\n",
       "      <th>Sex</th>\n",
       "      <th>Age</th>\n",
       "      <th>SibSp</th>\n",
       "      <th>Parch</th>\n",
       "      <th>Ticket</th>\n",
       "      <th>Fare</th>\n",
       "      <th>Embarked</th>\n",
       "      <th>Multiple_cabins</th>\n",
       "      <th>Cabin_similar</th>\n",
       "      <th>Numeric_ticket</th>\n",
       "      <th>Ticket_letters</th>\n",
       "      <th>Name_titles</th>\n",
       "      <th>Title</th>\n",
       "      <th>Family</th>\n",
       "      <th>age_groups</th>\n",
       "    </tr>\n",
       "  </thead>\n",
       "  <tbody>\n",
       "    <tr>\n",
       "      <th>0</th>\n",
       "      <td>1</td>\n",
       "      <td>0</td>\n",
       "      <td>3</td>\n",
       "      <td>Braund, Mr. Owen Harris</td>\n",
       "      <td>male</td>\n",
       "      <td>22.0</td>\n",
       "      <td>1</td>\n",
       "      <td>0</td>\n",
       "      <td>A/5 21171</td>\n",
       "      <td>7.25</td>\n",
       "      <td>S</td>\n",
       "      <td>0</td>\n",
       "      <td>n</td>\n",
       "      <td>0</td>\n",
       "      <td>a5</td>\n",
       "      <td>Mr</td>\n",
       "      <td>Regular</td>\n",
       "      <td>1</td>\n",
       "      <td>21-30</td>\n",
       "    </tr>\n",
       "  </tbody>\n",
       "</table>\n",
       "</div>"
      ],
      "text/plain": [
       "   PassengerId  Survived  Pclass                     Name   Sex   Age  SibSp  \\\n",
       "0            1         0       3  Braund, Mr. Owen Harris  male  22.0      1   \n",
       "\n",
       "   Parch     Ticket  Fare Embarked  Multiple_cabins Cabin_similar  \\\n",
       "0      0  A/5 21171  7.25        S                0             n   \n",
       "\n",
       "   Numeric_ticket Ticket_letters Name_titles    Title  Family age_groups  \n",
       "0               0             a5          Mr  Regular       1      21-30  "
      ]
     },
     "execution_count": 99,
     "metadata": {},
     "output_type": "execute_result"
    }
   ],
   "source": [
    "train_data.head(1)"
   ]
  },
  {
   "cell_type": "code",
   "execution_count": 100,
   "id": "ec7f6a77-47a3-4b54-870e-e4207e8fd097",
   "metadata": {},
   "outputs": [],
   "source": [
    "sex = pd.get_dummies(train_data['Sex'], dtype=int, drop_first=True)"
   ]
  },
  {
   "cell_type": "code",
   "execution_count": 101,
   "id": "839adc33-459a-4c39-ad4b-b0efdb9f44d5",
   "metadata": {},
   "outputs": [
    {
     "data": {
      "text/html": [
       "<div>\n",
       "<style scoped>\n",
       "    .dataframe tbody tr th:only-of-type {\n",
       "        vertical-align: middle;\n",
       "    }\n",
       "\n",
       "    .dataframe tbody tr th {\n",
       "        vertical-align: top;\n",
       "    }\n",
       "\n",
       "    .dataframe thead th {\n",
       "        text-align: right;\n",
       "    }\n",
       "</style>\n",
       "<table border=\"1\" class=\"dataframe\">\n",
       "  <thead>\n",
       "    <tr style=\"text-align: right;\">\n",
       "      <th></th>\n",
       "      <th>male</th>\n",
       "    </tr>\n",
       "  </thead>\n",
       "  <tbody>\n",
       "    <tr>\n",
       "      <th>0</th>\n",
       "      <td>1</td>\n",
       "    </tr>\n",
       "    <tr>\n",
       "      <th>1</th>\n",
       "      <td>0</td>\n",
       "    </tr>\n",
       "    <tr>\n",
       "      <th>2</th>\n",
       "      <td>0</td>\n",
       "    </tr>\n",
       "  </tbody>\n",
       "</table>\n",
       "</div>"
      ],
      "text/plain": [
       "   male\n",
       "0     1\n",
       "1     0\n",
       "2     0"
      ]
     },
     "execution_count": 101,
     "metadata": {},
     "output_type": "execute_result"
    }
   ],
   "source": [
    "sex.head(3)"
   ]
  },
  {
   "cell_type": "code",
   "execution_count": 102,
   "id": "6656589d-cc90-42d7-908c-7b10b3d24a35",
   "metadata": {},
   "outputs": [],
   "source": [
    "embarked =pd.get_dummies(train_data['Embarked'], dtype=int, drop_first=True)"
   ]
  },
  {
   "cell_type": "code",
   "execution_count": 103,
   "id": "15065014-588d-4c0a-938f-1bc2ff93d40c",
   "metadata": {},
   "outputs": [
    {
     "data": {
      "text/html": [
       "<div>\n",
       "<style scoped>\n",
       "    .dataframe tbody tr th:only-of-type {\n",
       "        vertical-align: middle;\n",
       "    }\n",
       "\n",
       "    .dataframe tbody tr th {\n",
       "        vertical-align: top;\n",
       "    }\n",
       "\n",
       "    .dataframe thead th {\n",
       "        text-align: right;\n",
       "    }\n",
       "</style>\n",
       "<table border=\"1\" class=\"dataframe\">\n",
       "  <thead>\n",
       "    <tr style=\"text-align: right;\">\n",
       "      <th></th>\n",
       "      <th>Q</th>\n",
       "      <th>S</th>\n",
       "    </tr>\n",
       "  </thead>\n",
       "  <tbody>\n",
       "    <tr>\n",
       "      <th>0</th>\n",
       "      <td>0</td>\n",
       "      <td>1</td>\n",
       "    </tr>\n",
       "    <tr>\n",
       "      <th>1</th>\n",
       "      <td>0</td>\n",
       "      <td>0</td>\n",
       "    </tr>\n",
       "    <tr>\n",
       "      <th>2</th>\n",
       "      <td>0</td>\n",
       "      <td>1</td>\n",
       "    </tr>\n",
       "    <tr>\n",
       "      <th>3</th>\n",
       "      <td>0</td>\n",
       "      <td>1</td>\n",
       "    </tr>\n",
       "    <tr>\n",
       "      <th>4</th>\n",
       "      <td>0</td>\n",
       "      <td>1</td>\n",
       "    </tr>\n",
       "  </tbody>\n",
       "</table>\n",
       "</div>"
      ],
      "text/plain": [
       "   Q  S\n",
       "0  0  1\n",
       "1  0  0\n",
       "2  0  1\n",
       "3  0  1\n",
       "4  0  1"
      ]
     },
     "execution_count": 103,
     "metadata": {},
     "output_type": "execute_result"
    }
   ],
   "source": [
    "embarked.head()"
   ]
  },
  {
   "cell_type": "code",
   "execution_count": 104,
   "id": "1120546e-41af-4cf1-a9a7-a265f789e09b",
   "metadata": {},
   "outputs": [],
   "source": [
    "title = pd.get_dummies(train_data['Title'], dtype=int, drop_first=True)"
   ]
  },
  {
   "cell_type": "code",
   "execution_count": 105,
   "id": "f7abd1ab-86b1-42d7-a1e9-d63822b394eb",
   "metadata": {},
   "outputs": [
    {
     "name": "stdout",
     "output_type": "stream",
     "text": [
      "<class 'pandas.core.frame.DataFrame'>\n",
      "RangeIndex: 891 entries, 0 to 890\n",
      "Data columns (total 1 columns):\n",
      " #   Column  Non-Null Count  Dtype\n",
      "---  ------  --------------  -----\n",
      " 0   VIP     891 non-null    int32\n",
      "dtypes: int32(1)\n",
      "memory usage: 3.6 KB\n"
     ]
    }
   ],
   "source": [
    "title.info()"
   ]
  },
  {
   "cell_type": "code",
   "execution_count": 106,
   "id": "74684ccf-0170-47b0-ad53-1d701d5f952b",
   "metadata": {},
   "outputs": [
    {
     "data": {
      "text/html": [
       "<div>\n",
       "<style scoped>\n",
       "    .dataframe tbody tr th:only-of-type {\n",
       "        vertical-align: middle;\n",
       "    }\n",
       "\n",
       "    .dataframe tbody tr th {\n",
       "        vertical-align: top;\n",
       "    }\n",
       "\n",
       "    .dataframe thead th {\n",
       "        text-align: right;\n",
       "    }\n",
       "</style>\n",
       "<table border=\"1\" class=\"dataframe\">\n",
       "  <thead>\n",
       "    <tr style=\"text-align: right;\">\n",
       "      <th></th>\n",
       "      <th>PassengerId</th>\n",
       "      <th>Survived</th>\n",
       "      <th>Pclass</th>\n",
       "      <th>Name</th>\n",
       "      <th>Sex</th>\n",
       "      <th>Age</th>\n",
       "      <th>SibSp</th>\n",
       "      <th>Parch</th>\n",
       "      <th>Ticket</th>\n",
       "      <th>Fare</th>\n",
       "      <th>Embarked</th>\n",
       "      <th>Multiple_cabins</th>\n",
       "      <th>Cabin_similar</th>\n",
       "      <th>Numeric_ticket</th>\n",
       "      <th>Ticket_letters</th>\n",
       "      <th>Name_titles</th>\n",
       "      <th>Title</th>\n",
       "      <th>Family</th>\n",
       "      <th>age_groups</th>\n",
       "    </tr>\n",
       "  </thead>\n",
       "  <tbody>\n",
       "    <tr>\n",
       "      <th>0</th>\n",
       "      <td>1</td>\n",
       "      <td>0</td>\n",
       "      <td>3</td>\n",
       "      <td>Braund, Mr. Owen Harris</td>\n",
       "      <td>male</td>\n",
       "      <td>22.0</td>\n",
       "      <td>1</td>\n",
       "      <td>0</td>\n",
       "      <td>A/5 21171</td>\n",
       "      <td>7.25</td>\n",
       "      <td>S</td>\n",
       "      <td>0</td>\n",
       "      <td>n</td>\n",
       "      <td>0</td>\n",
       "      <td>a5</td>\n",
       "      <td>Mr</td>\n",
       "      <td>Regular</td>\n",
       "      <td>1</td>\n",
       "      <td>21-30</td>\n",
       "    </tr>\n",
       "  </tbody>\n",
       "</table>\n",
       "</div>"
      ],
      "text/plain": [
       "   PassengerId  Survived  Pclass                     Name   Sex   Age  SibSp  \\\n",
       "0            1         0       3  Braund, Mr. Owen Harris  male  22.0      1   \n",
       "\n",
       "   Parch     Ticket  Fare Embarked  Multiple_cabins Cabin_similar  \\\n",
       "0      0  A/5 21171  7.25        S                0             n   \n",
       "\n",
       "   Numeric_ticket Ticket_letters Name_titles    Title  Family age_groups  \n",
       "0               0             a5          Mr  Regular       1      21-30  "
      ]
     },
     "execution_count": 106,
     "metadata": {},
     "output_type": "execute_result"
    }
   ],
   "source": [
    "train_data.head(1)"
   ]
  },
  {
   "cell_type": "code",
   "execution_count": null,
   "id": "75f2819c-7433-48a0-95f2-9c9b6b2751d4",
   "metadata": {},
   "outputs": [],
   "source": []
  },
  {
   "cell_type": "code",
   "execution_count": 107,
   "id": "7f92c56e-d876-40f2-9e13-668220674ebd",
   "metadata": {},
   "outputs": [],
   "source": [
    "# The Cabin_similar column has up to 9 categories\n",
    "# We will use the one_hot_encoder to convert it into numbers\n",
    "from sklearn.preprocessing import OneHotEncoder"
   ]
  },
  {
   "cell_type": "code",
   "execution_count": 108,
   "id": "a5248bd5-7009-4725-8e29-20ec6e27e883",
   "metadata": {},
   "outputs": [],
   "source": [
    "cabin_encoder = OneHotEncoder(sparse_output=False)"
   ]
  },
  {
   "cell_type": "code",
   "execution_count": 109,
   "id": "680ba9b4-9db9-43c4-8794-67af5c75aebe",
   "metadata": {},
   "outputs": [],
   "source": [
    "cabin_encoder1 = cabin_encoder.fit_transform(train_data[['Multiple_cabins']])"
   ]
  },
  {
   "cell_type": "code",
   "execution_count": 110,
   "id": "d8550af2-2dea-4e05-8af0-214d7d5a1338",
   "metadata": {},
   "outputs": [
    {
     "data": {
      "text/plain": [
       "[array([0, 1, 2, 3, 4], dtype=int64)]"
      ]
     },
     "execution_count": 110,
     "metadata": {},
     "output_type": "execute_result"
    }
   ],
   "source": [
    "cabin_encoder.categories_"
   ]
  },
  {
   "cell_type": "code",
   "execution_count": 111,
   "id": "b4c3ffe0-4137-472f-9e8e-fc8c73c0c6dd",
   "metadata": {},
   "outputs": [],
   "source": [
    "cabin_df = pd.DataFrame(cabin_encoder1, columns=cabin_encoder.get_feature_names_out(['Multiple_cabins']))"
   ]
  },
  {
   "cell_type": "code",
   "execution_count": 112,
   "id": "d6310502-d522-4594-bb40-c7fb0caba74b",
   "metadata": {},
   "outputs": [
    {
     "data": {
      "text/html": [
       "<div>\n",
       "<style scoped>\n",
       "    .dataframe tbody tr th:only-of-type {\n",
       "        vertical-align: middle;\n",
       "    }\n",
       "\n",
       "    .dataframe tbody tr th {\n",
       "        vertical-align: top;\n",
       "    }\n",
       "\n",
       "    .dataframe thead th {\n",
       "        text-align: right;\n",
       "    }\n",
       "</style>\n",
       "<table border=\"1\" class=\"dataframe\">\n",
       "  <thead>\n",
       "    <tr style=\"text-align: right;\">\n",
       "      <th></th>\n",
       "      <th>Multiple_cabins_0</th>\n",
       "      <th>Multiple_cabins_1</th>\n",
       "      <th>Multiple_cabins_2</th>\n",
       "      <th>Multiple_cabins_3</th>\n",
       "      <th>Multiple_cabins_4</th>\n",
       "    </tr>\n",
       "  </thead>\n",
       "  <tbody>\n",
       "    <tr>\n",
       "      <th>0</th>\n",
       "      <td>1.0</td>\n",
       "      <td>0.0</td>\n",
       "      <td>0.0</td>\n",
       "      <td>0.0</td>\n",
       "      <td>0.0</td>\n",
       "    </tr>\n",
       "    <tr>\n",
       "      <th>1</th>\n",
       "      <td>0.0</td>\n",
       "      <td>1.0</td>\n",
       "      <td>0.0</td>\n",
       "      <td>0.0</td>\n",
       "      <td>0.0</td>\n",
       "    </tr>\n",
       "    <tr>\n",
       "      <th>2</th>\n",
       "      <td>1.0</td>\n",
       "      <td>0.0</td>\n",
       "      <td>0.0</td>\n",
       "      <td>0.0</td>\n",
       "      <td>0.0</td>\n",
       "    </tr>\n",
       "    <tr>\n",
       "      <th>3</th>\n",
       "      <td>0.0</td>\n",
       "      <td>1.0</td>\n",
       "      <td>0.0</td>\n",
       "      <td>0.0</td>\n",
       "      <td>0.0</td>\n",
       "    </tr>\n",
       "    <tr>\n",
       "      <th>4</th>\n",
       "      <td>1.0</td>\n",
       "      <td>0.0</td>\n",
       "      <td>0.0</td>\n",
       "      <td>0.0</td>\n",
       "      <td>0.0</td>\n",
       "    </tr>\n",
       "  </tbody>\n",
       "</table>\n",
       "</div>"
      ],
      "text/plain": [
       "   Multiple_cabins_0  Multiple_cabins_1  Multiple_cabins_2  Multiple_cabins_3  \\\n",
       "0                1.0                0.0                0.0                0.0   \n",
       "1                0.0                1.0                0.0                0.0   \n",
       "2                1.0                0.0                0.0                0.0   \n",
       "3                0.0                1.0                0.0                0.0   \n",
       "4                1.0                0.0                0.0                0.0   \n",
       "\n",
       "   Multiple_cabins_4  \n",
       "0                0.0  \n",
       "1                0.0  \n",
       "2                0.0  \n",
       "3                0.0  \n",
       "4                0.0  "
      ]
     },
     "execution_count": 112,
     "metadata": {},
     "output_type": "execute_result"
    }
   ],
   "source": [
    "cabin_df.head()"
   ]
  },
  {
   "cell_type": "code",
   "execution_count": 113,
   "id": "0ef28cd4-6dd0-4d9b-88f7-09c0d567ec06",
   "metadata": {},
   "outputs": [],
   "source": [
    "age_group_encoder1 = OneHotEncoder(sparse_output=False)"
   ]
  },
  {
   "cell_type": "code",
   "execution_count": 114,
   "id": "abcbcf39-c3e2-4eee-b43f-7f190e641178",
   "metadata": {},
   "outputs": [],
   "source": [
    "age_group_encoder = age_group_encoder1.fit_transform(train_data[['age_groups']])"
   ]
  },
  {
   "cell_type": "code",
   "execution_count": 115,
   "id": "fa401009-6def-4573-b90d-9a8628e65698",
   "metadata": {},
   "outputs": [
    {
     "data": {
      "text/plain": [
       "[array(['0-10', '11-20', '21-30', '31-40', '41-50', '51-60', '61-70',\n",
       "        '71-80'], dtype=object)]"
      ]
     },
     "execution_count": 115,
     "metadata": {},
     "output_type": "execute_result"
    }
   ],
   "source": [
    "age_group_encoder1.categories_"
   ]
  },
  {
   "cell_type": "code",
   "execution_count": 116,
   "id": "c62e2320-a9d0-4d9d-b3c1-35ca6a312386",
   "metadata": {},
   "outputs": [],
   "source": [
    "age_df = pd.DataFrame(age_group_encoder, columns=age_group_encoder1.get_feature_names_out(['age_groups']))"
   ]
  },
  {
   "cell_type": "code",
   "execution_count": 117,
   "id": "46d99198-3e88-4fdb-91cc-013ce064708d",
   "metadata": {},
   "outputs": [
    {
     "data": {
      "text/html": [
       "<div>\n",
       "<style scoped>\n",
       "    .dataframe tbody tr th:only-of-type {\n",
       "        vertical-align: middle;\n",
       "    }\n",
       "\n",
       "    .dataframe tbody tr th {\n",
       "        vertical-align: top;\n",
       "    }\n",
       "\n",
       "    .dataframe thead th {\n",
       "        text-align: right;\n",
       "    }\n",
       "</style>\n",
       "<table border=\"1\" class=\"dataframe\">\n",
       "  <thead>\n",
       "    <tr style=\"text-align: right;\">\n",
       "      <th></th>\n",
       "      <th>age_groups_0-10</th>\n",
       "      <th>age_groups_11-20</th>\n",
       "      <th>age_groups_21-30</th>\n",
       "      <th>age_groups_31-40</th>\n",
       "      <th>age_groups_41-50</th>\n",
       "      <th>age_groups_51-60</th>\n",
       "      <th>age_groups_61-70</th>\n",
       "      <th>age_groups_71-80</th>\n",
       "    </tr>\n",
       "  </thead>\n",
       "  <tbody>\n",
       "    <tr>\n",
       "      <th>0</th>\n",
       "      <td>0.0</td>\n",
       "      <td>0.0</td>\n",
       "      <td>1.0</td>\n",
       "      <td>0.0</td>\n",
       "      <td>0.0</td>\n",
       "      <td>0.0</td>\n",
       "      <td>0.0</td>\n",
       "      <td>0.0</td>\n",
       "    </tr>\n",
       "    <tr>\n",
       "      <th>1</th>\n",
       "      <td>0.0</td>\n",
       "      <td>0.0</td>\n",
       "      <td>0.0</td>\n",
       "      <td>1.0</td>\n",
       "      <td>0.0</td>\n",
       "      <td>0.0</td>\n",
       "      <td>0.0</td>\n",
       "      <td>0.0</td>\n",
       "    </tr>\n",
       "    <tr>\n",
       "      <th>2</th>\n",
       "      <td>0.0</td>\n",
       "      <td>0.0</td>\n",
       "      <td>1.0</td>\n",
       "      <td>0.0</td>\n",
       "      <td>0.0</td>\n",
       "      <td>0.0</td>\n",
       "      <td>0.0</td>\n",
       "      <td>0.0</td>\n",
       "    </tr>\n",
       "    <tr>\n",
       "      <th>3</th>\n",
       "      <td>0.0</td>\n",
       "      <td>0.0</td>\n",
       "      <td>0.0</td>\n",
       "      <td>1.0</td>\n",
       "      <td>0.0</td>\n",
       "      <td>0.0</td>\n",
       "      <td>0.0</td>\n",
       "      <td>0.0</td>\n",
       "    </tr>\n",
       "    <tr>\n",
       "      <th>4</th>\n",
       "      <td>0.0</td>\n",
       "      <td>0.0</td>\n",
       "      <td>0.0</td>\n",
       "      <td>1.0</td>\n",
       "      <td>0.0</td>\n",
       "      <td>0.0</td>\n",
       "      <td>0.0</td>\n",
       "      <td>0.0</td>\n",
       "    </tr>\n",
       "  </tbody>\n",
       "</table>\n",
       "</div>"
      ],
      "text/plain": [
       "   age_groups_0-10  age_groups_11-20  age_groups_21-30  age_groups_31-40  \\\n",
       "0              0.0               0.0               1.0               0.0   \n",
       "1              0.0               0.0               0.0               1.0   \n",
       "2              0.0               0.0               1.0               0.0   \n",
       "3              0.0               0.0               0.0               1.0   \n",
       "4              0.0               0.0               0.0               1.0   \n",
       "\n",
       "   age_groups_41-50  age_groups_51-60  age_groups_61-70  age_groups_71-80  \n",
       "0               0.0               0.0               0.0               0.0  \n",
       "1               0.0               0.0               0.0               0.0  \n",
       "2               0.0               0.0               0.0               0.0  \n",
       "3               0.0               0.0               0.0               0.0  \n",
       "4               0.0               0.0               0.0               0.0  "
      ]
     },
     "execution_count": 117,
     "metadata": {},
     "output_type": "execute_result"
    }
   ],
   "source": [
    "age_df.head()"
   ]
  },
  {
   "cell_type": "markdown",
   "id": "0d0b39cb-6c34-4a87-a18e-040461b5aef1",
   "metadata": {},
   "source": [
    "# Look here for re_engineering"
   ]
  },
  {
   "cell_type": "code",
   "execution_count": 118,
   "id": "5e7a73ce-dcd3-455a-9de5-5b725e799443",
   "metadata": {},
   "outputs": [
    {
     "name": "stdout",
     "output_type": "stream",
     "text": [
      "<class 'pandas.core.frame.DataFrame'>\n",
      "RangeIndex: 891 entries, 0 to 890\n",
      "Data columns (total 19 columns):\n",
      " #   Column           Non-Null Count  Dtype   \n",
      "---  ------           --------------  -----   \n",
      " 0   PassengerId      891 non-null    int64   \n",
      " 1   Survived         891 non-null    int64   \n",
      " 2   Pclass           891 non-null    int64   \n",
      " 3   Name             891 non-null    object  \n",
      " 4   Sex              891 non-null    object  \n",
      " 5   Age              891 non-null    float64 \n",
      " 6   SibSp            891 non-null    int64   \n",
      " 7   Parch            891 non-null    int64   \n",
      " 8   Ticket           891 non-null    object  \n",
      " 9   Fare             891 non-null    float64 \n",
      " 10  Embarked         891 non-null    object  \n",
      " 11  Multiple_cabins  891 non-null    int64   \n",
      " 12  Cabin_similar    891 non-null    object  \n",
      " 13  Numeric_ticket   891 non-null    int64   \n",
      " 14  Ticket_letters   891 non-null    object  \n",
      " 15  Name_titles      891 non-null    object  \n",
      " 16  Title            891 non-null    object  \n",
      " 17  Family           891 non-null    int64   \n",
      " 18  age_groups       891 non-null    category\n",
      "dtypes: category(1), float64(2), int64(8), object(8)\n",
      "memory usage: 126.7+ KB\n"
     ]
    }
   ],
   "source": [
    "train_data.info()"
   ]
  },
  {
   "cell_type": "code",
   "execution_count": 119,
   "id": "95af78d6-6efd-421b-825f-0e3d6d6fa878",
   "metadata": {},
   "outputs": [],
   "source": [
    "train_data_1 = train_data.copy()"
   ]
  },
  {
   "cell_type": "code",
   "execution_count": 120,
   "id": "497f976a-63ac-45ce-8097-4cee1f6ba9d3",
   "metadata": {},
   "outputs": [],
   "source": [
    "train_data_1 = pd.concat([train_data, sex, embarked, title, cabin_df, age_df ], axis=1)"
   ]
  },
  {
   "cell_type": "code",
   "execution_count": 121,
   "id": "1331cd3b-3944-448a-ae9a-352966d42cb5",
   "metadata": {},
   "outputs": [
    {
     "data": {
      "text/html": [
       "<div>\n",
       "<style scoped>\n",
       "    .dataframe tbody tr th:only-of-type {\n",
       "        vertical-align: middle;\n",
       "    }\n",
       "\n",
       "    .dataframe tbody tr th {\n",
       "        vertical-align: top;\n",
       "    }\n",
       "\n",
       "    .dataframe thead th {\n",
       "        text-align: right;\n",
       "    }\n",
       "</style>\n",
       "<table border=\"1\" class=\"dataframe\">\n",
       "  <thead>\n",
       "    <tr style=\"text-align: right;\">\n",
       "      <th></th>\n",
       "      <th>PassengerId</th>\n",
       "      <th>Survived</th>\n",
       "      <th>Pclass</th>\n",
       "      <th>Name</th>\n",
       "      <th>Sex</th>\n",
       "      <th>Age</th>\n",
       "      <th>SibSp</th>\n",
       "      <th>Parch</th>\n",
       "      <th>Ticket</th>\n",
       "      <th>Fare</th>\n",
       "      <th>...</th>\n",
       "      <th>Multiple_cabins_3</th>\n",
       "      <th>Multiple_cabins_4</th>\n",
       "      <th>age_groups_0-10</th>\n",
       "      <th>age_groups_11-20</th>\n",
       "      <th>age_groups_21-30</th>\n",
       "      <th>age_groups_31-40</th>\n",
       "      <th>age_groups_41-50</th>\n",
       "      <th>age_groups_51-60</th>\n",
       "      <th>age_groups_61-70</th>\n",
       "      <th>age_groups_71-80</th>\n",
       "    </tr>\n",
       "  </thead>\n",
       "  <tbody>\n",
       "    <tr>\n",
       "      <th>0</th>\n",
       "      <td>1</td>\n",
       "      <td>0</td>\n",
       "      <td>3</td>\n",
       "      <td>Braund, Mr. Owen Harris</td>\n",
       "      <td>male</td>\n",
       "      <td>22.0</td>\n",
       "      <td>1</td>\n",
       "      <td>0</td>\n",
       "      <td>A/5 21171</td>\n",
       "      <td>7.2500</td>\n",
       "      <td>...</td>\n",
       "      <td>0.0</td>\n",
       "      <td>0.0</td>\n",
       "      <td>0.0</td>\n",
       "      <td>0.0</td>\n",
       "      <td>1.0</td>\n",
       "      <td>0.0</td>\n",
       "      <td>0.0</td>\n",
       "      <td>0.0</td>\n",
       "      <td>0.0</td>\n",
       "      <td>0.0</td>\n",
       "    </tr>\n",
       "    <tr>\n",
       "      <th>1</th>\n",
       "      <td>2</td>\n",
       "      <td>1</td>\n",
       "      <td>1</td>\n",
       "      <td>Cumings, Mrs. John Bradley (Florence Briggs Th...</td>\n",
       "      <td>female</td>\n",
       "      <td>38.0</td>\n",
       "      <td>1</td>\n",
       "      <td>0</td>\n",
       "      <td>PC 17599</td>\n",
       "      <td>71.2833</td>\n",
       "      <td>...</td>\n",
       "      <td>0.0</td>\n",
       "      <td>0.0</td>\n",
       "      <td>0.0</td>\n",
       "      <td>0.0</td>\n",
       "      <td>0.0</td>\n",
       "      <td>1.0</td>\n",
       "      <td>0.0</td>\n",
       "      <td>0.0</td>\n",
       "      <td>0.0</td>\n",
       "      <td>0.0</td>\n",
       "    </tr>\n",
       "  </tbody>\n",
       "</table>\n",
       "<p>2 rows × 36 columns</p>\n",
       "</div>"
      ],
      "text/plain": [
       "   PassengerId  Survived  Pclass  \\\n",
       "0            1         0       3   \n",
       "1            2         1       1   \n",
       "\n",
       "                                                Name     Sex   Age  SibSp  \\\n",
       "0                            Braund, Mr. Owen Harris    male  22.0      1   \n",
       "1  Cumings, Mrs. John Bradley (Florence Briggs Th...  female  38.0      1   \n",
       "\n",
       "   Parch     Ticket     Fare  ... Multiple_cabins_3  Multiple_cabins_4  \\\n",
       "0      0  A/5 21171   7.2500  ...               0.0                0.0   \n",
       "1      0   PC 17599  71.2833  ...               0.0                0.0   \n",
       "\n",
       "  age_groups_0-10  age_groups_11-20 age_groups_21-30 age_groups_31-40  \\\n",
       "0             0.0               0.0              1.0              0.0   \n",
       "1             0.0               0.0              0.0              1.0   \n",
       "\n",
       "  age_groups_41-50  age_groups_51-60 age_groups_61-70  age_groups_71-80  \n",
       "0              0.0               0.0              0.0               0.0  \n",
       "1              0.0               0.0              0.0               0.0  \n",
       "\n",
       "[2 rows x 36 columns]"
      ]
     },
     "execution_count": 121,
     "metadata": {},
     "output_type": "execute_result"
    }
   ],
   "source": [
    "train_data_1.head(2)"
   ]
  },
  {
   "cell_type": "code",
   "execution_count": 122,
   "id": "f6cd8b9c-137a-473c-a01b-4a5ac667c0f0",
   "metadata": {},
   "outputs": [
    {
     "name": "stdout",
     "output_type": "stream",
     "text": [
      "<class 'pandas.core.frame.DataFrame'>\n",
      "RangeIndex: 891 entries, 0 to 890\n",
      "Data columns (total 36 columns):\n",
      " #   Column             Non-Null Count  Dtype   \n",
      "---  ------             --------------  -----   \n",
      " 0   PassengerId        891 non-null    int64   \n",
      " 1   Survived           891 non-null    int64   \n",
      " 2   Pclass             891 non-null    int64   \n",
      " 3   Name               891 non-null    object  \n",
      " 4   Sex                891 non-null    object  \n",
      " 5   Age                891 non-null    float64 \n",
      " 6   SibSp              891 non-null    int64   \n",
      " 7   Parch              891 non-null    int64   \n",
      " 8   Ticket             891 non-null    object  \n",
      " 9   Fare               891 non-null    float64 \n",
      " 10  Embarked           891 non-null    object  \n",
      " 11  Multiple_cabins    891 non-null    int64   \n",
      " 12  Cabin_similar      891 non-null    object  \n",
      " 13  Numeric_ticket     891 non-null    int64   \n",
      " 14  Ticket_letters     891 non-null    object  \n",
      " 15  Name_titles        891 non-null    object  \n",
      " 16  Title              891 non-null    object  \n",
      " 17  Family             891 non-null    int64   \n",
      " 18  age_groups         891 non-null    category\n",
      " 19  male               891 non-null    int32   \n",
      " 20  Q                  891 non-null    int32   \n",
      " 21  S                  891 non-null    int32   \n",
      " 22  VIP                891 non-null    int32   \n",
      " 23  Multiple_cabins_0  891 non-null    float64 \n",
      " 24  Multiple_cabins_1  891 non-null    float64 \n",
      " 25  Multiple_cabins_2  891 non-null    float64 \n",
      " 26  Multiple_cabins_3  891 non-null    float64 \n",
      " 27  Multiple_cabins_4  891 non-null    float64 \n",
      " 28  age_groups_0-10    891 non-null    float64 \n",
      " 29  age_groups_11-20   891 non-null    float64 \n",
      " 30  age_groups_21-30   891 non-null    float64 \n",
      " 31  age_groups_31-40   891 non-null    float64 \n",
      " 32  age_groups_41-50   891 non-null    float64 \n",
      " 33  age_groups_51-60   891 non-null    float64 \n",
      " 34  age_groups_61-70   891 non-null    float64 \n",
      " 35  age_groups_71-80   891 non-null    float64 \n",
      "dtypes: category(1), float64(15), int32(4), int64(8), object(8)\n",
      "memory usage: 231.1+ KB\n"
     ]
    }
   ],
   "source": [
    "train_data_1.info()"
   ]
  },
  {
   "cell_type": "code",
   "execution_count": 123,
   "id": "1fa8d97f-2aff-4a5c-a129-4ba4e5836018",
   "metadata": {},
   "outputs": [],
   "source": [
    "# lets scale the age and fare column\n",
    "# we will define a function for this operation called scaling\n",
    "from sklearn.preprocessing import StandardScaler"
   ]
  },
  {
   "cell_type": "code",
   "execution_count": 124,
   "id": "fe17df90-bd45-4bfa-aa06-47878c83d8b9",
   "metadata": {},
   "outputs": [],
   "source": [
    "def scaling(df, columns):\n",
    "    scaler = StandardScaler()\n",
    "\n",
    "    # fitting and transforming the columns\n",
    "    df[columns] = scaler.fit_transform(df[columns])\n",
    "\n",
    "    # return the dataframe\n",
    "    return df"
   ]
  },
  {
   "cell_type": "code",
   "execution_count": 125,
   "id": "c2b49e4f-6342-43b2-a2d8-5b752453ad23",
   "metadata": {},
   "outputs": [],
   "source": [
    "train_data_1 = scaling(train_data_1, ['Age','Fare'])"
   ]
  },
  {
   "cell_type": "code",
   "execution_count": 126,
   "id": "9f340d00-0aca-4009-ad81-33a039717a4b",
   "metadata": {},
   "outputs": [
    {
     "data": {
      "text/html": [
       "<div>\n",
       "<style scoped>\n",
       "    .dataframe tbody tr th:only-of-type {\n",
       "        vertical-align: middle;\n",
       "    }\n",
       "\n",
       "    .dataframe tbody tr th {\n",
       "        vertical-align: top;\n",
       "    }\n",
       "\n",
       "    .dataframe thead th {\n",
       "        text-align: right;\n",
       "    }\n",
       "</style>\n",
       "<table border=\"1\" class=\"dataframe\">\n",
       "  <thead>\n",
       "    <tr style=\"text-align: right;\">\n",
       "      <th></th>\n",
       "      <th>PassengerId</th>\n",
       "      <th>Survived</th>\n",
       "      <th>Pclass</th>\n",
       "      <th>Name</th>\n",
       "      <th>Sex</th>\n",
       "      <th>Age</th>\n",
       "      <th>SibSp</th>\n",
       "      <th>Parch</th>\n",
       "      <th>Ticket</th>\n",
       "      <th>Fare</th>\n",
       "      <th>...</th>\n",
       "      <th>Multiple_cabins_3</th>\n",
       "      <th>Multiple_cabins_4</th>\n",
       "      <th>age_groups_0-10</th>\n",
       "      <th>age_groups_11-20</th>\n",
       "      <th>age_groups_21-30</th>\n",
       "      <th>age_groups_31-40</th>\n",
       "      <th>age_groups_41-50</th>\n",
       "      <th>age_groups_51-60</th>\n",
       "      <th>age_groups_61-70</th>\n",
       "      <th>age_groups_71-80</th>\n",
       "    </tr>\n",
       "  </thead>\n",
       "  <tbody>\n",
       "    <tr>\n",
       "      <th>0</th>\n",
       "      <td>1</td>\n",
       "      <td>0</td>\n",
       "      <td>3</td>\n",
       "      <td>Braund, Mr. Owen Harris</td>\n",
       "      <td>male</td>\n",
       "      <td>-0.533834</td>\n",
       "      <td>1</td>\n",
       "      <td>0</td>\n",
       "      <td>A/5 21171</td>\n",
       "      <td>-0.502445</td>\n",
       "      <td>...</td>\n",
       "      <td>0.0</td>\n",
       "      <td>0.0</td>\n",
       "      <td>0.0</td>\n",
       "      <td>0.0</td>\n",
       "      <td>1.0</td>\n",
       "      <td>0.0</td>\n",
       "      <td>0.0</td>\n",
       "      <td>0.0</td>\n",
       "      <td>0.0</td>\n",
       "      <td>0.0</td>\n",
       "    </tr>\n",
       "    <tr>\n",
       "      <th>1</th>\n",
       "      <td>2</td>\n",
       "      <td>1</td>\n",
       "      <td>1</td>\n",
       "      <td>Cumings, Mrs. John Bradley (Florence Briggs Th...</td>\n",
       "      <td>female</td>\n",
       "      <td>0.674891</td>\n",
       "      <td>1</td>\n",
       "      <td>0</td>\n",
       "      <td>PC 17599</td>\n",
       "      <td>0.786845</td>\n",
       "      <td>...</td>\n",
       "      <td>0.0</td>\n",
       "      <td>0.0</td>\n",
       "      <td>0.0</td>\n",
       "      <td>0.0</td>\n",
       "      <td>0.0</td>\n",
       "      <td>1.0</td>\n",
       "      <td>0.0</td>\n",
       "      <td>0.0</td>\n",
       "      <td>0.0</td>\n",
       "      <td>0.0</td>\n",
       "    </tr>\n",
       "    <tr>\n",
       "      <th>2</th>\n",
       "      <td>3</td>\n",
       "      <td>1</td>\n",
       "      <td>3</td>\n",
       "      <td>Heikkinen, Miss. Laina</td>\n",
       "      <td>female</td>\n",
       "      <td>-0.231653</td>\n",
       "      <td>0</td>\n",
       "      <td>0</td>\n",
       "      <td>STON/O2. 3101282</td>\n",
       "      <td>-0.488854</td>\n",
       "      <td>...</td>\n",
       "      <td>0.0</td>\n",
       "      <td>0.0</td>\n",
       "      <td>0.0</td>\n",
       "      <td>0.0</td>\n",
       "      <td>1.0</td>\n",
       "      <td>0.0</td>\n",
       "      <td>0.0</td>\n",
       "      <td>0.0</td>\n",
       "      <td>0.0</td>\n",
       "      <td>0.0</td>\n",
       "    </tr>\n",
       "  </tbody>\n",
       "</table>\n",
       "<p>3 rows × 36 columns</p>\n",
       "</div>"
      ],
      "text/plain": [
       "   PassengerId  Survived  Pclass  \\\n",
       "0            1         0       3   \n",
       "1            2         1       1   \n",
       "2            3         1       3   \n",
       "\n",
       "                                                Name     Sex       Age  SibSp  \\\n",
       "0                            Braund, Mr. Owen Harris    male -0.533834      1   \n",
       "1  Cumings, Mrs. John Bradley (Florence Briggs Th...  female  0.674891      1   \n",
       "2                             Heikkinen, Miss. Laina  female -0.231653      0   \n",
       "\n",
       "   Parch            Ticket      Fare  ... Multiple_cabins_3  \\\n",
       "0      0         A/5 21171 -0.502445  ...               0.0   \n",
       "1      0          PC 17599  0.786845  ...               0.0   \n",
       "2      0  STON/O2. 3101282 -0.488854  ...               0.0   \n",
       "\n",
       "   Multiple_cabins_4 age_groups_0-10  age_groups_11-20 age_groups_21-30  \\\n",
       "0                0.0             0.0               0.0              1.0   \n",
       "1                0.0             0.0               0.0              0.0   \n",
       "2                0.0             0.0               0.0              1.0   \n",
       "\n",
       "  age_groups_31-40 age_groups_41-50  age_groups_51-60 age_groups_61-70  \\\n",
       "0              0.0              0.0               0.0              0.0   \n",
       "1              1.0              0.0               0.0              0.0   \n",
       "2              0.0              0.0               0.0              0.0   \n",
       "\n",
       "   age_groups_71-80  \n",
       "0               0.0  \n",
       "1               0.0  \n",
       "2               0.0  \n",
       "\n",
       "[3 rows x 36 columns]"
      ]
     },
     "execution_count": 126,
     "metadata": {},
     "output_type": "execute_result"
    }
   ],
   "source": [
    "train_data_1.head(3)"
   ]
  },
  {
   "cell_type": "markdown",
   "id": "9310a413-6c3c-4a50-9b2b-39e9cfc96ddb",
   "metadata": {},
   "source": [
    "# Cleaning the test set\n",
    "1) The test data will be cleaned just as the training data was cleaned. This is to maintain consistency"
   ]
  },
  {
   "cell_type": "code",
   "execution_count": 127,
   "id": "cbfb1ae4-1643-4166-9a06-98a36ac3d347",
   "metadata": {},
   "outputs": [
    {
     "data": {
      "text/html": [
       "<div>\n",
       "<style scoped>\n",
       "    .dataframe tbody tr th:only-of-type {\n",
       "        vertical-align: middle;\n",
       "    }\n",
       "\n",
       "    .dataframe tbody tr th {\n",
       "        vertical-align: top;\n",
       "    }\n",
       "\n",
       "    .dataframe thead th {\n",
       "        text-align: right;\n",
       "    }\n",
       "</style>\n",
       "<table border=\"1\" class=\"dataframe\">\n",
       "  <thead>\n",
       "    <tr style=\"text-align: right;\">\n",
       "      <th></th>\n",
       "      <th>PassengerId</th>\n",
       "      <th>Pclass</th>\n",
       "      <th>Name</th>\n",
       "      <th>Sex</th>\n",
       "      <th>Age</th>\n",
       "      <th>SibSp</th>\n",
       "      <th>Parch</th>\n",
       "      <th>Ticket</th>\n",
       "      <th>Fare</th>\n",
       "      <th>Cabin</th>\n",
       "      <th>Embarked</th>\n",
       "    </tr>\n",
       "  </thead>\n",
       "  <tbody>\n",
       "    <tr>\n",
       "      <th>0</th>\n",
       "      <td>892</td>\n",
       "      <td>3</td>\n",
       "      <td>Kelly, Mr. James</td>\n",
       "      <td>male</td>\n",
       "      <td>34.5</td>\n",
       "      <td>0</td>\n",
       "      <td>0</td>\n",
       "      <td>330911</td>\n",
       "      <td>7.8292</td>\n",
       "      <td>NaN</td>\n",
       "      <td>Q</td>\n",
       "    </tr>\n",
       "    <tr>\n",
       "      <th>1</th>\n",
       "      <td>893</td>\n",
       "      <td>3</td>\n",
       "      <td>Wilkes, Mrs. James (Ellen Needs)</td>\n",
       "      <td>female</td>\n",
       "      <td>47.0</td>\n",
       "      <td>1</td>\n",
       "      <td>0</td>\n",
       "      <td>363272</td>\n",
       "      <td>7.0000</td>\n",
       "      <td>NaN</td>\n",
       "      <td>S</td>\n",
       "    </tr>\n",
       "  </tbody>\n",
       "</table>\n",
       "</div>"
      ],
      "text/plain": [
       "   PassengerId  Pclass                              Name     Sex   Age  SibSp  \\\n",
       "0          892       3                  Kelly, Mr. James    male  34.5      0   \n",
       "1          893       3  Wilkes, Mrs. James (Ellen Needs)  female  47.0      1   \n",
       "\n",
       "   Parch  Ticket    Fare Cabin Embarked  \n",
       "0      0  330911  7.8292   NaN        Q  \n",
       "1      0  363272  7.0000   NaN        S  "
      ]
     },
     "execution_count": 127,
     "metadata": {},
     "output_type": "execute_result"
    }
   ],
   "source": [
    "test_data.head(2)"
   ]
  },
  {
   "cell_type": "code",
   "execution_count": 128,
   "id": "9938d9e3-5ebe-4ff9-90dd-5c3735e2a1ae",
   "metadata": {},
   "outputs": [
    {
     "name": "stdout",
     "output_type": "stream",
     "text": [
      "<class 'pandas.core.frame.DataFrame'>\n",
      "RangeIndex: 418 entries, 0 to 417\n",
      "Data columns (total 11 columns):\n",
      " #   Column       Non-Null Count  Dtype  \n",
      "---  ------       --------------  -----  \n",
      " 0   PassengerId  418 non-null    int64  \n",
      " 1   Pclass       418 non-null    int64  \n",
      " 2   Name         418 non-null    object \n",
      " 3   Sex          418 non-null    object \n",
      " 4   Age          332 non-null    float64\n",
      " 5   SibSp        418 non-null    int64  \n",
      " 6   Parch        418 non-null    int64  \n",
      " 7   Ticket       418 non-null    object \n",
      " 8   Fare         417 non-null    float64\n",
      " 9   Cabin        91 non-null     object \n",
      " 10  Embarked     418 non-null    object \n",
      "dtypes: float64(2), int64(4), object(5)\n",
      "memory usage: 36.1+ KB\n"
     ]
    }
   ],
   "source": [
    "test_data.info()"
   ]
  },
  {
   "cell_type": "code",
   "execution_count": 129,
   "id": "69ccca18-fe2f-4a12-8046-f0f716d26f95",
   "metadata": {},
   "outputs": [
    {
     "name": "stdout",
     "output_type": "stream",
     "text": [
      "The median age for Class 1 is: 42.0\n",
      "The median age for class 2 is: 26.5\n",
      "The median age for class 3 is: 24.0\n"
     ]
    }
   ],
   "source": [
    "# let's calculate the median age of the test_data\n",
    "# we will use the calculate median (cal_median) function used for the training data\n",
    "cal_median(test_data)"
   ]
  },
  {
   "cell_type": "code",
   "execution_count": 130,
   "id": "386f4d7f-2de1-4cd3-b7f3-65b19d8e211a",
   "metadata": {},
   "outputs": [],
   "source": [
    "def impute_age(cols):\n",
    "    Age = cols[0]\n",
    "    Pclass = cols[1]\n",
    "\n",
    "    if pd.isnull(Age):\n",
    "        if Pclass == 1:\n",
    "            return 42.0\n",
    "        elif Pclass == 2:\n",
    "            return 26.5\n",
    "        else:\n",
    "            return 24.0\n",
    "    else:\n",
    "        return Age"
   ]
  },
  {
   "cell_type": "code",
   "execution_count": 131,
   "id": "5cbcdfee-85fe-466a-a310-23c07d0a1200",
   "metadata": {},
   "outputs": [
    {
     "name": "stderr",
     "output_type": "stream",
     "text": [
      "C:\\Users\\ENG MUBARAK\\AppData\\Local\\Temp\\ipykernel_3992\\1375907931.py:2: FutureWarning:\n",
      "\n",
      "Series.__getitem__ treating keys as positions is deprecated. In a future version, integer keys will always be treated as labels (consistent with DataFrame behavior). To access a value by position, use `ser.iloc[pos]`\n",
      "\n",
      "C:\\Users\\ENG MUBARAK\\AppData\\Local\\Temp\\ipykernel_3992\\1375907931.py:3: FutureWarning:\n",
      "\n",
      "Series.__getitem__ treating keys as positions is deprecated. In a future version, integer keys will always be treated as labels (consistent with DataFrame behavior). To access a value by position, use `ser.iloc[pos]`\n",
      "\n"
     ]
    }
   ],
   "source": [
    "# lets fill the missing data in the age column with the median age in each class\n",
    "# we will apply the impute_age function\n",
    "test_data['Age'] = test_data[['Age', 'Pclass']].apply(impute_age, axis=1)"
   ]
  },
  {
   "cell_type": "code",
   "execution_count": 132,
   "id": "17747f5e-43c6-42ac-a9bc-398a821e2dfa",
   "metadata": {},
   "outputs": [],
   "source": [
    "# we will only do the neccessary feature engineering on the test set\n",
    "# i.e only on the columns we are going to use to build and test our model(s) \n",
    "# lets start with cabin to get cabin_similar\n",
    "test_data['Cabin_similar'] = test_data['Cabin'].apply(lambda y : str(y)[0])  # grabbing the first letter of each cabin"
   ]
  },
  {
   "cell_type": "code",
   "execution_count": 133,
   "id": "21e56434-926f-4605-ae16-adbcf38926f3",
   "metadata": {},
   "outputs": [
    {
     "name": "stdout",
     "output_type": "stream",
     "text": [
      "Cabin_similar\n",
      "n    327\n",
      "C     35\n",
      "B     18\n",
      "D     13\n",
      "E      9\n",
      "F      8\n",
      "A      7\n",
      "G      1\n",
      "Name: count, dtype: int64 Cabin_similar\n",
      "n    687\n",
      "C     59\n",
      "B     47\n",
      "D     33\n",
      "E     32\n",
      "A     15\n",
      "F     13\n",
      "G      4\n",
      "T      1\n",
      "Name: count, dtype: int64\n"
     ]
    }
   ],
   "source": [
    "print(test_data['Cabin_similar'].value_counts(), train_data['Cabin_similar'].value_counts())"
   ]
  },
  {
   "cell_type": "markdown",
   "id": "b4eb56bc-db65-4c75-8c9a-667f535c72ad",
   "metadata": {},
   "source": [
    "From above, the T cabin is not in the test data, and only one in the training data. so it shall be dropped"
   ]
  },
  {
   "cell_type": "code",
   "execution_count": 134,
   "id": "684febc0-83d3-4277-b5c1-9b5ac4d70d05",
   "metadata": {},
   "outputs": [],
   "source": [
    "# lets create the Name_title column to get the titles of the passengers\n",
    "test_data['Name_titles'] = test_data.Name.apply(lambda x: x.split(',')[1].split('.')[0].strip())"
   ]
  },
  {
   "cell_type": "code",
   "execution_count": 135,
   "id": "06d07137-d5e4-4892-af19-27106db7bae3",
   "metadata": {},
   "outputs": [
    {
     "data": {
      "text/plain": [
       "(Name_titles\n",
       " Mr        240\n",
       " Miss       78\n",
       " Mrs        72\n",
       " Master     21\n",
       " Col         2\n",
       " Rev         2\n",
       " Ms          1\n",
       " Dr          1\n",
       " Dona        1\n",
       " Name: count, dtype: int64,\n",
       " Name_titles\n",
       " Mr              517\n",
       " Miss            182\n",
       " Mrs             125\n",
       " Master           40\n",
       " Dr                7\n",
       " Rev               6\n",
       " Mlle              2\n",
       " Major             2\n",
       " Col               2\n",
       " the Countess      1\n",
       " Capt              1\n",
       " Ms                1\n",
       " Sir               1\n",
       " Lady              1\n",
       " Mme               1\n",
       " Don               1\n",
       " Jonkheer          1\n",
       " Name: count, dtype: int64)"
      ]
     },
     "execution_count": 135,
     "metadata": {},
     "output_type": "execute_result"
    }
   ],
   "source": [
    "test_data['Name_titles'].value_counts(), train_data['Name_titles'].value_counts()"
   ]
  },
  {
   "cell_type": "code",
   "execution_count": 136,
   "id": "c004dd5d-5d0b-4c1c-9235-3db403647845",
   "metadata": {},
   "outputs": [],
   "source": [
    "# now lets create the Title column using the grouping function:\n",
    "test_data['Title'] = test_data.Name_titles.apply(lambda x: grouping(x))"
   ]
  },
  {
   "cell_type": "code",
   "execution_count": 137,
   "id": "97f74828-517e-4fc4-bcf8-259c75e704ba",
   "metadata": {},
   "outputs": [
    {
     "data": {
      "text/plain": [
       "Title\n",
       "Regular    312\n",
       "VIP        106\n",
       "Name: count, dtype: int64"
      ]
     },
     "execution_count": 137,
     "metadata": {},
     "output_type": "execute_result"
    }
   ],
   "source": [
    "test_data['Title'].value_counts()"
   ]
  },
  {
   "cell_type": "code",
   "execution_count": 138,
   "id": "cbfd03a7-2748-4dea-af87-2c355834f249",
   "metadata": {},
   "outputs": [
    {
     "name": "stdout",
     "output_type": "stream",
     "text": [
      "<class 'pandas.core.frame.DataFrame'>\n",
      "RangeIndex: 418 entries, 0 to 417\n",
      "Data columns (total 14 columns):\n",
      " #   Column         Non-Null Count  Dtype  \n",
      "---  ------         --------------  -----  \n",
      " 0   PassengerId    418 non-null    int64  \n",
      " 1   Pclass         418 non-null    int64  \n",
      " 2   Name           418 non-null    object \n",
      " 3   Sex            418 non-null    object \n",
      " 4   Age            418 non-null    float64\n",
      " 5   SibSp          418 non-null    int64  \n",
      " 6   Parch          418 non-null    int64  \n",
      " 7   Ticket         418 non-null    object \n",
      " 8   Fare           417 non-null    float64\n",
      " 9   Cabin          91 non-null     object \n",
      " 10  Embarked       418 non-null    object \n",
      " 11  Cabin_similar  418 non-null    object \n",
      " 12  Name_titles    418 non-null    object \n",
      " 13  Title          418 non-null    object \n",
      "dtypes: float64(2), int64(4), object(8)\n",
      "memory usage: 45.8+ KB\n"
     ]
    }
   ],
   "source": [
    "test_data.info()"
   ]
  },
  {
   "cell_type": "code",
   "execution_count": 139,
   "id": "4feda405-55a5-4a0a-bbe5-9ec61a64ed0c",
   "metadata": {},
   "outputs": [],
   "source": [
    "# lets convert the categories from the cabin_similar column into digits\n",
    "cabin_encoder2 = cabin_encoder.fit_transform(test_data[['Cabin_similar']])"
   ]
  },
  {
   "cell_type": "code",
   "execution_count": 140,
   "id": "f54b97dc-bea6-4450-bd1a-df5595fab629",
   "metadata": {},
   "outputs": [
    {
     "data": {
      "text/plain": [
       "[array(['A', 'B', 'C', 'D', 'E', 'F', 'G', 'n'], dtype=object)]"
      ]
     },
     "execution_count": 140,
     "metadata": {},
     "output_type": "execute_result"
    }
   ],
   "source": [
    "cabin_encoder.categories_"
   ]
  },
  {
   "cell_type": "code",
   "execution_count": 141,
   "id": "00c2f80a-8ab9-4f74-a860-9b3f448a0722",
   "metadata": {},
   "outputs": [],
   "source": [
    "cabin_df2 = pd.DataFrame(cabin_encoder2, columns=cabin_encoder.get_feature_names_out(['Cabin_similar']))"
   ]
  },
  {
   "cell_type": "code",
   "execution_count": 142,
   "id": "acfe05ea-627c-4ee5-a1b0-f86c0c8359d0",
   "metadata": {},
   "outputs": [
    {
     "data": {
      "text/html": [
       "<div>\n",
       "<style scoped>\n",
       "    .dataframe tbody tr th:only-of-type {\n",
       "        vertical-align: middle;\n",
       "    }\n",
       "\n",
       "    .dataframe tbody tr th {\n",
       "        vertical-align: top;\n",
       "    }\n",
       "\n",
       "    .dataframe thead th {\n",
       "        text-align: right;\n",
       "    }\n",
       "</style>\n",
       "<table border=\"1\" class=\"dataframe\">\n",
       "  <thead>\n",
       "    <tr style=\"text-align: right;\">\n",
       "      <th></th>\n",
       "      <th>Cabin_similar_A</th>\n",
       "      <th>Cabin_similar_B</th>\n",
       "      <th>Cabin_similar_C</th>\n",
       "      <th>Cabin_similar_D</th>\n",
       "      <th>Cabin_similar_E</th>\n",
       "      <th>Cabin_similar_F</th>\n",
       "      <th>Cabin_similar_G</th>\n",
       "      <th>Cabin_similar_n</th>\n",
       "    </tr>\n",
       "  </thead>\n",
       "  <tbody>\n",
       "    <tr>\n",
       "      <th>0</th>\n",
       "      <td>0.0</td>\n",
       "      <td>0.0</td>\n",
       "      <td>0.0</td>\n",
       "      <td>0.0</td>\n",
       "      <td>0.0</td>\n",
       "      <td>0.0</td>\n",
       "      <td>0.0</td>\n",
       "      <td>1.0</td>\n",
       "    </tr>\n",
       "    <tr>\n",
       "      <th>1</th>\n",
       "      <td>0.0</td>\n",
       "      <td>0.0</td>\n",
       "      <td>0.0</td>\n",
       "      <td>0.0</td>\n",
       "      <td>0.0</td>\n",
       "      <td>0.0</td>\n",
       "      <td>0.0</td>\n",
       "      <td>1.0</td>\n",
       "    </tr>\n",
       "    <tr>\n",
       "      <th>2</th>\n",
       "      <td>0.0</td>\n",
       "      <td>0.0</td>\n",
       "      <td>0.0</td>\n",
       "      <td>0.0</td>\n",
       "      <td>0.0</td>\n",
       "      <td>0.0</td>\n",
       "      <td>0.0</td>\n",
       "      <td>1.0</td>\n",
       "    </tr>\n",
       "    <tr>\n",
       "      <th>3</th>\n",
       "      <td>0.0</td>\n",
       "      <td>0.0</td>\n",
       "      <td>0.0</td>\n",
       "      <td>0.0</td>\n",
       "      <td>0.0</td>\n",
       "      <td>0.0</td>\n",
       "      <td>0.0</td>\n",
       "      <td>1.0</td>\n",
       "    </tr>\n",
       "    <tr>\n",
       "      <th>4</th>\n",
       "      <td>0.0</td>\n",
       "      <td>0.0</td>\n",
       "      <td>0.0</td>\n",
       "      <td>0.0</td>\n",
       "      <td>0.0</td>\n",
       "      <td>0.0</td>\n",
       "      <td>0.0</td>\n",
       "      <td>1.0</td>\n",
       "    </tr>\n",
       "  </tbody>\n",
       "</table>\n",
       "</div>"
      ],
      "text/plain": [
       "   Cabin_similar_A  Cabin_similar_B  Cabin_similar_C  Cabin_similar_D  \\\n",
       "0              0.0              0.0              0.0              0.0   \n",
       "1              0.0              0.0              0.0              0.0   \n",
       "2              0.0              0.0              0.0              0.0   \n",
       "3              0.0              0.0              0.0              0.0   \n",
       "4              0.0              0.0              0.0              0.0   \n",
       "\n",
       "   Cabin_similar_E  Cabin_similar_F  Cabin_similar_G  Cabin_similar_n  \n",
       "0              0.0              0.0              0.0              1.0  \n",
       "1              0.0              0.0              0.0              1.0  \n",
       "2              0.0              0.0              0.0              1.0  \n",
       "3              0.0              0.0              0.0              1.0  \n",
       "4              0.0              0.0              0.0              1.0  "
      ]
     },
     "execution_count": 142,
     "metadata": {},
     "output_type": "execute_result"
    }
   ],
   "source": [
    "cabin_df2.head()"
   ]
  },
  {
   "cell_type": "code",
   "execution_count": 143,
   "id": "f0cd2845-78c8-4817-88a4-0b11ff96a498",
   "metadata": {},
   "outputs": [],
   "source": [
    "#lets use the pd.get_dummies to convert both the embarked and Title columns\n",
    "embarked =pd.get_dummies(test_data['Embarked'], dtype=int, drop_first=True)\n",
    "sex = pd.get_dummies(test_data['Sex'], dtype=int, drop_first=True)\n",
    "title = pd.get_dummies(test_data['Title'], dtype=int, drop_first=True)"
   ]
  },
  {
   "cell_type": "code",
   "execution_count": 144,
   "id": "6cbd4fed-2759-428d-a538-8873bc4825f2",
   "metadata": {},
   "outputs": [],
   "source": [
    "# Now we concatenate all the converted columns to the test_data\n",
    "test_data = pd.concat([test_data, sex, embarked, title, cabin_df2 ], axis=1)"
   ]
  },
  {
   "cell_type": "code",
   "execution_count": 145,
   "id": "e66b3f7f-5170-44ed-936f-6eca3d6cc871",
   "metadata": {},
   "outputs": [
    {
     "data": {
      "text/html": [
       "<div>\n",
       "<style scoped>\n",
       "    .dataframe tbody tr th:only-of-type {\n",
       "        vertical-align: middle;\n",
       "    }\n",
       "\n",
       "    .dataframe tbody tr th {\n",
       "        vertical-align: top;\n",
       "    }\n",
       "\n",
       "    .dataframe thead th {\n",
       "        text-align: right;\n",
       "    }\n",
       "</style>\n",
       "<table border=\"1\" class=\"dataframe\">\n",
       "  <thead>\n",
       "    <tr style=\"text-align: right;\">\n",
       "      <th></th>\n",
       "      <th>PassengerId</th>\n",
       "      <th>Pclass</th>\n",
       "      <th>Name</th>\n",
       "      <th>Sex</th>\n",
       "      <th>Age</th>\n",
       "      <th>SibSp</th>\n",
       "      <th>Parch</th>\n",
       "      <th>Ticket</th>\n",
       "      <th>Fare</th>\n",
       "      <th>Cabin</th>\n",
       "      <th>...</th>\n",
       "      <th>S</th>\n",
       "      <th>VIP</th>\n",
       "      <th>Cabin_similar_A</th>\n",
       "      <th>Cabin_similar_B</th>\n",
       "      <th>Cabin_similar_C</th>\n",
       "      <th>Cabin_similar_D</th>\n",
       "      <th>Cabin_similar_E</th>\n",
       "      <th>Cabin_similar_F</th>\n",
       "      <th>Cabin_similar_G</th>\n",
       "      <th>Cabin_similar_n</th>\n",
       "    </tr>\n",
       "  </thead>\n",
       "  <tbody>\n",
       "    <tr>\n",
       "      <th>0</th>\n",
       "      <td>892</td>\n",
       "      <td>3</td>\n",
       "      <td>Kelly, Mr. James</td>\n",
       "      <td>male</td>\n",
       "      <td>34.5</td>\n",
       "      <td>0</td>\n",
       "      <td>0</td>\n",
       "      <td>330911</td>\n",
       "      <td>7.8292</td>\n",
       "      <td>NaN</td>\n",
       "      <td>...</td>\n",
       "      <td>0</td>\n",
       "      <td>0</td>\n",
       "      <td>0.0</td>\n",
       "      <td>0.0</td>\n",
       "      <td>0.0</td>\n",
       "      <td>0.0</td>\n",
       "      <td>0.0</td>\n",
       "      <td>0.0</td>\n",
       "      <td>0.0</td>\n",
       "      <td>1.0</td>\n",
       "    </tr>\n",
       "    <tr>\n",
       "      <th>1</th>\n",
       "      <td>893</td>\n",
       "      <td>3</td>\n",
       "      <td>Wilkes, Mrs. James (Ellen Needs)</td>\n",
       "      <td>female</td>\n",
       "      <td>47.0</td>\n",
       "      <td>1</td>\n",
       "      <td>0</td>\n",
       "      <td>363272</td>\n",
       "      <td>7.0000</td>\n",
       "      <td>NaN</td>\n",
       "      <td>...</td>\n",
       "      <td>1</td>\n",
       "      <td>0</td>\n",
       "      <td>0.0</td>\n",
       "      <td>0.0</td>\n",
       "      <td>0.0</td>\n",
       "      <td>0.0</td>\n",
       "      <td>0.0</td>\n",
       "      <td>0.0</td>\n",
       "      <td>0.0</td>\n",
       "      <td>1.0</td>\n",
       "    </tr>\n",
       "  </tbody>\n",
       "</table>\n",
       "<p>2 rows × 26 columns</p>\n",
       "</div>"
      ],
      "text/plain": [
       "   PassengerId  Pclass                              Name     Sex   Age  SibSp  \\\n",
       "0          892       3                  Kelly, Mr. James    male  34.5      0   \n",
       "1          893       3  Wilkes, Mrs. James (Ellen Needs)  female  47.0      1   \n",
       "\n",
       "   Parch  Ticket    Fare Cabin  ...  S VIP Cabin_similar_A Cabin_similar_B  \\\n",
       "0      0  330911  7.8292   NaN  ...  0   0             0.0             0.0   \n",
       "1      0  363272  7.0000   NaN  ...  1   0             0.0             0.0   \n",
       "\n",
       "   Cabin_similar_C  Cabin_similar_D  Cabin_similar_E  Cabin_similar_F  \\\n",
       "0              0.0              0.0              0.0              0.0   \n",
       "1              0.0              0.0              0.0              0.0   \n",
       "\n",
       "   Cabin_similar_G  Cabin_similar_n  \n",
       "0              0.0              1.0  \n",
       "1              0.0              1.0  \n",
       "\n",
       "[2 rows x 26 columns]"
      ]
     },
     "execution_count": 145,
     "metadata": {},
     "output_type": "execute_result"
    }
   ],
   "source": [
    "test_data.head(2)"
   ]
  },
  {
   "cell_type": "code",
   "execution_count": 146,
   "id": "3eb8c0c7-c6af-4192-be54-52cd932be7e0",
   "metadata": {},
   "outputs": [
    {
     "data": {
      "text/plain": [
       "Fare\n",
       "False    417\n",
       "True       1\n",
       "Name: count, dtype: int64"
      ]
     },
     "execution_count": 146,
     "metadata": {},
     "output_type": "execute_result"
    }
   ],
   "source": [
    "# lets take care of the missing value in the Fare column\n",
    "# we will fill it with the mean of the passenger class it belongs to\n",
    "test_data['Fare'].isnull().value_counts()"
   ]
  },
  {
   "cell_type": "code",
   "execution_count": 147,
   "id": "8b934f35-5a75-4a74-bcdd-c33799c0f7fd",
   "metadata": {},
   "outputs": [
    {
     "data": {
      "text/html": [
       "<div>\n",
       "<style scoped>\n",
       "    .dataframe tbody tr th:only-of-type {\n",
       "        vertical-align: middle;\n",
       "    }\n",
       "\n",
       "    .dataframe tbody tr th {\n",
       "        vertical-align: top;\n",
       "    }\n",
       "\n",
       "    .dataframe thead th {\n",
       "        text-align: right;\n",
       "    }\n",
       "</style>\n",
       "<table border=\"1\" class=\"dataframe\">\n",
       "  <thead>\n",
       "    <tr style=\"text-align: right;\">\n",
       "      <th></th>\n",
       "      <th>PassengerId</th>\n",
       "      <th>Pclass</th>\n",
       "      <th>Name</th>\n",
       "      <th>Sex</th>\n",
       "      <th>Age</th>\n",
       "      <th>SibSp</th>\n",
       "      <th>Parch</th>\n",
       "      <th>Ticket</th>\n",
       "      <th>Fare</th>\n",
       "      <th>Cabin</th>\n",
       "      <th>...</th>\n",
       "      <th>S</th>\n",
       "      <th>VIP</th>\n",
       "      <th>Cabin_similar_A</th>\n",
       "      <th>Cabin_similar_B</th>\n",
       "      <th>Cabin_similar_C</th>\n",
       "      <th>Cabin_similar_D</th>\n",
       "      <th>Cabin_similar_E</th>\n",
       "      <th>Cabin_similar_F</th>\n",
       "      <th>Cabin_similar_G</th>\n",
       "      <th>Cabin_similar_n</th>\n",
       "    </tr>\n",
       "  </thead>\n",
       "  <tbody>\n",
       "    <tr>\n",
       "      <th>152</th>\n",
       "      <td>1044</td>\n",
       "      <td>3</td>\n",
       "      <td>Storey, Mr. Thomas</td>\n",
       "      <td>male</td>\n",
       "      <td>60.5</td>\n",
       "      <td>0</td>\n",
       "      <td>0</td>\n",
       "      <td>3701</td>\n",
       "      <td>NaN</td>\n",
       "      <td>NaN</td>\n",
       "      <td>...</td>\n",
       "      <td>1</td>\n",
       "      <td>0</td>\n",
       "      <td>0.0</td>\n",
       "      <td>0.0</td>\n",
       "      <td>0.0</td>\n",
       "      <td>0.0</td>\n",
       "      <td>0.0</td>\n",
       "      <td>0.0</td>\n",
       "      <td>0.0</td>\n",
       "      <td>1.0</td>\n",
       "    </tr>\n",
       "  </tbody>\n",
       "</table>\n",
       "<p>1 rows × 26 columns</p>\n",
       "</div>"
      ],
      "text/plain": [
       "     PassengerId  Pclass                Name   Sex   Age  SibSp  Parch Ticket  \\\n",
       "152         1044       3  Storey, Mr. Thomas  male  60.5      0      0   3701   \n",
       "\n",
       "     Fare Cabin  ...  S VIP Cabin_similar_A Cabin_similar_B  Cabin_similar_C  \\\n",
       "152   NaN   NaN  ...  1   0             0.0             0.0              0.0   \n",
       "\n",
       "     Cabin_similar_D  Cabin_similar_E  Cabin_similar_F  Cabin_similar_G  \\\n",
       "152              0.0              0.0              0.0              0.0   \n",
       "\n",
       "     Cabin_similar_n  \n",
       "152              1.0  \n",
       "\n",
       "[1 rows x 26 columns]"
      ]
     },
     "execution_count": 147,
     "metadata": {},
     "output_type": "execute_result"
    }
   ],
   "source": [
    "test_data[test_data['Fare'].isnull() == True]"
   ]
  },
  {
   "cell_type": "code",
   "execution_count": 148,
   "id": "9e870c0e-5ccc-4f9f-bda6-85f9d1822a89",
   "metadata": {},
   "outputs": [],
   "source": [
    "mean = test_data[test_data['Pclass'] == 3]['Fare'].mean()"
   ]
  },
  {
   "cell_type": "code",
   "execution_count": 149,
   "id": "172f846c-2b0c-4527-8596-796d0f015bca",
   "metadata": {},
   "outputs": [],
   "source": [
    "test_data.fillna({'Fare': mean}, inplace=True)"
   ]
  },
  {
   "cell_type": "code",
   "execution_count": 150,
   "id": "8b70a8eb-6580-434d-9522-a464a8480b78",
   "metadata": {},
   "outputs": [
    {
     "data": {
      "text/plain": [
       "Fare\n",
       "False    418\n",
       "Name: count, dtype: int64"
      ]
     },
     "execution_count": 150,
     "metadata": {},
     "output_type": "execute_result"
    }
   ],
   "source": [
    "test_data['Fare'].isnull().value_counts()"
   ]
  },
  {
   "cell_type": "code",
   "execution_count": 151,
   "id": "4500ca5b-1aa9-4a89-9ef0-3d18ab4b804e",
   "metadata": {},
   "outputs": [],
   "source": [
    "# Lets scale the test data using standardscaler via the scaling function\n",
    "test_data = scaling(test_data, ['Age','Fare'])"
   ]
  },
  {
   "cell_type": "markdown",
   "id": "bb7c2af4-bfc4-469a-975d-3e086cfccdb0",
   "metadata": {},
   "source": [
    "# Dropping Columns \n",
    "1) we will drop the columns not needed(for now) for modelling\n",
    "2) The columns in both the training and testing data must be the same"
   ]
  },
  {
   "cell_type": "code",
   "execution_count": 152,
   "id": "3b17525d-a7d0-4034-93b9-f9385f06509c",
   "metadata": {},
   "outputs": [
    {
     "data": {
      "text/html": [
       "<div>\n",
       "<style scoped>\n",
       "    .dataframe tbody tr th:only-of-type {\n",
       "        vertical-align: middle;\n",
       "    }\n",
       "\n",
       "    .dataframe tbody tr th {\n",
       "        vertical-align: top;\n",
       "    }\n",
       "\n",
       "    .dataframe thead th {\n",
       "        text-align: right;\n",
       "    }\n",
       "</style>\n",
       "<table border=\"1\" class=\"dataframe\">\n",
       "  <thead>\n",
       "    <tr style=\"text-align: right;\">\n",
       "      <th></th>\n",
       "      <th>PassengerId</th>\n",
       "      <th>Survived</th>\n",
       "      <th>Pclass</th>\n",
       "      <th>Name</th>\n",
       "      <th>Sex</th>\n",
       "      <th>Age</th>\n",
       "      <th>SibSp</th>\n",
       "      <th>Parch</th>\n",
       "      <th>Ticket</th>\n",
       "      <th>Fare</th>\n",
       "      <th>...</th>\n",
       "      <th>Multiple_cabins_3</th>\n",
       "      <th>Multiple_cabins_4</th>\n",
       "      <th>age_groups_0-10</th>\n",
       "      <th>age_groups_11-20</th>\n",
       "      <th>age_groups_21-30</th>\n",
       "      <th>age_groups_31-40</th>\n",
       "      <th>age_groups_41-50</th>\n",
       "      <th>age_groups_51-60</th>\n",
       "      <th>age_groups_61-70</th>\n",
       "      <th>age_groups_71-80</th>\n",
       "    </tr>\n",
       "  </thead>\n",
       "  <tbody>\n",
       "    <tr>\n",
       "      <th>0</th>\n",
       "      <td>1</td>\n",
       "      <td>0</td>\n",
       "      <td>3</td>\n",
       "      <td>Braund, Mr. Owen Harris</td>\n",
       "      <td>male</td>\n",
       "      <td>-0.533834</td>\n",
       "      <td>1</td>\n",
       "      <td>0</td>\n",
       "      <td>A/5 21171</td>\n",
       "      <td>-0.502445</td>\n",
       "      <td>...</td>\n",
       "      <td>0.0</td>\n",
       "      <td>0.0</td>\n",
       "      <td>0.0</td>\n",
       "      <td>0.0</td>\n",
       "      <td>1.0</td>\n",
       "      <td>0.0</td>\n",
       "      <td>0.0</td>\n",
       "      <td>0.0</td>\n",
       "      <td>0.0</td>\n",
       "      <td>0.0</td>\n",
       "    </tr>\n",
       "    <tr>\n",
       "      <th>1</th>\n",
       "      <td>2</td>\n",
       "      <td>1</td>\n",
       "      <td>1</td>\n",
       "      <td>Cumings, Mrs. John Bradley (Florence Briggs Th...</td>\n",
       "      <td>female</td>\n",
       "      <td>0.674891</td>\n",
       "      <td>1</td>\n",
       "      <td>0</td>\n",
       "      <td>PC 17599</td>\n",
       "      <td>0.786845</td>\n",
       "      <td>...</td>\n",
       "      <td>0.0</td>\n",
       "      <td>0.0</td>\n",
       "      <td>0.0</td>\n",
       "      <td>0.0</td>\n",
       "      <td>0.0</td>\n",
       "      <td>1.0</td>\n",
       "      <td>0.0</td>\n",
       "      <td>0.0</td>\n",
       "      <td>0.0</td>\n",
       "      <td>0.0</td>\n",
       "    </tr>\n",
       "  </tbody>\n",
       "</table>\n",
       "<p>2 rows × 36 columns</p>\n",
       "</div>"
      ],
      "text/plain": [
       "   PassengerId  Survived  Pclass  \\\n",
       "0            1         0       3   \n",
       "1            2         1       1   \n",
       "\n",
       "                                                Name     Sex       Age  SibSp  \\\n",
       "0                            Braund, Mr. Owen Harris    male -0.533834      1   \n",
       "1  Cumings, Mrs. John Bradley (Florence Briggs Th...  female  0.674891      1   \n",
       "\n",
       "   Parch     Ticket      Fare  ... Multiple_cabins_3  Multiple_cabins_4  \\\n",
       "0      0  A/5 21171 -0.502445  ...               0.0                0.0   \n",
       "1      0   PC 17599  0.786845  ...               0.0                0.0   \n",
       "\n",
       "  age_groups_0-10  age_groups_11-20 age_groups_21-30 age_groups_31-40  \\\n",
       "0             0.0               0.0              1.0              0.0   \n",
       "1             0.0               0.0              0.0              1.0   \n",
       "\n",
       "  age_groups_41-50  age_groups_51-60 age_groups_61-70  age_groups_71-80  \n",
       "0              0.0               0.0              0.0               0.0  \n",
       "1              0.0               0.0              0.0               0.0  \n",
       "\n",
       "[2 rows x 36 columns]"
      ]
     },
     "execution_count": 152,
     "metadata": {},
     "output_type": "execute_result"
    }
   ],
   "source": [
    "train_data_1.head(2)"
   ]
  },
  {
   "cell_type": "code",
   "execution_count": 153,
   "id": "ad3e3603-ed73-4e6a-b067-205063d11d5f",
   "metadata": {},
   "outputs": [
    {
     "data": {
      "text/plain": [
       "Index(['PassengerId', 'Survived', 'Pclass', 'Name', 'Sex', 'Age', 'SibSp',\n",
       "       'Parch', 'Ticket', 'Fare', 'Embarked', 'Multiple_cabins',\n",
       "       'Cabin_similar', 'Numeric_ticket', 'Ticket_letters', 'Name_titles',\n",
       "       'Title', 'Family', 'age_groups', 'male', 'Q', 'S', 'VIP',\n",
       "       'Multiple_cabins_0', 'Multiple_cabins_1', 'Multiple_cabins_2',\n",
       "       'Multiple_cabins_3', 'Multiple_cabins_4', 'age_groups_0-10',\n",
       "       'age_groups_11-20', 'age_groups_21-30', 'age_groups_31-40',\n",
       "       'age_groups_41-50', 'age_groups_51-60', 'age_groups_61-70',\n",
       "       'age_groups_71-80'],\n",
       "      dtype='object')"
      ]
     },
     "execution_count": 153,
     "metadata": {},
     "output_type": "execute_result"
    }
   ],
   "source": [
    "train_data_1.columns"
   ]
  },
  {
   "cell_type": "code",
   "execution_count": 154,
   "id": "a47f256f-e14e-4250-bede-6da9d4b618c5",
   "metadata": {},
   "outputs": [],
   "source": [
    "train_data_1 = train_data_1.drop(['PassengerId','Name','SibSp','Sex','SibSp','Parch','Ticket','Embarked','Multiple_cabins_1', 'Multiple_cabins_2',\n",
    "       'Multiple_cabins_3', 'Multiple_cabins_4', 'Multiple_cabins','Cabin_similar','Numeric_ticket','Ticket_letters','age_groups',\n",
    "         'Name_titles','Title'], axis=1, inplace=False)"
   ]
  },
  {
   "cell_type": "code",
   "execution_count": 155,
   "id": "980058ee-7406-4289-aa47-b2c2657d574a",
   "metadata": {},
   "outputs": [
    {
     "data": {
      "text/html": [
       "<div>\n",
       "<style scoped>\n",
       "    .dataframe tbody tr th:only-of-type {\n",
       "        vertical-align: middle;\n",
       "    }\n",
       "\n",
       "    .dataframe tbody tr th {\n",
       "        vertical-align: top;\n",
       "    }\n",
       "\n",
       "    .dataframe thead th {\n",
       "        text-align: right;\n",
       "    }\n",
       "</style>\n",
       "<table border=\"1\" class=\"dataframe\">\n",
       "  <thead>\n",
       "    <tr style=\"text-align: right;\">\n",
       "      <th></th>\n",
       "      <th>Survived</th>\n",
       "      <th>Pclass</th>\n",
       "      <th>Age</th>\n",
       "      <th>Fare</th>\n",
       "      <th>Family</th>\n",
       "      <th>male</th>\n",
       "      <th>Q</th>\n",
       "      <th>S</th>\n",
       "      <th>VIP</th>\n",
       "      <th>Multiple_cabins_0</th>\n",
       "      <th>age_groups_0-10</th>\n",
       "      <th>age_groups_11-20</th>\n",
       "      <th>age_groups_21-30</th>\n",
       "      <th>age_groups_31-40</th>\n",
       "      <th>age_groups_41-50</th>\n",
       "      <th>age_groups_51-60</th>\n",
       "      <th>age_groups_61-70</th>\n",
       "      <th>age_groups_71-80</th>\n",
       "    </tr>\n",
       "  </thead>\n",
       "  <tbody>\n",
       "    <tr>\n",
       "      <th>0</th>\n",
       "      <td>0</td>\n",
       "      <td>3</td>\n",
       "      <td>-0.533834</td>\n",
       "      <td>-0.502445</td>\n",
       "      <td>1</td>\n",
       "      <td>1</td>\n",
       "      <td>0</td>\n",
       "      <td>1</td>\n",
       "      <td>0</td>\n",
       "      <td>1.0</td>\n",
       "      <td>0.0</td>\n",
       "      <td>0.0</td>\n",
       "      <td>1.0</td>\n",
       "      <td>0.0</td>\n",
       "      <td>0.0</td>\n",
       "      <td>0.0</td>\n",
       "      <td>0.0</td>\n",
       "      <td>0.0</td>\n",
       "    </tr>\n",
       "    <tr>\n",
       "      <th>1</th>\n",
       "      <td>1</td>\n",
       "      <td>1</td>\n",
       "      <td>0.674891</td>\n",
       "      <td>0.786845</td>\n",
       "      <td>1</td>\n",
       "      <td>0</td>\n",
       "      <td>0</td>\n",
       "      <td>0</td>\n",
       "      <td>0</td>\n",
       "      <td>0.0</td>\n",
       "      <td>0.0</td>\n",
       "      <td>0.0</td>\n",
       "      <td>0.0</td>\n",
       "      <td>1.0</td>\n",
       "      <td>0.0</td>\n",
       "      <td>0.0</td>\n",
       "      <td>0.0</td>\n",
       "      <td>0.0</td>\n",
       "    </tr>\n",
       "    <tr>\n",
       "      <th>2</th>\n",
       "      <td>1</td>\n",
       "      <td>3</td>\n",
       "      <td>-0.231653</td>\n",
       "      <td>-0.488854</td>\n",
       "      <td>0</td>\n",
       "      <td>0</td>\n",
       "      <td>0</td>\n",
       "      <td>1</td>\n",
       "      <td>1</td>\n",
       "      <td>1.0</td>\n",
       "      <td>0.0</td>\n",
       "      <td>0.0</td>\n",
       "      <td>1.0</td>\n",
       "      <td>0.0</td>\n",
       "      <td>0.0</td>\n",
       "      <td>0.0</td>\n",
       "      <td>0.0</td>\n",
       "      <td>0.0</td>\n",
       "    </tr>\n",
       "    <tr>\n",
       "      <th>3</th>\n",
       "      <td>1</td>\n",
       "      <td>1</td>\n",
       "      <td>0.448255</td>\n",
       "      <td>0.420730</td>\n",
       "      <td>1</td>\n",
       "      <td>0</td>\n",
       "      <td>0</td>\n",
       "      <td>1</td>\n",
       "      <td>0</td>\n",
       "      <td>0.0</td>\n",
       "      <td>0.0</td>\n",
       "      <td>0.0</td>\n",
       "      <td>0.0</td>\n",
       "      <td>1.0</td>\n",
       "      <td>0.0</td>\n",
       "      <td>0.0</td>\n",
       "      <td>0.0</td>\n",
       "      <td>0.0</td>\n",
       "    </tr>\n",
       "    <tr>\n",
       "      <th>4</th>\n",
       "      <td>0</td>\n",
       "      <td>3</td>\n",
       "      <td>0.448255</td>\n",
       "      <td>-0.486337</td>\n",
       "      <td>0</td>\n",
       "      <td>1</td>\n",
       "      <td>0</td>\n",
       "      <td>1</td>\n",
       "      <td>0</td>\n",
       "      <td>1.0</td>\n",
       "      <td>0.0</td>\n",
       "      <td>0.0</td>\n",
       "      <td>0.0</td>\n",
       "      <td>1.0</td>\n",
       "      <td>0.0</td>\n",
       "      <td>0.0</td>\n",
       "      <td>0.0</td>\n",
       "      <td>0.0</td>\n",
       "    </tr>\n",
       "  </tbody>\n",
       "</table>\n",
       "</div>"
      ],
      "text/plain": [
       "   Survived  Pclass       Age      Fare  Family  male  Q  S  VIP  \\\n",
       "0         0       3 -0.533834 -0.502445       1     1  0  1    0   \n",
       "1         1       1  0.674891  0.786845       1     0  0  0    0   \n",
       "2         1       3 -0.231653 -0.488854       0     0  0  1    1   \n",
       "3         1       1  0.448255  0.420730       1     0  0  1    0   \n",
       "4         0       3  0.448255 -0.486337       0     1  0  1    0   \n",
       "\n",
       "   Multiple_cabins_0  age_groups_0-10  age_groups_11-20  age_groups_21-30  \\\n",
       "0                1.0              0.0               0.0               1.0   \n",
       "1                0.0              0.0               0.0               0.0   \n",
       "2                1.0              0.0               0.0               1.0   \n",
       "3                0.0              0.0               0.0               0.0   \n",
       "4                1.0              0.0               0.0               0.0   \n",
       "\n",
       "   age_groups_31-40  age_groups_41-50  age_groups_51-60  age_groups_61-70  \\\n",
       "0               0.0               0.0               0.0               0.0   \n",
       "1               1.0               0.0               0.0               0.0   \n",
       "2               0.0               0.0               0.0               0.0   \n",
       "3               1.0               0.0               0.0               0.0   \n",
       "4               1.0               0.0               0.0               0.0   \n",
       "\n",
       "   age_groups_71-80  \n",
       "0               0.0  \n",
       "1               0.0  \n",
       "2               0.0  \n",
       "3               0.0  \n",
       "4               0.0  "
      ]
     },
     "execution_count": 155,
     "metadata": {},
     "output_type": "execute_result"
    }
   ],
   "source": [
    "train_data_1.head()"
   ]
  },
  {
   "cell_type": "code",
   "execution_count": 156,
   "id": "555fb530-3863-4fde-a7b0-4a05715a215f",
   "metadata": {},
   "outputs": [],
   "source": [
    "test_data = test_data.drop(['PassengerId','Name','SibSp','Sex','SibSp','Parch','Ticket','Embarked','Cabin',\n",
    "                            'Cabin_similar','Name_titles','Title'], axis=1, inplace=False)"
   ]
  },
  {
   "cell_type": "code",
   "execution_count": 157,
   "id": "0bfa4530-f551-4c51-a511-54ac3136add5",
   "metadata": {},
   "outputs": [
    {
     "data": {
      "text/html": [
       "<div>\n",
       "<style scoped>\n",
       "    .dataframe tbody tr th:only-of-type {\n",
       "        vertical-align: middle;\n",
       "    }\n",
       "\n",
       "    .dataframe tbody tr th {\n",
       "        vertical-align: top;\n",
       "    }\n",
       "\n",
       "    .dataframe thead th {\n",
       "        text-align: right;\n",
       "    }\n",
       "</style>\n",
       "<table border=\"1\" class=\"dataframe\">\n",
       "  <thead>\n",
       "    <tr style=\"text-align: right;\">\n",
       "      <th></th>\n",
       "      <th>Pclass</th>\n",
       "      <th>Age</th>\n",
       "      <th>Fare</th>\n",
       "      <th>male</th>\n",
       "      <th>Q</th>\n",
       "      <th>S</th>\n",
       "      <th>VIP</th>\n",
       "      <th>Cabin_similar_A</th>\n",
       "      <th>Cabin_similar_B</th>\n",
       "      <th>Cabin_similar_C</th>\n",
       "      <th>Cabin_similar_D</th>\n",
       "      <th>Cabin_similar_E</th>\n",
       "      <th>Cabin_similar_F</th>\n",
       "      <th>Cabin_similar_G</th>\n",
       "      <th>Cabin_similar_n</th>\n",
       "    </tr>\n",
       "  </thead>\n",
       "  <tbody>\n",
       "    <tr>\n",
       "      <th>0</th>\n",
       "      <td>3</td>\n",
       "      <td>0.393048</td>\n",
       "      <td>-0.497311</td>\n",
       "      <td>1</td>\n",
       "      <td>1</td>\n",
       "      <td>0</td>\n",
       "      <td>0</td>\n",
       "      <td>0.0</td>\n",
       "      <td>0.0</td>\n",
       "      <td>0.0</td>\n",
       "      <td>0.0</td>\n",
       "      <td>0.0</td>\n",
       "      <td>0.0</td>\n",
       "      <td>0.0</td>\n",
       "      <td>1.0</td>\n",
       "    </tr>\n",
       "    <tr>\n",
       "      <th>1</th>\n",
       "      <td>3</td>\n",
       "      <td>1.356309</td>\n",
       "      <td>-0.512175</td>\n",
       "      <td>0</td>\n",
       "      <td>0</td>\n",
       "      <td>1</td>\n",
       "      <td>0</td>\n",
       "      <td>0.0</td>\n",
       "      <td>0.0</td>\n",
       "      <td>0.0</td>\n",
       "      <td>0.0</td>\n",
       "      <td>0.0</td>\n",
       "      <td>0.0</td>\n",
       "      <td>0.0</td>\n",
       "      <td>1.0</td>\n",
       "    </tr>\n",
       "    <tr>\n",
       "      <th>2</th>\n",
       "      <td>2</td>\n",
       "      <td>2.512223</td>\n",
       "      <td>-0.463999</td>\n",
       "      <td>1</td>\n",
       "      <td>1</td>\n",
       "      <td>0</td>\n",
       "      <td>0</td>\n",
       "      <td>0.0</td>\n",
       "      <td>0.0</td>\n",
       "      <td>0.0</td>\n",
       "      <td>0.0</td>\n",
       "      <td>0.0</td>\n",
       "      <td>0.0</td>\n",
       "      <td>0.0</td>\n",
       "      <td>1.0</td>\n",
       "    </tr>\n",
       "    <tr>\n",
       "      <th>3</th>\n",
       "      <td>3</td>\n",
       "      <td>-0.184909</td>\n",
       "      <td>-0.482373</td>\n",
       "      <td>1</td>\n",
       "      <td>0</td>\n",
       "      <td>1</td>\n",
       "      <td>0</td>\n",
       "      <td>0.0</td>\n",
       "      <td>0.0</td>\n",
       "      <td>0.0</td>\n",
       "      <td>0.0</td>\n",
       "      <td>0.0</td>\n",
       "      <td>0.0</td>\n",
       "      <td>0.0</td>\n",
       "      <td>1.0</td>\n",
       "    </tr>\n",
       "    <tr>\n",
       "      <th>4</th>\n",
       "      <td>3</td>\n",
       "      <td>-0.570214</td>\n",
       "      <td>-0.417392</td>\n",
       "      <td>0</td>\n",
       "      <td>0</td>\n",
       "      <td>1</td>\n",
       "      <td>0</td>\n",
       "      <td>0.0</td>\n",
       "      <td>0.0</td>\n",
       "      <td>0.0</td>\n",
       "      <td>0.0</td>\n",
       "      <td>0.0</td>\n",
       "      <td>0.0</td>\n",
       "      <td>0.0</td>\n",
       "      <td>1.0</td>\n",
       "    </tr>\n",
       "  </tbody>\n",
       "</table>\n",
       "</div>"
      ],
      "text/plain": [
       "   Pclass       Age      Fare  male  Q  S  VIP  Cabin_similar_A  \\\n",
       "0       3  0.393048 -0.497311     1  1  0    0              0.0   \n",
       "1       3  1.356309 -0.512175     0  0  1    0              0.0   \n",
       "2       2  2.512223 -0.463999     1  1  0    0              0.0   \n",
       "3       3 -0.184909 -0.482373     1  0  1    0              0.0   \n",
       "4       3 -0.570214 -0.417392     0  0  1    0              0.0   \n",
       "\n",
       "   Cabin_similar_B  Cabin_similar_C  Cabin_similar_D  Cabin_similar_E  \\\n",
       "0              0.0              0.0              0.0              0.0   \n",
       "1              0.0              0.0              0.0              0.0   \n",
       "2              0.0              0.0              0.0              0.0   \n",
       "3              0.0              0.0              0.0              0.0   \n",
       "4              0.0              0.0              0.0              0.0   \n",
       "\n",
       "   Cabin_similar_F  Cabin_similar_G  Cabin_similar_n  \n",
       "0              0.0              0.0              1.0  \n",
       "1              0.0              0.0              1.0  \n",
       "2              0.0              0.0              1.0  \n",
       "3              0.0              0.0              1.0  \n",
       "4              0.0              0.0              1.0  "
      ]
     },
     "execution_count": 157,
     "metadata": {},
     "output_type": "execute_result"
    }
   ],
   "source": [
    "test_data.head()"
   ]
  },
  {
   "cell_type": "markdown",
   "id": "8d19d14f-989d-4a83-8e58-2b3d47f3f134",
   "metadata": {},
   "source": [
    "# Dividing features and target\n",
    "1) The target variables will be separated from the data in the train_data set.\n",
    "2) There is no target variables in the test data set(This is because the data is gotten from Kaggle competition)\n",
    "3) Cross validation will be used to get the accuracy of models on the train_data set.\n",
    "4) Bunch of supervised learning models will be explored: logistic reg, SVC, Kneighbors classifier, Decision Trees classifier and RandomForest classifier"
   ]
  },
  {
   "cell_type": "code",
   "execution_count": 158,
   "id": "3b5d32c0-2941-4909-b6f0-f49c40d69545",
   "metadata": {},
   "outputs": [],
   "source": [
    "X_train = train_data_1.drop('Survived',axis=1)\n",
    "y_train = train_data_1['Survived']"
   ]
  },
  {
   "cell_type": "code",
   "execution_count": 159,
   "id": "5e7696ae-41d9-4106-9c17-0defacbe233d",
   "metadata": {},
   "outputs": [
    {
     "data": {
      "text/html": [
       "<div>\n",
       "<style scoped>\n",
       "    .dataframe tbody tr th:only-of-type {\n",
       "        vertical-align: middle;\n",
       "    }\n",
       "\n",
       "    .dataframe tbody tr th {\n",
       "        vertical-align: top;\n",
       "    }\n",
       "\n",
       "    .dataframe thead th {\n",
       "        text-align: right;\n",
       "    }\n",
       "</style>\n",
       "<table border=\"1\" class=\"dataframe\">\n",
       "  <thead>\n",
       "    <tr style=\"text-align: right;\">\n",
       "      <th></th>\n",
       "      <th>Pclass</th>\n",
       "      <th>Age</th>\n",
       "      <th>Fare</th>\n",
       "      <th>Family</th>\n",
       "      <th>male</th>\n",
       "      <th>Q</th>\n",
       "      <th>S</th>\n",
       "      <th>VIP</th>\n",
       "      <th>Multiple_cabins_0</th>\n",
       "      <th>age_groups_0-10</th>\n",
       "      <th>age_groups_11-20</th>\n",
       "      <th>age_groups_21-30</th>\n",
       "      <th>age_groups_31-40</th>\n",
       "      <th>age_groups_41-50</th>\n",
       "      <th>age_groups_51-60</th>\n",
       "      <th>age_groups_61-70</th>\n",
       "      <th>age_groups_71-80</th>\n",
       "    </tr>\n",
       "  </thead>\n",
       "  <tbody>\n",
       "    <tr>\n",
       "      <th>0</th>\n",
       "      <td>3</td>\n",
       "      <td>-0.533834</td>\n",
       "      <td>-0.502445</td>\n",
       "      <td>1</td>\n",
       "      <td>1</td>\n",
       "      <td>0</td>\n",
       "      <td>1</td>\n",
       "      <td>0</td>\n",
       "      <td>1.0</td>\n",
       "      <td>0.0</td>\n",
       "      <td>0.0</td>\n",
       "      <td>1.0</td>\n",
       "      <td>0.0</td>\n",
       "      <td>0.0</td>\n",
       "      <td>0.0</td>\n",
       "      <td>0.0</td>\n",
       "      <td>0.0</td>\n",
       "    </tr>\n",
       "    <tr>\n",
       "      <th>1</th>\n",
       "      <td>1</td>\n",
       "      <td>0.674891</td>\n",
       "      <td>0.786845</td>\n",
       "      <td>1</td>\n",
       "      <td>0</td>\n",
       "      <td>0</td>\n",
       "      <td>0</td>\n",
       "      <td>0</td>\n",
       "      <td>0.0</td>\n",
       "      <td>0.0</td>\n",
       "      <td>0.0</td>\n",
       "      <td>0.0</td>\n",
       "      <td>1.0</td>\n",
       "      <td>0.0</td>\n",
       "      <td>0.0</td>\n",
       "      <td>0.0</td>\n",
       "      <td>0.0</td>\n",
       "    </tr>\n",
       "    <tr>\n",
       "      <th>2</th>\n",
       "      <td>3</td>\n",
       "      <td>-0.231653</td>\n",
       "      <td>-0.488854</td>\n",
       "      <td>0</td>\n",
       "      <td>0</td>\n",
       "      <td>0</td>\n",
       "      <td>1</td>\n",
       "      <td>1</td>\n",
       "      <td>1.0</td>\n",
       "      <td>0.0</td>\n",
       "      <td>0.0</td>\n",
       "      <td>1.0</td>\n",
       "      <td>0.0</td>\n",
       "      <td>0.0</td>\n",
       "      <td>0.0</td>\n",
       "      <td>0.0</td>\n",
       "      <td>0.0</td>\n",
       "    </tr>\n",
       "    <tr>\n",
       "      <th>3</th>\n",
       "      <td>1</td>\n",
       "      <td>0.448255</td>\n",
       "      <td>0.420730</td>\n",
       "      <td>1</td>\n",
       "      <td>0</td>\n",
       "      <td>0</td>\n",
       "      <td>1</td>\n",
       "      <td>0</td>\n",
       "      <td>0.0</td>\n",
       "      <td>0.0</td>\n",
       "      <td>0.0</td>\n",
       "      <td>0.0</td>\n",
       "      <td>1.0</td>\n",
       "      <td>0.0</td>\n",
       "      <td>0.0</td>\n",
       "      <td>0.0</td>\n",
       "      <td>0.0</td>\n",
       "    </tr>\n",
       "    <tr>\n",
       "      <th>4</th>\n",
       "      <td>3</td>\n",
       "      <td>0.448255</td>\n",
       "      <td>-0.486337</td>\n",
       "      <td>0</td>\n",
       "      <td>1</td>\n",
       "      <td>0</td>\n",
       "      <td>1</td>\n",
       "      <td>0</td>\n",
       "      <td>1.0</td>\n",
       "      <td>0.0</td>\n",
       "      <td>0.0</td>\n",
       "      <td>0.0</td>\n",
       "      <td>1.0</td>\n",
       "      <td>0.0</td>\n",
       "      <td>0.0</td>\n",
       "      <td>0.0</td>\n",
       "      <td>0.0</td>\n",
       "    </tr>\n",
       "  </tbody>\n",
       "</table>\n",
       "</div>"
      ],
      "text/plain": [
       "   Pclass       Age      Fare  Family  male  Q  S  VIP  Multiple_cabins_0  \\\n",
       "0       3 -0.533834 -0.502445       1     1  0  1    0                1.0   \n",
       "1       1  0.674891  0.786845       1     0  0  0    0                0.0   \n",
       "2       3 -0.231653 -0.488854       0     0  0  1    1                1.0   \n",
       "3       1  0.448255  0.420730       1     0  0  1    0                0.0   \n",
       "4       3  0.448255 -0.486337       0     1  0  1    0                1.0   \n",
       "\n",
       "   age_groups_0-10  age_groups_11-20  age_groups_21-30  age_groups_31-40  \\\n",
       "0              0.0               0.0               1.0               0.0   \n",
       "1              0.0               0.0               0.0               1.0   \n",
       "2              0.0               0.0               1.0               0.0   \n",
       "3              0.0               0.0               0.0               1.0   \n",
       "4              0.0               0.0               0.0               1.0   \n",
       "\n",
       "   age_groups_41-50  age_groups_51-60  age_groups_61-70  age_groups_71-80  \n",
       "0               0.0               0.0               0.0               0.0  \n",
       "1               0.0               0.0               0.0               0.0  \n",
       "2               0.0               0.0               0.0               0.0  \n",
       "3               0.0               0.0               0.0               0.0  \n",
       "4               0.0               0.0               0.0               0.0  "
      ]
     },
     "execution_count": 159,
     "metadata": {},
     "output_type": "execute_result"
    }
   ],
   "source": [
    "X_train.head()"
   ]
  },
  {
   "cell_type": "code",
   "execution_count": 160,
   "id": "0a3eebbb-e25d-4fef-be61-df76c64cd666",
   "metadata": {},
   "outputs": [
    {
     "name": "stdout",
     "output_type": "stream",
     "text": [
      "<class 'pandas.core.frame.DataFrame'>\n",
      "RangeIndex: 891 entries, 0 to 890\n",
      "Data columns (total 17 columns):\n",
      " #   Column             Non-Null Count  Dtype  \n",
      "---  ------             --------------  -----  \n",
      " 0   Pclass             891 non-null    int64  \n",
      " 1   Age                891 non-null    float64\n",
      " 2   Fare               891 non-null    float64\n",
      " 3   Family             891 non-null    int64  \n",
      " 4   male               891 non-null    int32  \n",
      " 5   Q                  891 non-null    int32  \n",
      " 6   S                  891 non-null    int32  \n",
      " 7   VIP                891 non-null    int32  \n",
      " 8   Multiple_cabins_0  891 non-null    float64\n",
      " 9   age_groups_0-10    891 non-null    float64\n",
      " 10  age_groups_11-20   891 non-null    float64\n",
      " 11  age_groups_21-30   891 non-null    float64\n",
      " 12  age_groups_31-40   891 non-null    float64\n",
      " 13  age_groups_41-50   891 non-null    float64\n",
      " 14  age_groups_51-60   891 non-null    float64\n",
      " 15  age_groups_61-70   891 non-null    float64\n",
      " 16  age_groups_71-80   891 non-null    float64\n",
      "dtypes: float64(11), int32(4), int64(2)\n",
      "memory usage: 104.5 KB\n"
     ]
    }
   ],
   "source": [
    "X_train.info()"
   ]
  },
  {
   "cell_type": "markdown",
   "id": "83214a88-b1e7-4b52-98db-7afad1741dca",
   "metadata": {},
   "source": [
    "# Training models"
   ]
  },
  {
   "cell_type": "code",
   "execution_count": 161,
   "id": "9187e758-8506-4570-996e-11dfe70de3eb",
   "metadata": {},
   "outputs": [],
   "source": [
    "# Logistic regression\n",
    "from sklearn.model_selection import cross_val_score\n",
    "from sklearn.linear_model import LogisticRegression\n",
    "from sklearn.neighbors import KNeighborsClassifier\n",
    "from sklearn.tree import DecisionTreeClassifier\n",
    "from sklearn.svm import SVC\n",
    "from sklearn.tree import DecisionTreeClassifier"
   ]
  },
  {
   "cell_type": "code",
   "execution_count": 162,
   "id": "78ffaef2-14d6-4739-86ef-d79db8a9daf3",
   "metadata": {},
   "outputs": [],
   "source": [
    "log_reg = LogisticRegression()"
   ]
  },
  {
   "cell_type": "code",
   "execution_count": 163,
   "id": "d28161d2-6ba2-4a6f-8b56-a5357d1ea8f0",
   "metadata": {},
   "outputs": [],
   "source": [
    "log_crs_val_score = cross_val_score(log_reg, X_train, y_train, cv=5, scoring='accuracy')"
   ]
  },
  {
   "cell_type": "code",
   "execution_count": 164,
   "id": "dc1277b0-7d42-4bbf-af38-189c5930622c",
   "metadata": {},
   "outputs": [
    {
     "data": {
      "text/plain": [
       "0.8013370158809867"
      ]
     },
     "execution_count": 164,
     "metadata": {},
     "output_type": "execute_result"
    }
   ],
   "source": [
    "log_crs_val_score.mean()"
   ]
  },
  {
   "cell_type": "code",
   "execution_count": null,
   "id": "94005d47-8877-45c9-8c05-ad15001b3744",
   "metadata": {},
   "outputs": [],
   "source": []
  },
  {
   "cell_type": "code",
   "execution_count": null,
   "id": "308de8ed-6fac-4d80-bd5c-21109ab622e8",
   "metadata": {},
   "outputs": [],
   "source": []
  }
 ],
 "metadata": {
  "kernelspec": {
   "display_name": "Python 3 (ipykernel)",
   "language": "python",
   "name": "python3"
  },
  "language_info": {
   "codemirror_mode": {
    "name": "ipython",
    "version": 3
   },
   "file_extension": ".py",
   "mimetype": "text/x-python",
   "name": "python",
   "nbconvert_exporter": "python",
   "pygments_lexer": "ipython3",
   "version": "3.12.4"
  }
 },
 "nbformat": 4,
 "nbformat_minor": 5
}
